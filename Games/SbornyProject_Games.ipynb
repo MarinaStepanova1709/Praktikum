{
 "cells": [
  {
   "cell_type": "markdown",
   "metadata": {},
   "source": [
    "<div style=\"border:solid green 2px; padding: 20px\"> <h1 style=\"color:green; margin-bottom:20px\">Комментарий наставника</h1>\n",
    "\n",
    "Привет! Очень рад, что ты уже почти закончила 1 этап Практикума!) Спасибо, что сдала задание:) Ты проделала большую работу. Далее в файле мои комментарии ты сможешь найти в ячейках, аналогичных данной ( если рамки комментария зелёные - всё сделано правильно; жёлтые - есть замечания, но не критично; красные - нужно переделать). Не удаляй эти комментарии и постарайся учесть их в ходе выполнения проекта. \n",
    "\n",
    "</div>"
   ]
  },
  {
   "cell_type": "markdown",
   "metadata": {},
   "source": [
    "## Аналитика успешности игр 2016г\n",
    "\n",
    "Описание проекта:\n",
    "\n",
    "Интернет-магазин «Стримчик» продаёт по всему миру компьютерные игры. Из открытых источников доступны исторические данные о продажах игр, оценки пользователей и экспертов, жанры и платформы (например, Xbox или PlayStation). Вам нужно выявить определяющие успешность игры закономерности. Это позволит сделать ставку на потенциально популярный продукт и спланировать рекламные кампании.\n"
   ]
  },
  {
   "cell_type": "markdown",
   "metadata": {},
   "source": [
    "### Описание данных\n",
    "\n",
    "- Name — название игры\n",
    "- Platform — платформа\n",
    "- Year_of_Release — год выпуска\n",
    "- Genre — жанр игры\n",
    "- NA_sales — продажи в Северной Америке (миллионы долларов)\n",
    "- EU_sales — продажи в Европе (миллионы долларов)\n",
    "- JP_sales — продажи в Японии (миллионы долларов)\n",
    "- Other_sales — продажи в других странах (миллионы долларов)\n",
    "- Critic_Score — оценка критиков (максимум 100)\n",
    "- User_Score — оценка пользователей (максимум 10)\n",
    "- Rating — рейтинг от организации ESRB (англ. Entertainment Software Rating Board). Эта ассоциация определяет рейтинг компьютерных игр и присваивает им подходящую возрастную категорию."
   ]
  },
  {
   "cell_type": "markdown",
   "metadata": {},
   "source": [
    "В работе необходимо сделать следующие шаги:\n",
    "\n",
    "Шаг 1. Открыть файл с данными и изучить общую информацию\n",
    "Путь к файлу: /datasets/games.csv.\n",
    "\n",
    "Шаг 2. Подготовка данных  \n",
    "\n",
    "Привести названия столбцов к нижнему регистру;  \n",
    "Преобразовать данные в нужные типы.\n",
    "Обработать пропуски при необходимости.  \n",
    "Посчитать суммарные продажи во всех регионах.\n",
    "\n",
    "Шаг 3. Исследовательский анализ данных\n",
    "\n",
    "Изучить сколько игр выпускалось в разные годы, как менялись продажи по годам по платформам.  \n",
    "Определить характерный срок, за который появляются новые и исчезают старые платформы.  \n",
    "Нужно определить актуальный период и по данным за этот период проводить анализ. \n",
    "Определить, какие платформы лидируют по продажам, средние продажи на разных платформах.\n",
    "Оценить влияние на продажи внутри платформы отзывов пользователей и критиков. \n",
    "Посмотреть на общее распределение игр по жанрам. \n",
    "\n",
    "Шаг 4. Портрет пользователя каждого региона\n",
    "\n",
    "Определить самые популярные платформы, самые популярные жанры, продажи игр с классификацией по рейтингу ESRB\n",
    "\n",
    "Шаг 5. Проверка гипотез \n",
    "\n",
    "Средние пользовательские рейтинги платформ Xbox One и PC одинаковые.  \n",
    "Средние пользовательские рейтинги жанров Action (англ. «действие», экшен-игры) и Sports (англ. «спортивные соревнования») разные.\n",
    "\n",
    "Шаг 6. Напишите общий вывод"
   ]
  },
  {
   "cell_type": "code",
   "execution_count": 201,
   "metadata": {},
   "outputs": [],
   "source": [
    "# импорт необходимых библиотек\n",
    "import pandas as pd\n",
    "import matplotlib.pyplot as plt\n",
    "import numpy as np\n",
    "import math\n",
    "from scipy import stats as st \n"
   ]
  },
  {
   "cell_type": "code",
   "execution_count": 202,
   "metadata": {},
   "outputs": [
    {
     "data": {
      "text/html": [
       "<div>\n",
       "<style scoped>\n",
       "    .dataframe tbody tr th:only-of-type {\n",
       "        vertical-align: middle;\n",
       "    }\n",
       "\n",
       "    .dataframe tbody tr th {\n",
       "        vertical-align: top;\n",
       "    }\n",
       "\n",
       "    .dataframe thead th {\n",
       "        text-align: right;\n",
       "    }\n",
       "</style>\n",
       "<table border=\"1\" class=\"dataframe\">\n",
       "  <thead>\n",
       "    <tr style=\"text-align: right;\">\n",
       "      <th></th>\n",
       "      <th>Name</th>\n",
       "      <th>Platform</th>\n",
       "      <th>Year_of_Release</th>\n",
       "      <th>Genre</th>\n",
       "      <th>NA_sales</th>\n",
       "      <th>EU_sales</th>\n",
       "      <th>JP_sales</th>\n",
       "      <th>Other_sales</th>\n",
       "      <th>Critic_Score</th>\n",
       "      <th>User_Score</th>\n",
       "      <th>Rating</th>\n",
       "    </tr>\n",
       "  </thead>\n",
       "  <tbody>\n",
       "    <tr>\n",
       "      <td>0</td>\n",
       "      <td>Wii Sports</td>\n",
       "      <td>Wii</td>\n",
       "      <td>2006.0</td>\n",
       "      <td>Sports</td>\n",
       "      <td>41.36</td>\n",
       "      <td>28.96</td>\n",
       "      <td>3.77</td>\n",
       "      <td>8.45</td>\n",
       "      <td>76.0</td>\n",
       "      <td>8</td>\n",
       "      <td>E</td>\n",
       "    </tr>\n",
       "    <tr>\n",
       "      <td>1</td>\n",
       "      <td>Super Mario Bros.</td>\n",
       "      <td>NES</td>\n",
       "      <td>1985.0</td>\n",
       "      <td>Platform</td>\n",
       "      <td>29.08</td>\n",
       "      <td>3.58</td>\n",
       "      <td>6.81</td>\n",
       "      <td>0.77</td>\n",
       "      <td>NaN</td>\n",
       "      <td>NaN</td>\n",
       "      <td>NaN</td>\n",
       "    </tr>\n",
       "    <tr>\n",
       "      <td>2</td>\n",
       "      <td>Mario Kart Wii</td>\n",
       "      <td>Wii</td>\n",
       "      <td>2008.0</td>\n",
       "      <td>Racing</td>\n",
       "      <td>15.68</td>\n",
       "      <td>12.76</td>\n",
       "      <td>3.79</td>\n",
       "      <td>3.29</td>\n",
       "      <td>82.0</td>\n",
       "      <td>8.3</td>\n",
       "      <td>E</td>\n",
       "    </tr>\n",
       "    <tr>\n",
       "      <td>3</td>\n",
       "      <td>Wii Sports Resort</td>\n",
       "      <td>Wii</td>\n",
       "      <td>2009.0</td>\n",
       "      <td>Sports</td>\n",
       "      <td>15.61</td>\n",
       "      <td>10.93</td>\n",
       "      <td>3.28</td>\n",
       "      <td>2.95</td>\n",
       "      <td>80.0</td>\n",
       "      <td>8</td>\n",
       "      <td>E</td>\n",
       "    </tr>\n",
       "    <tr>\n",
       "      <td>4</td>\n",
       "      <td>Pokemon Red/Pokemon Blue</td>\n",
       "      <td>GB</td>\n",
       "      <td>1996.0</td>\n",
       "      <td>Role-Playing</td>\n",
       "      <td>11.27</td>\n",
       "      <td>8.89</td>\n",
       "      <td>10.22</td>\n",
       "      <td>1.00</td>\n",
       "      <td>NaN</td>\n",
       "      <td>NaN</td>\n",
       "      <td>NaN</td>\n",
       "    </tr>\n",
       "    <tr>\n",
       "      <td>5</td>\n",
       "      <td>Tetris</td>\n",
       "      <td>GB</td>\n",
       "      <td>1989.0</td>\n",
       "      <td>Puzzle</td>\n",
       "      <td>23.20</td>\n",
       "      <td>2.26</td>\n",
       "      <td>4.22</td>\n",
       "      <td>0.58</td>\n",
       "      <td>NaN</td>\n",
       "      <td>NaN</td>\n",
       "      <td>NaN</td>\n",
       "    </tr>\n",
       "    <tr>\n",
       "      <td>6</td>\n",
       "      <td>New Super Mario Bros.</td>\n",
       "      <td>DS</td>\n",
       "      <td>2006.0</td>\n",
       "      <td>Platform</td>\n",
       "      <td>11.28</td>\n",
       "      <td>9.14</td>\n",
       "      <td>6.50</td>\n",
       "      <td>2.88</td>\n",
       "      <td>89.0</td>\n",
       "      <td>8.5</td>\n",
       "      <td>E</td>\n",
       "    </tr>\n",
       "    <tr>\n",
       "      <td>7</td>\n",
       "      <td>Wii Play</td>\n",
       "      <td>Wii</td>\n",
       "      <td>2006.0</td>\n",
       "      <td>Misc</td>\n",
       "      <td>13.96</td>\n",
       "      <td>9.18</td>\n",
       "      <td>2.93</td>\n",
       "      <td>2.84</td>\n",
       "      <td>58.0</td>\n",
       "      <td>6.6</td>\n",
       "      <td>E</td>\n",
       "    </tr>\n",
       "    <tr>\n",
       "      <td>8</td>\n",
       "      <td>New Super Mario Bros. Wii</td>\n",
       "      <td>Wii</td>\n",
       "      <td>2009.0</td>\n",
       "      <td>Platform</td>\n",
       "      <td>14.44</td>\n",
       "      <td>6.94</td>\n",
       "      <td>4.70</td>\n",
       "      <td>2.24</td>\n",
       "      <td>87.0</td>\n",
       "      <td>8.4</td>\n",
       "      <td>E</td>\n",
       "    </tr>\n",
       "    <tr>\n",
       "      <td>9</td>\n",
       "      <td>Duck Hunt</td>\n",
       "      <td>NES</td>\n",
       "      <td>1984.0</td>\n",
       "      <td>Shooter</td>\n",
       "      <td>26.93</td>\n",
       "      <td>0.63</td>\n",
       "      <td>0.28</td>\n",
       "      <td>0.47</td>\n",
       "      <td>NaN</td>\n",
       "      <td>NaN</td>\n",
       "      <td>NaN</td>\n",
       "    </tr>\n",
       "  </tbody>\n",
       "</table>\n",
       "</div>"
      ],
      "text/plain": [
       "                        Name Platform  Year_of_Release         Genre  \\\n",
       "0                 Wii Sports      Wii           2006.0        Sports   \n",
       "1          Super Mario Bros.      NES           1985.0      Platform   \n",
       "2             Mario Kart Wii      Wii           2008.0        Racing   \n",
       "3          Wii Sports Resort      Wii           2009.0        Sports   \n",
       "4   Pokemon Red/Pokemon Blue       GB           1996.0  Role-Playing   \n",
       "5                     Tetris       GB           1989.0        Puzzle   \n",
       "6      New Super Mario Bros.       DS           2006.0      Platform   \n",
       "7                   Wii Play      Wii           2006.0          Misc   \n",
       "8  New Super Mario Bros. Wii      Wii           2009.0      Platform   \n",
       "9                  Duck Hunt      NES           1984.0       Shooter   \n",
       "\n",
       "   NA_sales  EU_sales  JP_sales  Other_sales  Critic_Score User_Score Rating  \n",
       "0     41.36     28.96      3.77         8.45          76.0          8      E  \n",
       "1     29.08      3.58      6.81         0.77           NaN        NaN    NaN  \n",
       "2     15.68     12.76      3.79         3.29          82.0        8.3      E  \n",
       "3     15.61     10.93      3.28         2.95          80.0          8      E  \n",
       "4     11.27      8.89     10.22         1.00           NaN        NaN    NaN  \n",
       "5     23.20      2.26      4.22         0.58           NaN        NaN    NaN  \n",
       "6     11.28      9.14      6.50         2.88          89.0        8.5      E  \n",
       "7     13.96      9.18      2.93         2.84          58.0        6.6      E  \n",
       "8     14.44      6.94      4.70         2.24          87.0        8.4      E  \n",
       "9     26.93      0.63      0.28         0.47           NaN        NaN    NaN  "
      ]
     },
     "execution_count": 202,
     "metadata": {},
     "output_type": "execute_result"
    }
   ],
   "source": [
    "games = pd.read_csv('/datasets/games.csv')\n",
    "games.head(10)"
   ]
  },
  {
   "cell_type": "markdown",
   "metadata": {},
   "source": [
    "Заменим названия столбцов\n"
   ]
  },
  {
   "cell_type": "code",
   "execution_count": 203,
   "metadata": {},
   "outputs": [
    {
     "data": {
      "text/plain": [
       "Index(['Name', 'Platform', 'Year_of_Release', 'Genre', 'NA_sales', 'EU_sales',\n",
       "       'JP_sales', 'Other_sales', 'Critic_Score', 'User_Score', 'Rating'],\n",
       "      dtype='object')"
      ]
     },
     "execution_count": 203,
     "metadata": {},
     "output_type": "execute_result"
    }
   ],
   "source": [
    "games.columns"
   ]
  },
  {
   "cell_type": "code",
   "execution_count": 204,
   "metadata": {},
   "outputs": [
    {
     "data": {
      "text/plain": [
       "Index(['name', 'platform', 'year_of_release', 'genre', 'na_sales', 'eu_sales',\n",
       "       'jp_sales', 'other_sales', 'critic_score', 'user_score', 'rating'],\n",
       "      dtype='object')"
      ]
     },
     "execution_count": 204,
     "metadata": {},
     "output_type": "execute_result"
    }
   ],
   "source": [
    "# присвоим новые названия столбцам\n",
    "games.set_axis(['name', 'platform', 'year_of_release', 'genre', 'na_sales', 'eu_sales',\n",
    "       'jp_sales', 'other_sales', 'critic_score', 'user_score', 'rating'],\n",
    "            axis ='columns', inplace = True)\n",
    "\n",
    "games.columns\n"
   ]
  },
  {
   "cell_type": "code",
   "execution_count": 205,
   "metadata": {},
   "outputs": [
    {
     "name": "stdout",
     "output_type": "stream",
     "text": [
      "<class 'pandas.core.frame.DataFrame'>\n",
      "RangeIndex: 16715 entries, 0 to 16714\n",
      "Data columns (total 11 columns):\n",
      "name               16713 non-null object\n",
      "platform           16715 non-null object\n",
      "year_of_release    16446 non-null float64\n",
      "genre              16713 non-null object\n",
      "na_sales           16715 non-null float64\n",
      "eu_sales           16715 non-null float64\n",
      "jp_sales           16715 non-null float64\n",
      "other_sales        16715 non-null float64\n",
      "critic_score       8137 non-null float64\n",
      "user_score         10014 non-null object\n",
      "rating             9949 non-null object\n",
      "dtypes: float64(6), object(5)\n",
      "memory usage: 1.4+ MB\n"
     ]
    }
   ],
   "source": [
    "# общая информация о таблице\n",
    "games.info()"
   ]
  },
  {
   "cell_type": "markdown",
   "metadata": {},
   "source": [
    "Следует провести подготовку данных:\n",
    "1. Заменить типы данных:  \n",
    " - year_of_release, critic_score  на \"int\" \n",
    " - user_score  на \"float\"\n",
    "2. Обработать пропуски в  столбцах \"name\", \"year_of_release\", \"critic_score\", \"user_score\"\n",
    "\n"
   ]
  },
  {
   "cell_type": "markdown",
   "metadata": {},
   "source": [
    "<div style=\"border:solid green 2px; padding: 20px\"> <h1 style=\"color:green; margin-bottom:20px\">Комментарий наставника</h1>\n",
    "    \n",
    "Отличное начало, радует,что проводишь первичный анализ полученных данных и пишешь выводы"
   ]
  },
  {
   "cell_type": "markdown",
   "metadata": {},
   "source": [
    "### Шаг2. Подготовка данных\n"
   ]
  },
  {
   "cell_type": "markdown",
   "metadata": {},
   "source": [
    "2.1.  Количество строк, с пропущенным годом выпуска 1.6% от общго числа строк, удалим их. Также удалим строки с неизвестными названиями игр, их всего 2 строки."
   ]
  },
  {
   "cell_type": "code",
   "execution_count": 206,
   "metadata": {},
   "outputs": [
    {
     "data": {
      "text/plain": [
       "0.01609332934489979"
      ]
     },
     "execution_count": 206,
     "metadata": {},
     "output_type": "execute_result"
    }
   ],
   "source": [
    "# Количество пропусков в  столбце \"year_of_release\"\n",
    "games['year_of_release'].isnull().sum()/len(games['year_of_release'])\n"
   ]
  },
  {
   "cell_type": "code",
   "execution_count": 207,
   "metadata": {},
   "outputs": [],
   "source": [
    "# удалим строки с неизвестными названиями игр\n",
    "games.dropna(subset=['name'], inplace = True)\n",
    "# удалим строки с неизвестным годом выпуска\n",
    "games.dropna(subset=['year_of_release'], inplace = True)"
   ]
  },
  {
   "cell_type": "markdown",
   "metadata": {},
   "source": [
    "2.2. Столбец user_score относится к типу \"object\" , хотя значения там должны быть вещественными, там встречается аббревиатура tbd (To be announced - будет аннонсировано), то есть рейтинг неизвестен. Заменим \"tbd\" на NaN , после этого приведем столбец к вещественному типу "
   ]
  },
  {
   "cell_type": "code",
   "execution_count": 208,
   "metadata": {},
   "outputs": [
    {
     "data": {
      "text/plain": [
       "tbd    2376\n",
       "7.8     322\n",
       "8       285\n",
       "8.2     276\n",
       "8.3     252\n",
       "Name: user_score, dtype: int64"
      ]
     },
     "execution_count": 208,
     "metadata": {},
     "output_type": "execute_result"
    }
   ],
   "source": [
    "# уникальные значения в столбце с пользовательским рейтингом, отсортированные по убыванию\n",
    "games['user_score'].value_counts().sort_values(ascending=False).head()"
   ]
  },
  {
   "cell_type": "code",
   "execution_count": 209,
   "metadata": {},
   "outputs": [
    {
     "data": {
      "text/plain": [
       "7.8    322\n",
       "8.0    285\n",
       "8.2    276\n",
       "8.3    252\n",
       "7.5    249\n",
       "Name: user_score, dtype: int64"
      ]
     },
     "execution_count": 209,
     "metadata": {},
     "output_type": "execute_result"
    }
   ],
   "source": [
    "# заменим \"tbd\" на NaN и приведем столбец к вещественному типу \n",
    "games['user_score'] = games['user_score'].apply(lambda x: np.nan if x == 'tbd' else x ).astype(float)\n",
    "# уникальные значения в столбце с пользовательским рейтингом\n",
    "games['user_score'].value_counts().sort_values(ascending=False).head()"
   ]
  },
  {
   "cell_type": "markdown",
   "metadata": {},
   "source": [
    "2.3. В столбце с рейтингом игр по мнению критиков  много пропусков, заменим эти значения на -10, чтобы не потерять эти строки"
   ]
  },
  {
   "cell_type": "code",
   "execution_count": 210,
   "metadata": {},
   "outputs": [],
   "source": [
    "# заполним пропуски в  значениями \"-10\"\n",
    "for col in ['critic_score']:\n",
    "    games[col] = games[col].fillna(-10)"
   ]
  },
  {
   "cell_type": "markdown",
   "metadata": {},
   "source": [
    "2.4. Заменим  тип данных в столбцах year_of_release, critic_score  на int"
   ]
  },
  {
   "cell_type": "code",
   "execution_count": 211,
   "metadata": {},
   "outputs": [],
   "source": [
    "games = games.assign(\n",
    "    critic_score = lambda x: x['critic_score'].astype('int64'),\n",
    "    year_of_release = lambda x: x['year_of_release'].astype('int64')    \n",
    ")\n"
   ]
  },
  {
   "cell_type": "markdown",
   "metadata": {},
   "source": [
    "2.5. Рейтинг игр ESRB :  \n",
    "«EC» («Early childhood») — «Для детей младшего возраста»  \n",
    "«E» («Everyone») — «Для всех», первоначально \"K-A\" (\"Kids to Adults\")  \n",
    "«E10+» («Everyone 10 and older») — «Для всех от 10 лет и старше»  \n",
    "«T» («Teen») — «Подросткам»  \n",
    "«M» («Mature») — «Для взрослых»  \n",
    "«AO» («Adults Only 18+») — «Только для взрослых»  \n",
    "«RP» («Rating Pending») — «Рейтинг ожидается»"
   ]
  },
  {
   "cell_type": "code",
   "execution_count": 212,
   "metadata": {},
   "outputs": [
    {
     "data": {
      "text/plain": [
       "AO         1\n",
       "RP         1\n",
       "K-A        3\n",
       "EC         8\n",
       "E10+    1393\n",
       "M       1536\n",
       "T       2905\n",
       "E       3921\n",
       "Name: rating, dtype: int64"
      ]
     },
     "execution_count": 212,
     "metadata": {},
     "output_type": "execute_result"
    }
   ],
   "source": [
    "games['rating'].value_counts().sort_values()"
   ]
  },
  {
   "cell_type": "markdown",
   "metadata": {},
   "source": [
    "Игры \"для всех\" первоночально имели рейтинг \"К-А\", позже его заменили на рейтинг \"Е\". В нашей таблице всего 3 таких строчки, заменим рейтинг на \"Е\""
   ]
  },
  {
   "cell_type": "code",
   "execution_count": 213,
   "metadata": {},
   "outputs": [],
   "source": [
    "# заменим рейтинг \"К-А\" на рейтинг \"Е\". \n",
    "games['rating'] = games['rating'].apply(lambda x: 'E' if x == 'K-A' else x )\n"
   ]
  },
  {
   "cell_type": "markdown",
   "metadata": {},
   "source": [
    "2.6. Посчитаем суммарные продажи во всех регионах и запишем их в отдельный столбец."
   ]
  },
  {
   "cell_type": "code",
   "execution_count": 214,
   "metadata": {},
   "outputs": [
    {
     "data": {
      "text/html": [
       "<div>\n",
       "<style scoped>\n",
       "    .dataframe tbody tr th:only-of-type {\n",
       "        vertical-align: middle;\n",
       "    }\n",
       "\n",
       "    .dataframe tbody tr th {\n",
       "        vertical-align: top;\n",
       "    }\n",
       "\n",
       "    .dataframe thead th {\n",
       "        text-align: right;\n",
       "    }\n",
       "</style>\n",
       "<table border=\"1\" class=\"dataframe\">\n",
       "  <thead>\n",
       "    <tr style=\"text-align: right;\">\n",
       "      <th></th>\n",
       "      <th>name</th>\n",
       "      <th>platform</th>\n",
       "      <th>year_of_release</th>\n",
       "      <th>genre</th>\n",
       "      <th>na_sales</th>\n",
       "      <th>eu_sales</th>\n",
       "      <th>jp_sales</th>\n",
       "      <th>other_sales</th>\n",
       "      <th>critic_score</th>\n",
       "      <th>user_score</th>\n",
       "      <th>rating</th>\n",
       "      <th>total_sales</th>\n",
       "    </tr>\n",
       "  </thead>\n",
       "  <tbody>\n",
       "    <tr>\n",
       "      <td>0</td>\n",
       "      <td>Wii Sports</td>\n",
       "      <td>Wii</td>\n",
       "      <td>2006</td>\n",
       "      <td>Sports</td>\n",
       "      <td>41.36</td>\n",
       "      <td>28.96</td>\n",
       "      <td>3.77</td>\n",
       "      <td>8.45</td>\n",
       "      <td>76</td>\n",
       "      <td>8.0</td>\n",
       "      <td>E</td>\n",
       "      <td>82.54</td>\n",
       "    </tr>\n",
       "    <tr>\n",
       "      <td>1</td>\n",
       "      <td>Super Mario Bros.</td>\n",
       "      <td>NES</td>\n",
       "      <td>1985</td>\n",
       "      <td>Platform</td>\n",
       "      <td>29.08</td>\n",
       "      <td>3.58</td>\n",
       "      <td>6.81</td>\n",
       "      <td>0.77</td>\n",
       "      <td>-10</td>\n",
       "      <td>NaN</td>\n",
       "      <td>NaN</td>\n",
       "      <td>40.24</td>\n",
       "    </tr>\n",
       "    <tr>\n",
       "      <td>2</td>\n",
       "      <td>Mario Kart Wii</td>\n",
       "      <td>Wii</td>\n",
       "      <td>2008</td>\n",
       "      <td>Racing</td>\n",
       "      <td>15.68</td>\n",
       "      <td>12.76</td>\n",
       "      <td>3.79</td>\n",
       "      <td>3.29</td>\n",
       "      <td>82</td>\n",
       "      <td>8.3</td>\n",
       "      <td>E</td>\n",
       "      <td>35.52</td>\n",
       "    </tr>\n",
       "    <tr>\n",
       "      <td>3</td>\n",
       "      <td>Wii Sports Resort</td>\n",
       "      <td>Wii</td>\n",
       "      <td>2009</td>\n",
       "      <td>Sports</td>\n",
       "      <td>15.61</td>\n",
       "      <td>10.93</td>\n",
       "      <td>3.28</td>\n",
       "      <td>2.95</td>\n",
       "      <td>80</td>\n",
       "      <td>8.0</td>\n",
       "      <td>E</td>\n",
       "      <td>32.77</td>\n",
       "    </tr>\n",
       "    <tr>\n",
       "      <td>4</td>\n",
       "      <td>Pokemon Red/Pokemon Blue</td>\n",
       "      <td>GB</td>\n",
       "      <td>1996</td>\n",
       "      <td>Role-Playing</td>\n",
       "      <td>11.27</td>\n",
       "      <td>8.89</td>\n",
       "      <td>10.22</td>\n",
       "      <td>1.00</td>\n",
       "      <td>-10</td>\n",
       "      <td>NaN</td>\n",
       "      <td>NaN</td>\n",
       "      <td>31.38</td>\n",
       "    </tr>\n",
       "    <tr>\n",
       "      <td>5</td>\n",
       "      <td>Tetris</td>\n",
       "      <td>GB</td>\n",
       "      <td>1989</td>\n",
       "      <td>Puzzle</td>\n",
       "      <td>23.20</td>\n",
       "      <td>2.26</td>\n",
       "      <td>4.22</td>\n",
       "      <td>0.58</td>\n",
       "      <td>-10</td>\n",
       "      <td>NaN</td>\n",
       "      <td>NaN</td>\n",
       "      <td>30.26</td>\n",
       "    </tr>\n",
       "    <tr>\n",
       "      <td>6</td>\n",
       "      <td>New Super Mario Bros.</td>\n",
       "      <td>DS</td>\n",
       "      <td>2006</td>\n",
       "      <td>Platform</td>\n",
       "      <td>11.28</td>\n",
       "      <td>9.14</td>\n",
       "      <td>6.50</td>\n",
       "      <td>2.88</td>\n",
       "      <td>89</td>\n",
       "      <td>8.5</td>\n",
       "      <td>E</td>\n",
       "      <td>29.80</td>\n",
       "    </tr>\n",
       "    <tr>\n",
       "      <td>7</td>\n",
       "      <td>Wii Play</td>\n",
       "      <td>Wii</td>\n",
       "      <td>2006</td>\n",
       "      <td>Misc</td>\n",
       "      <td>13.96</td>\n",
       "      <td>9.18</td>\n",
       "      <td>2.93</td>\n",
       "      <td>2.84</td>\n",
       "      <td>58</td>\n",
       "      <td>6.6</td>\n",
       "      <td>E</td>\n",
       "      <td>28.91</td>\n",
       "    </tr>\n",
       "    <tr>\n",
       "      <td>8</td>\n",
       "      <td>New Super Mario Bros. Wii</td>\n",
       "      <td>Wii</td>\n",
       "      <td>2009</td>\n",
       "      <td>Platform</td>\n",
       "      <td>14.44</td>\n",
       "      <td>6.94</td>\n",
       "      <td>4.70</td>\n",
       "      <td>2.24</td>\n",
       "      <td>87</td>\n",
       "      <td>8.4</td>\n",
       "      <td>E</td>\n",
       "      <td>28.32</td>\n",
       "    </tr>\n",
       "    <tr>\n",
       "      <td>9</td>\n",
       "      <td>Duck Hunt</td>\n",
       "      <td>NES</td>\n",
       "      <td>1984</td>\n",
       "      <td>Shooter</td>\n",
       "      <td>26.93</td>\n",
       "      <td>0.63</td>\n",
       "      <td>0.28</td>\n",
       "      <td>0.47</td>\n",
       "      <td>-10</td>\n",
       "      <td>NaN</td>\n",
       "      <td>NaN</td>\n",
       "      <td>28.31</td>\n",
       "    </tr>\n",
       "  </tbody>\n",
       "</table>\n",
       "</div>"
      ],
      "text/plain": [
       "                        name platform  year_of_release         genre  \\\n",
       "0                 Wii Sports      Wii             2006        Sports   \n",
       "1          Super Mario Bros.      NES             1985      Platform   \n",
       "2             Mario Kart Wii      Wii             2008        Racing   \n",
       "3          Wii Sports Resort      Wii             2009        Sports   \n",
       "4   Pokemon Red/Pokemon Blue       GB             1996  Role-Playing   \n",
       "5                     Tetris       GB             1989        Puzzle   \n",
       "6      New Super Mario Bros.       DS             2006      Platform   \n",
       "7                   Wii Play      Wii             2006          Misc   \n",
       "8  New Super Mario Bros. Wii      Wii             2009      Platform   \n",
       "9                  Duck Hunt      NES             1984       Shooter   \n",
       "\n",
       "   na_sales  eu_sales  jp_sales  other_sales  critic_score  user_score rating  \\\n",
       "0     41.36     28.96      3.77         8.45            76         8.0      E   \n",
       "1     29.08      3.58      6.81         0.77           -10         NaN    NaN   \n",
       "2     15.68     12.76      3.79         3.29            82         8.3      E   \n",
       "3     15.61     10.93      3.28         2.95            80         8.0      E   \n",
       "4     11.27      8.89     10.22         1.00           -10         NaN    NaN   \n",
       "5     23.20      2.26      4.22         0.58           -10         NaN    NaN   \n",
       "6     11.28      9.14      6.50         2.88            89         8.5      E   \n",
       "7     13.96      9.18      2.93         2.84            58         6.6      E   \n",
       "8     14.44      6.94      4.70         2.24            87         8.4      E   \n",
       "9     26.93      0.63      0.28         0.47           -10         NaN    NaN   \n",
       "\n",
       "   total_sales  \n",
       "0        82.54  \n",
       "1        40.24  \n",
       "2        35.52  \n",
       "3        32.77  \n",
       "4        31.38  \n",
       "5        30.26  \n",
       "6        29.80  \n",
       "7        28.91  \n",
       "8        28.32  \n",
       "9        28.31  "
      ]
     },
     "execution_count": 214,
     "metadata": {},
     "output_type": "execute_result"
    }
   ],
   "source": [
    "# новый столбец \"total_sales\" равен сумме продаж по регионам NA, EU, JP и other\n",
    "games = games.assign(total_sales = lambda x:\n",
    "                     x['na_sales'] + x['eu_sales'] + x['jp_sales']+ x['other_sales'])\n",
    "games.head(10)"
   ]
  },
  {
   "cell_type": "markdown",
   "metadata": {},
   "source": [
    "2.7. Посмотрим есть ли дупликаты в таблице."
   ]
  },
  {
   "cell_type": "code",
   "execution_count": 215,
   "metadata": {},
   "outputs": [
    {
     "data": {
      "text/plain": [
       "0"
      ]
     },
     "execution_count": 215,
     "metadata": {},
     "output_type": "execute_result"
    }
   ],
   "source": [
    "# количество дупликатов\n",
    "games.duplicated().sum()"
   ]
  },
  {
   "cell_type": "markdown",
   "metadata": {},
   "source": [
    "### Вывод\n",
    "В ходе предобработки данных были удалены строки с пропущенным годом выпуска (1.6% от общго числа строк) и строки с неизвестными названиями игр. Столбец 'user_score' приведен к вещественному типу, при этом \"tbd\" заменены на NaN.  Заменен тип данных на int в столбцах year_of_release, critic_score (пропуски в \"critic_score\"заменены  на -10)  \n",
    "В отдельный столбец \"total_sales\" записаны суммарные продажи во всех регионах."
   ]
  },
  {
   "cell_type": "markdown",
   "metadata": {},
   "source": [
    "<div style=\"border:solid green 2px; padding: 20px\"> <h1 style=\"color:green; margin-bottom:20px\">Комментарий наставника</h1>\n",
    "    \n",
    "Данные предобработали и разобрались с неточностями, отлично, можно приступать и к анализу"
   ]
  },
  {
   "cell_type": "markdown",
   "metadata": {},
   "source": [
    "### Шаг 3. Исследовательский анализ данных\n",
    "3.1 Посмотрим, сколько игр выпускалось в разные годы. Важны ли данные за все периоды?"
   ]
  },
  {
   "cell_type": "code",
   "execution_count": 216,
   "metadata": {},
   "outputs": [
    {
     "data": {
      "text/html": [
       "<div>\n",
       "<style scoped>\n",
       "    .dataframe tbody tr th:only-of-type {\n",
       "        vertical-align: middle;\n",
       "    }\n",
       "\n",
       "    .dataframe tbody tr th {\n",
       "        vertical-align: top;\n",
       "    }\n",
       "\n",
       "    .dataframe thead th {\n",
       "        text-align: right;\n",
       "    }\n",
       "</style>\n",
       "<table border=\"1\" class=\"dataframe\">\n",
       "  <thead>\n",
       "    <tr style=\"text-align: right;\">\n",
       "      <th></th>\n",
       "      <th>count_game</th>\n",
       "    </tr>\n",
       "    <tr>\n",
       "      <th>year_of_release</th>\n",
       "      <th></th>\n",
       "    </tr>\n",
       "  </thead>\n",
       "  <tbody>\n",
       "    <tr>\n",
       "      <td>2008</td>\n",
       "      <td>1427</td>\n",
       "    </tr>\n",
       "    <tr>\n",
       "      <td>2009</td>\n",
       "      <td>1426</td>\n",
       "    </tr>\n",
       "    <tr>\n",
       "      <td>2010</td>\n",
       "      <td>1255</td>\n",
       "    </tr>\n",
       "    <tr>\n",
       "      <td>2007</td>\n",
       "      <td>1197</td>\n",
       "    </tr>\n",
       "    <tr>\n",
       "      <td>2011</td>\n",
       "      <td>1136</td>\n",
       "    </tr>\n",
       "    <tr>\n",
       "      <td>2006</td>\n",
       "      <td>1006</td>\n",
       "    </tr>\n",
       "    <tr>\n",
       "      <td>2005</td>\n",
       "      <td>939</td>\n",
       "    </tr>\n",
       "    <tr>\n",
       "      <td>2002</td>\n",
       "      <td>829</td>\n",
       "    </tr>\n",
       "    <tr>\n",
       "      <td>2003</td>\n",
       "      <td>775</td>\n",
       "    </tr>\n",
       "    <tr>\n",
       "      <td>2004</td>\n",
       "      <td>762</td>\n",
       "    </tr>\n",
       "  </tbody>\n",
       "</table>\n",
       "</div>"
      ],
      "text/plain": [
       "                 count_game\n",
       "year_of_release            \n",
       "2008                   1427\n",
       "2009                   1426\n",
       "2010                   1255\n",
       "2007                   1197\n",
       "2011                   1136\n",
       "2006                   1006\n",
       "2005                    939\n",
       "2002                    829\n",
       "2003                    775\n",
       "2004                    762"
      ]
     },
     "execution_count": 216,
     "metadata": {},
     "output_type": "execute_result"
    },
    {
     "data": {
      "image/png": "[encoded data removed]",
      "text/plain": [
       "<Figure size 432x288 with 1 Axes>"
      ]
     },
     "metadata": {
      "needs_background": "light"
     },
     "output_type": "display_data"
    }
   ],
   "source": [
    "# гистограмма по количеству игр в разные годы\n",
    "games.hist('year_of_release', bins=37, grid=True)\n",
    "\n",
    "# таблица по количеству игр, выходивших в год \n",
    "games.groupby('year_of_release').agg(count_game=('name','count'))\\\n",
    ".sort_values('count_game',ascending=False).head(10)\n"
   ]
  },
  {
   "cell_type": "markdown",
   "metadata": {},
   "source": [
    "<div style=\"border:solid orange 2px; padding: 20px\"> <h1 style=\"color:orange; margin-bottom:20px\">Комментарий наставника</h1>\n",
    "    \n",
    "Абсолютно не понятно, что за зависимость изображена на графике, никогда не забывай подписывать оси на графиках и сам график"
   ]
  },
  {
   "cell_type": "code",
   "execution_count": 217,
   "metadata": {},
   "outputs": [
    {
     "data": {
      "text/plain": [
       "<matplotlib.axes._subplots.AxesSubplot at 0x7f7758fe5b50>"
      ]
     },
     "execution_count": 217,
     "metadata": {},
     "output_type": "execute_result"
    },
    {
     "data": {
      "image/png": "[encoded data removed]",
      "text/plain": [
       "<Figure size 432x288 with 1 Axes>"
      ]
     },
     "metadata": {
      "needs_background": "light"
     },
     "output_type": "display_data"
    }
   ],
   "source": [
    "games.boxplot('year_of_release')"
   ]
  },
  {
   "cell_type": "markdown",
   "metadata": {},
   "source": [
    "Больше всего выпускалось игр в 2007-2011 годах, к 2016 году их количество падает. До 1993 года выпускалось очень мало игр, рассмтривать этот период не информативно."
   ]
  },
  {
   "cell_type": "markdown",
   "metadata": {},
   "source": [
    "#### 3.2. Посмотрим, как менялись продажи по платформам. Выберем платформы с наибольшими суммарными продажами и построим распределение по годам. Найдем характерный срок, когда появляются новые и исчезают старые платформы."
   ]
  },
  {
   "cell_type": "code",
   "execution_count": 218,
   "metadata": {},
   "outputs": [
    {
     "data": {
      "text/html": [
       "<div>\n",
       "<style scoped>\n",
       "    .dataframe tbody tr th:only-of-type {\n",
       "        vertical-align: middle;\n",
       "    }\n",
       "\n",
       "    .dataframe tbody tr th {\n",
       "        vertical-align: top;\n",
       "    }\n",
       "\n",
       "    .dataframe thead th {\n",
       "        text-align: right;\n",
       "    }\n",
       "</style>\n",
       "<table border=\"1\" class=\"dataframe\">\n",
       "  <thead>\n",
       "    <tr style=\"text-align: right;\">\n",
       "      <th></th>\n",
       "      <th>total_sales</th>\n",
       "    </tr>\n",
       "    <tr>\n",
       "      <th>platform</th>\n",
       "      <th></th>\n",
       "    </tr>\n",
       "  </thead>\n",
       "  <tbody>\n",
       "    <tr>\n",
       "      <td>PS2</td>\n",
       "      <td>1233.56</td>\n",
       "    </tr>\n",
       "    <tr>\n",
       "      <td>X360</td>\n",
       "      <td>961.24</td>\n",
       "    </tr>\n",
       "    <tr>\n",
       "      <td>PS3</td>\n",
       "      <td>931.34</td>\n",
       "    </tr>\n",
       "    <tr>\n",
       "      <td>Wii</td>\n",
       "      <td>891.18</td>\n",
       "    </tr>\n",
       "    <tr>\n",
       "      <td>DS</td>\n",
       "      <td>802.78</td>\n",
       "    </tr>\n",
       "    <tr>\n",
       "      <td>PS</td>\n",
       "      <td>727.58</td>\n",
       "    </tr>\n",
       "    <tr>\n",
       "      <td>PS4</td>\n",
       "      <td>314.14</td>\n",
       "    </tr>\n",
       "    <tr>\n",
       "      <td>GBA</td>\n",
       "      <td>312.88</td>\n",
       "    </tr>\n",
       "    <tr>\n",
       "      <td>PSP</td>\n",
       "      <td>289.53</td>\n",
       "    </tr>\n",
       "    <tr>\n",
       "      <td>3DS</td>\n",
       "      <td>257.81</td>\n",
       "    </tr>\n",
       "  </tbody>\n",
       "</table>\n",
       "</div>"
      ],
      "text/plain": [
       "          total_sales\n",
       "platform             \n",
       "PS2           1233.56\n",
       "X360           961.24\n",
       "PS3            931.34\n",
       "Wii            891.18\n",
       "DS             802.78\n",
       "PS             727.58\n",
       "PS4            314.14\n",
       "GBA            312.88\n",
       "PSP            289.53\n",
       "3DS            257.81"
      ]
     },
     "execution_count": 218,
     "metadata": {},
     "output_type": "execute_result"
    }
   ],
   "source": [
    "# сгруппируем таблицу по платформам , посчитаем суммарные продажи, отсортируем по убыванию\n",
    "# и выберем первые 10 платформ с самыми большими продажами\n",
    "top_platform = games.groupby('platform').agg(total_sales=('total_sales','sum'))\\\n",
    ".sort_values('total_sales',ascending=False).head(10)\n",
    "top_platform"
   ]
  },
  {
   "cell_type": "code",
   "execution_count": 219,
   "metadata": {},
   "outputs": [
    {
     "data": {
      "text/plain": [
       "Index(['PS2', 'X360', 'PS3', 'Wii', 'DS', 'PS', 'PS4', 'GBA', 'PSP', '3DS'], dtype='object', name='platform')"
      ]
     },
     "execution_count": 219,
     "metadata": {},
     "output_type": "execute_result"
    }
   ],
   "source": [
    "top_platform.index"
   ]
  },
  {
   "cell_type": "code",
   "execution_count": 220,
   "metadata": {},
   "outputs": [
    {
     "data": {
      "text/html": [
       "<div>\n",
       "<style scoped>\n",
       "    .dataframe tbody tr th:only-of-type {\n",
       "        vertical-align: middle;\n",
       "    }\n",
       "\n",
       "    .dataframe tbody tr th {\n",
       "        vertical-align: top;\n",
       "    }\n",
       "\n",
       "    .dataframe thead th {\n",
       "        text-align: right;\n",
       "    }\n",
       "</style>\n",
       "<table border=\"1\" class=\"dataframe\">\n",
       "  <thead>\n",
       "    <tr style=\"text-align: right;\">\n",
       "      <th></th>\n",
       "      <th>platform</th>\n",
       "      <th>year_of_release</th>\n",
       "      <th>total_sales</th>\n",
       "    </tr>\n",
       "  </thead>\n",
       "  <tbody>\n",
       "    <tr>\n",
       "      <td>0</td>\n",
       "      <td>3DS</td>\n",
       "      <td>2011</td>\n",
       "      <td>63.20</td>\n",
       "    </tr>\n",
       "    <tr>\n",
       "      <td>1</td>\n",
       "      <td>3DS</td>\n",
       "      <td>2012</td>\n",
       "      <td>51.36</td>\n",
       "    </tr>\n",
       "    <tr>\n",
       "      <td>2</td>\n",
       "      <td>3DS</td>\n",
       "      <td>2013</td>\n",
       "      <td>56.57</td>\n",
       "    </tr>\n",
       "    <tr>\n",
       "      <td>3</td>\n",
       "      <td>3DS</td>\n",
       "      <td>2014</td>\n",
       "      <td>43.76</td>\n",
       "    </tr>\n",
       "    <tr>\n",
       "      <td>4</td>\n",
       "      <td>3DS</td>\n",
       "      <td>2015</td>\n",
       "      <td>27.78</td>\n",
       "    </tr>\n",
       "    <tr>\n",
       "      <td>...</td>\n",
       "      <td>...</td>\n",
       "      <td>...</td>\n",
       "      <td>...</td>\n",
       "    </tr>\n",
       "    <tr>\n",
       "      <td>92</td>\n",
       "      <td>X360</td>\n",
       "      <td>2012</td>\n",
       "      <td>99.74</td>\n",
       "    </tr>\n",
       "    <tr>\n",
       "      <td>93</td>\n",
       "      <td>X360</td>\n",
       "      <td>2013</td>\n",
       "      <td>88.58</td>\n",
       "    </tr>\n",
       "    <tr>\n",
       "      <td>94</td>\n",
       "      <td>X360</td>\n",
       "      <td>2014</td>\n",
       "      <td>34.74</td>\n",
       "    </tr>\n",
       "    <tr>\n",
       "      <td>95</td>\n",
       "      <td>X360</td>\n",
       "      <td>2015</td>\n",
       "      <td>11.96</td>\n",
       "    </tr>\n",
       "    <tr>\n",
       "      <td>96</td>\n",
       "      <td>X360</td>\n",
       "      <td>2016</td>\n",
       "      <td>1.52</td>\n",
       "    </tr>\n",
       "  </tbody>\n",
       "</table>\n",
       "<p>97 rows × 3 columns</p>\n",
       "</div>"
      ],
      "text/plain": [
       "   platform  year_of_release  total_sales\n",
       "0       3DS             2011        63.20\n",
       "1       3DS             2012        51.36\n",
       "2       3DS             2013        56.57\n",
       "3       3DS             2014        43.76\n",
       "4       3DS             2015        27.78\n",
       "..      ...              ...          ...\n",
       "92     X360             2012        99.74\n",
       "93     X360             2013        88.58\n",
       "94     X360             2014        34.74\n",
       "95     X360             2015        11.96\n",
       "96     X360             2016         1.52\n",
       "\n",
       "[97 rows x 3 columns]"
      ]
     },
     "execution_count": 220,
     "metadata": {},
     "output_type": "execute_result"
    }
   ],
   "source": [
    "# Выберем платформы из таблицы top_platform и посчитаем суммарные продажи по платформам и годам\n",
    "games_grouped_by_platform_and_years = games.query('platform in @top_platform.index')\\\n",
    ".groupby(['platform', 'year_of_release'])\\\n",
    ".agg(total_sales=('total_sales','sum')).reset_index()\n",
    "\n",
    "games_grouped_by_platform_and_years"
   ]
  },
  {
   "cell_type": "markdown",
   "metadata": {},
   "source": [
    "Построим распределение по годам"
   ]
  },
  {
   "cell_type": "code",
   "execution_count": 221,
   "metadata": {},
   "outputs": [
    {
     "data": {
      "image/png": "[encoded data removed]",
      "text/plain": [
       "<Figure size 432x288 with 1 Axes>"
      ]
     },
     "metadata": {
      "needs_background": "light"
     },
     "output_type": "display_data"
    },
    {
     "data": {
      "image/png": "[encoded data removed]",
      "text/plain": [
       "<Figure size 432x288 with 1 Axes>"
      ]
     },
     "metadata": {
      "needs_background": "light"
     },
     "output_type": "display_data"
    },
    {
     "data": {
      "image/png": "[encoded data removed]",
      "text/plain": [
       "<Figure size 432x288 with 1 Axes>"
      ]
     },
     "metadata": {
      "needs_background": "light"
     },
     "output_type": "display_data"
    },
    {
     "data": {
      "image/png": "[encoded data removed]",
      "text/plain": [
       "<Figure size 432x288 with 1 Axes>"
      ]
     },
     "metadata": {
      "needs_background": "light"
     },
     "output_type": "display_data"
    },
    {
     "data": {
      "image/png": "[encoded data removed]",
      "text/plain": [
       "<Figure size 432x288 with 1 Axes>"
      ]
     },
     "metadata": {
      "needs_background": "light"
     },
     "output_type": "display_data"
    },
    {
     "data": {
      "image/png": "[encoded data removed]",
      "text/plain": [
       "<Figure size 432x288 with 1 Axes>"
      ]
     },
     "metadata": {
      "needs_background": "light"
     },
     "output_type": "display_data"
    },
    {
     "data": {
      "image/png": "[encoded data removed]",
      "text/plain": [
       "<Figure size 432x288 with 1 Axes>"
      ]
     },
     "metadata": {
      "needs_background": "light"
     },
     "output_type": "display_data"
    },
    {
     "data": {
      "image/png": "[encoded data removed]",
      "text/plain": [
       "<Figure size 432x288 with 1 Axes>"
      ]
     },
     "metadata": {
      "needs_background": "light"
     },
     "output_type": "display_data"
    },
    {
     "data": {
      "image/png": "[encoded data removed]",
      "text/plain": [
       "<Figure size 432x288 with 1 Axes>"
      ]
     },
     "metadata": {
      "needs_background": "light"
     },
     "output_type": "display_data"
    },
    {
     "data": {
      "image/png": "[encoded data removed]",
      "text/plain": [
       "<Figure size 432x288 with 1 Axes>"
      ]
     },
     "metadata": {
      "needs_background": "light"
     },
     "output_type": "display_data"
    }
   ],
   "source": [
    "\n",
    "    \n",
    "# для каждой коммерчески удачной платформы (из top_platform.index) \n",
    "# построим диаграмму суммарной выручки по годам \n",
    "for col in top_platform.index:\n",
    "     games_grouped_by_platform_and_years[games_grouped_by_platform_and_years['platform'] == col]\\\n",
    "    .plot(kind='bar',x='year_of_release', y='total_sales', label=col, grid=True )\n",
    "plt.show()\n",
    "\n"
   ]
  },
  {
   "cell_type": "markdown",
   "metadata": {},
   "source": [
    "<div style=\"border:solid orange 2px; padding: 20px\"> <h1 style=\"color:orange; margin-bottom:20px\">Комментарий наставника</h1>\n",
    "    \n",
    "Тут можно было бы все визуализации объединить и отразить на одной картинке, было бы нагляднее сравнивать платформы"
   ]
  },
  {
   "cell_type": "markdown",
   "metadata": {},
   "source": [
    "Из графиков распределения по годам для платформ с самой большой выручкой видно, что появляются новые и исчезают старые платформы в течение 10-11 лет, причем первые 5-6 лет выручка растет, а затем к 10-11 году падает до нуля. \n"
   ]
  },
  {
   "cell_type": "markdown",
   "metadata": {},
   "source": [
    "### Для дальнейшего анализа возьмем данные за предыдущие 5 лет - с 2012 по 2016 года\n",
    "В будущем будем использовать для анализа данные только по  этим годам"
   ]
  },
  {
   "cell_type": "markdown",
   "metadata": {},
   "source": [
    " #### 3.3. Посмотрим, какие платформы лидируют по продажам, растут или падают. Выберем несколько потенциально прибыльных платформ."
   ]
  },
  {
   "cell_type": "code",
   "execution_count": 222,
   "metadata": {},
   "outputs": [
    {
     "data": {
      "text/plain": [
       "Index(['PS4', 'XOne', 'PSV', 'PC', '3DS', 'PS3', 'WiiU', 'X360', 'Wii'], dtype='object')"
      ]
     },
     "execution_count": 222,
     "metadata": {},
     "output_type": "execute_result"
    }
   ],
   "source": [
    "# создадим список платформ, которые ещё существовали в 2016 году\n",
    "platforms = games.query('year_of_release == 2016')['platform'].value_counts().index\n",
    "platforms"
   ]
  },
  {
   "cell_type": "code",
   "execution_count": 223,
   "metadata": {},
   "outputs": [],
   "source": [
    "# данные по играм за 2012 - 2016 года запишем в новый датасет \"games_last_years\"\n",
    "games_last_years = games.query('year_of_release >= 2012 & platform in @platforms')\n",
    "# games_last_years"
   ]
  },
  {
   "cell_type": "code",
   "execution_count": 224,
   "metadata": {},
   "outputs": [],
   "source": [
    "# сгруппируем игры по платформам, затем по суммарной годовой выручке\n",
    "games_last_years_group = games_last_years.groupby(['platform', 'year_of_release'])\\\n",
    ".agg(total_sales=('total_sales','sum')).reset_index()\n",
    "# games_last_years_group"
   ]
  },
  {
   "cell_type": "code",
   "execution_count": 225,
   "metadata": {},
   "outputs": [
    {
     "data": {
      "image/png": "[encoded data removed]",
      "text/plain": [
       "<Figure size 432x288 with 1 Axes>"
      ]
     },
     "metadata": {
      "needs_background": "light"
     },
     "output_type": "display_data"
    },
    {
     "data": {
      "image/png": "[encoded data removed]",
      "text/plain": [
       "<Figure size 432x288 with 1 Axes>"
      ]
     },
     "metadata": {
      "needs_background": "light"
     },
     "output_type": "display_data"
    },
    {
     "data": {
      "image/png": "[encoded data removed]",
      "text/plain": [
       "<Figure size 432x288 with 1 Axes>"
      ]
     },
     "metadata": {
      "needs_background": "light"
     },
     "output_type": "display_data"
    },
    {
     "data": {
      "image/png": "[encoded data removed]",
      "text/plain": [
       "<Figure size 432x288 with 1 Axes>"
      ]
     },
     "metadata": {
      "needs_background": "light"
     },
     "output_type": "display_data"
    },
    {
     "data": {
      "image/png": "[encoded data removed]",
      "text/plain": [
       "<Figure size 432x288 with 1 Axes>"
      ]
     },
     "metadata": {
      "needs_background": "light"
     },
     "output_type": "display_data"
    },
    {
     "data": {
      "image/png": "[encoded data removed]",
      "text/plain": [
       "<Figure size 432x288 with 1 Axes>"
      ]
     },
     "metadata": {
      "needs_background": "light"
     },
     "output_type": "display_data"
    },
    {
     "data": {
      "image/png": "[encoded data removed]",
      "text/plain": [
       "<Figure size 432x288 with 1 Axes>"
      ]
     },
     "metadata": {
      "needs_background": "light"
     },
     "output_type": "display_data"
    },
    {
     "data": {
      "image/png": "[encoded data removed]",
      "text/plain": [
       "<Figure size 432x288 with 1 Axes>"
      ]
     },
     "metadata": {
      "needs_background": "light"
     },
     "output_type": "display_data"
    },
    {
     "data": {
      "image/png": "[encoded data removed]",
      "text/plain": [
       "<Figure size 432x288 with 1 Axes>"
      ]
     },
     "metadata": {
      "needs_background": "light"
     },
     "output_type": "display_data"
    }
   ],
   "source": [
    "# графики годовой выручки по отдельным платформам\n",
    "\n",
    "for col in platforms:\n",
    "     games_last_years_group[games_last_years_group['platform'] == col]\\\n",
    "    .plot(kind='bar',x='year_of_release', y='total_sales', label=col, grid=True )\n",
    "plt.show()"
   ]
  },
  {
   "cell_type": "markdown",
   "metadata": {},
   "source": [
    "Выручка от продажи игр в 2016 году падала на всех платформах. Самая большая годовая выручка на 2016 год у платформ PS4 и XOne, они появились относительно недавно, в 2013 году и до 2015 года показывали рост прибыли. "
   ]
  },
  {
   "cell_type": "markdown",
   "metadata": {},
   "source": [
    "#### 3.4. Выясним, велика ли разница в глобальных продажах каждой игры по платформам и в средних продажах.\n",
    "Для этого построим график «ящик с усами» по глобальным продажам каждой игры и разбивкой по платформам. "
   ]
  },
  {
   "cell_type": "code",
   "execution_count": 226,
   "metadata": {},
   "outputs": [
    {
     "data": {
      "image/png": "[encoded data removed]",
      "text/plain": [
       "<Figure size 720x504 with 1 Axes>"
      ]
     },
     "metadata": {
      "needs_background": "light"
     },
     "output_type": "display_data"
    }
   ],
   "source": [
    "# зададим оси графика\n",
    "ax = games_last_years_group.query('platform == \"3DS\"') \\\n",
    ".plot(x='year_of_release', y='total_sales', alpha=0, label='platform', figsize=(10,7), \n",
    "      title='Годовая выручка от продажи игр по разным платформам, млн.долл')\n",
    "\n",
    "# на тех же осях для каждой платформы построим график по суммарным продажам за год\n",
    "for col in platforms:\n",
    "     games_last_years_group[games_last_years_group['platform'] == col]\\\n",
    "    .plot(style='o-',x='year_of_release', y='total_sales', label=col, grid=True, ax=ax )\n",
    "        \n",
    "ax.legend(loc='upper right', bbox_to_anchor=(1.2, 1.0), ncol=1, shadow=True)    \n",
    "plt.show()"
   ]
  },
  {
   "cell_type": "code",
   "execution_count": 227,
   "metadata": {},
   "outputs": [
    {
     "data": {
      "image/png": "[encoded data removed]",
      "text/plain": [
       "<Figure size 1008x288 with 1 Axes>"
      ]
     },
     "metadata": {
      "needs_background": "light"
     },
     "output_type": "display_data"
    }
   ],
   "source": [
    "# график «ящик с усами» по суммарной выручке с разбивкой по платформам\n",
    "\n",
    "ax=(games_last_years\n",
    "    .query('platform in @platforms')\n",
    "    .boxplot('total_sales', by='platform', figsize=(14,4))\n",
    ")"
   ]
  },
  {
   "cell_type": "markdown",
   "metadata": {},
   "source": [
    "Чтобы посмотреть на среднюю выручку от продажи игр, ограничим ось графика до 2 млн долл."
   ]
  },
  {
   "cell_type": "code",
   "execution_count": 228,
   "metadata": {},
   "outputs": [
    {
     "data": {
      "text/plain": [
       "(0, 2)"
      ]
     },
     "execution_count": 228,
     "metadata": {},
     "output_type": "execute_result"
    },
    {
     "data": {
      "image/png": "[encoded data removed]",
      "text/plain": [
       "<Figure size 1008x288 with 1 Axes>"
      ]
     },
     "metadata": {
      "needs_background": "light"
     },
     "output_type": "display_data"
    }
   ],
   "source": [
    "# по суммарной выручке по отдельным играм \n",
    "ax=(games_last_years\n",
    "    .query('platform in @platforms')\n",
    "    .boxplot('total_sales', by='platform', figsize=(14,4))\n",
    ")\n",
    "# ограничим ось у до 2 млн долл.\n",
    "ax.set_ylim(0,2)"
   ]
  },
  {
   "cell_type": "markdown",
   "metadata": {},
   "source": [
    "Несмотря на то, что выручка по отдельным играм может достигать 20 млн.долларов, средние продажи от игр на уровне 0.25 млн долларов для разных платформ (за исключением 3DS, PC, PSV у них около 0,1 млн.долл.). В среднем больше всего коммерчески удачных игры выпускали PS3, PS4, X360, XOne, WiiU"
   ]
  },
  {
   "cell_type": "markdown",
   "metadata": {},
   "source": [
    "<div style=\"border:solid green 2px; padding: 20px\"> <h1 style=\"color:green; margin-bottom:20px\">Комментарий наставника</h1>\n",
    "    \n",
    "С выводами согласен"
   ]
  },
  {
   "cell_type": "markdown",
   "metadata": {},
   "source": [
    "#### 3.5. Влияние отзывов пользователей и критиков на продажи внутри одной платформы.\n",
    "Рассмотрим на примере PS4.\n",
    "Построим диаграмму рассеяния и посчитаем корреляцию между отзывами и продажами.\n"
   ]
  },
  {
   "cell_type": "markdown",
   "metadata": {},
   "source": [
    "Оставим только те строки, где изначально был рейтинг, надо удалить строки с отрицательным рейтингом, который мы ввели искусственно."
   ]
  },
  {
   "cell_type": "code",
   "execution_count": 229,
   "metadata": {},
   "outputs": [],
   "source": [
    "rated_games = games_last_years.query(\"critic_score >=0\")\n",
    "# rated_games"
   ]
  },
  {
   "cell_type": "code",
   "execution_count": 230,
   "metadata": {},
   "outputs": [
    {
     "data": {
      "image/png": "[encoded data removed]",
      "text/plain": [
       "<Figure size 432x288 with 1 Axes>"
      ]
     },
     "metadata": {
      "needs_background": "light"
     },
     "output_type": "display_data"
    },
    {
     "data": {
      "image/png": "[encoded data removed]",
      "text/plain": [
       "<Figure size 432x288 with 1 Axes>"
      ]
     },
     "metadata": {
      "needs_background": "light"
     },
     "output_type": "display_data"
    }
   ],
   "source": [
    "# диаграмма рассеяния для 'critic_score','user_score' для платформы 'PS4'\n",
    "columns=['critic_score','user_score']\n",
    "for col in columns:\n",
    "    rated_games.query(\"platform == 'PS4'\").plot(x=col, y='total_sales', kind='scatter', label= (col))    \n"
   ]
  },
  {
   "cell_type": "code",
   "execution_count": 231,
   "metadata": {},
   "outputs": [
    {
     "data": {
      "text/html": [
       "<div>\n",
       "<style scoped>\n",
       "    .dataframe tbody tr th:only-of-type {\n",
       "        vertical-align: middle;\n",
       "    }\n",
       "\n",
       "    .dataframe tbody tr th {\n",
       "        vertical-align: top;\n",
       "    }\n",
       "\n",
       "    .dataframe thead th {\n",
       "        text-align: right;\n",
       "    }\n",
       "</style>\n",
       "<table border=\"1\" class=\"dataframe\">\n",
       "  <thead>\n",
       "    <tr style=\"text-align: right;\">\n",
       "      <th></th>\n",
       "      <th>total_sales</th>\n",
       "      <th>critic_score</th>\n",
       "      <th>user_score</th>\n",
       "    </tr>\n",
       "  </thead>\n",
       "  <tbody>\n",
       "    <tr>\n",
       "      <td>total_sales</td>\n",
       "      <td>1.000000</td>\n",
       "      <td>0.406568</td>\n",
       "      <td>-0.033625</td>\n",
       "    </tr>\n",
       "    <tr>\n",
       "      <td>critic_score</td>\n",
       "      <td>0.406568</td>\n",
       "      <td>1.000000</td>\n",
       "      <td>0.557654</td>\n",
       "    </tr>\n",
       "    <tr>\n",
       "      <td>user_score</td>\n",
       "      <td>-0.033625</td>\n",
       "      <td>0.557654</td>\n",
       "      <td>1.000000</td>\n",
       "    </tr>\n",
       "  </tbody>\n",
       "</table>\n",
       "</div>"
      ],
      "text/plain": [
       "              total_sales  critic_score  user_score\n",
       "total_sales      1.000000      0.406568   -0.033625\n",
       "critic_score     0.406568      1.000000    0.557654\n",
       "user_score      -0.033625      0.557654    1.000000"
      ]
     },
     "execution_count": 231,
     "metadata": {},
     "output_type": "execute_result"
    }
   ],
   "source": [
    "# коэффициент кореляции между общими сборами, оценками критиков и пользователей для платформы 'PS4'\n",
    "columns=['total_sales','critic_score','user_score']\n",
    "rated_games.query(\"platform == 'PS4'\")[columns].corr()"
   ]
  },
  {
   "cell_type": "markdown",
   "metadata": {},
   "source": [
    "Мы расчитывали кореляцию и строили графики для платформы 'PS4'. \n",
    "Коэффициент кореляции между общими сборами по играм и оценкой критиков равен 0.4, то есть слабая положительная связь, из диаграммы рассеивания видно, что не все игры, высоко оцененные критиками имели коммерческий успех. Скорее всего жанр таких игр изначально имел немного поклонников.  \n",
    " А между оценками пользователей и сборами по продажам связь отсутствует, есть и игры с низкими оценками, но высокими продажами, так и высокими оценками, но низкими продажами.\n",
    "\n"
   ]
  },
  {
   "cell_type": "markdown",
   "metadata": {},
   "source": [
    "<div style=\"border:solid green 2px; padding: 20px\"> <h1 style=\"color:green; margin-bottom:20px\">Комментарий наставника</h1>\n",
    "    \n",
    "Тут тоже всё верно"
   ]
  },
  {
   "cell_type": "code",
   "execution_count": 232,
   "metadata": {},
   "outputs": [
    {
     "data": {
      "text/plain": [
       "Index(['PS4', 'XOne', 'PSV', 'PC', '3DS', 'PS3', 'WiiU', 'X360', 'Wii'], dtype='object')"
      ]
     },
     "execution_count": 232,
     "metadata": {},
     "output_type": "execute_result"
    }
   ],
   "source": [
    "platforms"
   ]
  },
  {
   "cell_type": "markdown",
   "metadata": {},
   "source": [
    "Рассмотрим коэффициенты корреляции для всех платформ"
   ]
  },
  {
   "cell_type": "code",
   "execution_count": 233,
   "metadata": {},
   "outputs": [
    {
     "name": "stdout",
     "output_type": "stream",
     "text": [
      "\n",
      "PS4\n",
      "              total_sales  critic_score  user_score\n",
      "total_sales      1.000000      0.406568   -0.033625\n",
      "critic_score     0.406568      1.000000    0.557654\n",
      "user_score      -0.033625      0.557654    1.000000\n",
      "\n",
      "XOne\n",
      "              total_sales  critic_score  user_score\n",
      "total_sales      1.000000      0.416998   -0.094003\n",
      "critic_score     0.416998      1.000000    0.472462\n",
      "user_score      -0.094003      0.472462    1.000000\n",
      "\n",
      "PSV\n",
      "              total_sales  critic_score  user_score\n",
      "total_sales      1.000000      0.094488    0.013902\n",
      "critic_score     0.094488      1.000000    0.699199\n",
      "user_score       0.013902      0.699199    1.000000\n",
      "\n",
      "PC\n",
      "              total_sales  critic_score  user_score\n",
      "total_sales      1.000000      0.237243   -0.136934\n",
      "critic_score     0.237243      1.000000    0.432587\n",
      "user_score      -0.136934      0.432587    1.000000\n",
      "\n",
      "3DS\n",
      "              total_sales  critic_score  user_score\n",
      "total_sales      1.000000      0.320803    0.201813\n",
      "critic_score     0.320803      1.000000    0.722762\n",
      "user_score       0.201813      0.722762    1.000000\n",
      "\n",
      "PS3\n",
      "              total_sales  critic_score  user_score\n",
      "total_sales      1.000000      0.331497    0.003227\n",
      "critic_score     0.331497      1.000000    0.539456\n",
      "user_score       0.003227      0.539456    1.000000\n",
      "\n",
      "WiiU\n",
      "              total_sales  critic_score  user_score\n",
      "total_sales      1.000000       0.34838    0.391848\n",
      "critic_score     0.348380       1.00000    0.770080\n",
      "user_score       0.391848       0.77008    1.000000\n",
      "\n",
      "X360\n",
      "              total_sales  critic_score  user_score\n",
      "total_sales      1.000000      0.360573   -0.002014\n",
      "critic_score     0.360573      1.000000    0.557352\n",
      "user_score      -0.002014      0.557352    1.000000\n",
      "\n",
      "Wii\n",
      "              total_sales  critic_score  user_score\n",
      "total_sales      1.000000     -0.424341    0.009756\n",
      "critic_score    -0.424341      1.000000    0.816295\n",
      "user_score       0.009756      0.816295    1.000000\n"
     ]
    }
   ],
   "source": [
    "columns=['total_sales','critic_score','user_score']\n",
    "# таблицы коэффициентов корреляции для всех платформ\n",
    "for col in platforms:\n",
    "    corr1 = rated_games.query(\"platform == @col\")[columns].corr()\n",
    "    print()\n",
    "    print (col)\n",
    "    print (corr1)\n"
   ]
  },
  {
   "cell_type": "code",
   "execution_count": 234,
   "metadata": {},
   "outputs": [
    {
     "data": {
      "text/plain": [
       "5"
      ]
     },
     "execution_count": 234,
     "metadata": {},
     "output_type": "execute_result"
    }
   ],
   "source": [
    "# количество оценок платформы Wii\n",
    "rated_games.query(\"platform == 'Wii'\")['critic_score'].count()\n"
   ]
  },
  {
   "cell_type": "markdown",
   "metadata": {},
   "source": [
    "Для большинства платформ коэффициент кореляции между рейтингом критиков и суммарными продажами лежит в интервале(0,3 - 0,42), что означает, что есть слабая положительная связь.Исключение составляет PSV, там коэффициенты кореляции между оценками и продажами по играм около 0. А для Wii всего лишь 5 оценок, поэтом коэффициент там некорректен.\n",
    "Между оценками пользователей и суммарными продажами никакой связи нет для большинства платформ, коэффициент кореляции не превышает 0.2, только для  WiiU коэффициент кореляции равен 0.4, т.е. имеется слабая положительная связь между оценками пользователей и суммарными продажами. \n",
    "Из этого следует вывод, что критики более объективны в своих оценках, пользователи же могут низко оценить игру не потому, что она плохая, а просто не оправдала ожиданий."
   ]
  },
  {
   "cell_type": "markdown",
   "metadata": {},
   "source": [
    "<div style=\"border:solid green 2px; padding: 20px\"> <h1 style=\"color:green; margin-bottom:20px\">Комментарий наставника</h1>\n",
    "    \n",
    "Верные выводы"
   ]
  },
  {
   "cell_type": "markdown",
   "metadata": {},
   "source": [
    "#### 3.6. Посмотрим на общее распределение игр по жанрам. Найдем самые прибыльные жанры. "
   ]
  },
  {
   "cell_type": "code",
   "execution_count": 235,
   "metadata": {},
   "outputs": [
    {
     "data": {
      "text/plain": [
       "([<matplotlib.axis.XTick at 0x7f775928be50>,\n",
       "  <matplotlib.axis.XTick at 0x7f7758b964d0>,\n",
       "  <matplotlib.axis.XTick at 0x7f77593183d0>,\n",
       "  <matplotlib.axis.XTick at 0x7f7758f79bd0>,\n",
       "  <matplotlib.axis.XTick at 0x7f775e6e9590>,\n",
       "  <matplotlib.axis.XTick at 0x7f775e6e9090>,\n",
       "  <matplotlib.axis.XTick at 0x7f77593e4350>,\n",
       "  <matplotlib.axis.XTick at 0x7f77593e47d0>,\n",
       "  <matplotlib.axis.XTick at 0x7f7758b96dd0>,\n",
       "  <matplotlib.axis.XTick at 0x7f77587efbd0>,\n",
       "  <matplotlib.axis.XTick at 0x7f77587ef690>,\n",
       "  <matplotlib.axis.XTick at 0x7f775872ef90>],\n",
       " <a list of 12 Text xticklabel objects>)"
      ]
     },
     "execution_count": 235,
     "metadata": {},
     "output_type": "execute_result"
    },
    {
     "data": {
      "image/png": "[encoded data removed]",
      "text/plain": [
       "<Figure size 720x288 with 1 Axes>"
      ]
     },
     "metadata": {
      "needs_background": "light"
     },
     "output_type": "display_data"
    }
   ],
   "source": [
    "#  получим по каждому жанру суммарную выручку и число игр \n",
    "games_by_genre = games_last_years.pivot_table(index = 'genre', \n",
    "                          values= ['total_sales'],aggfunc=['sum','count'])\n",
    "# новые названия столбцов\n",
    "games_by_genre.columns=['total_sales','count_of_games']\n",
    "\n",
    "# графики суммарной выручки и количество игр по каждому жанру  \n",
    "games_by_genre.plot(kind='bar', grid=True,    figsize=(10,4))\n",
    "\n",
    "# по оси х названия жанров\n",
    "labels=games_by_genre.index\n",
    "# интервал для названий\n",
    "xs = range(len(labels))\n",
    "# подписи на оси х\n",
    "plt.xticks(xs, labels, rotation='vertical')"
   ]
  },
  {
   "cell_type": "markdown",
   "metadata": {},
   "source": [
    "Самые большие суммарные сборы по играм в жанре \"Экшен\", \"Шутеры\", \"Спорт\", \"Ролевые\". Игр в жарне \"Экшен\"  больше остальных, также распространены жанры \"Шутер\", \"Спорт\", \"Ролевые\". В стиле 'Strategy' и 'Puzzle' самые низкие сборы, видимо, поэтому игр в этих жанрах выпускается мало. \"Adventure\" также показывают очень маленькие сборы, правда количество выпущенных игр достаточно велико."
   ]
  },
  {
   "cell_type": "code",
   "execution_count": 236,
   "metadata": {},
   "outputs": [
    {
     "data": {
      "text/plain": [
       "(0, 4)"
      ]
     },
     "execution_count": 236,
     "metadata": {},
     "output_type": "execute_result"
    },
    {
     "data": {
      "image/png": "[encoded data removed]",
      "text/plain": [
       "<Figure size 1008x288 with 1 Axes>"
      ]
     },
     "metadata": {
      "needs_background": "light"
     },
     "output_type": "display_data"
    }
   ],
   "source": [
    "# диаграммы размаха для всех жанров\n",
    "ax=(games_last_years\n",
    "    .query('platform in @platforms')\n",
    "    .boxplot('total_sales', by='genre', figsize=(14,4))\n",
    ")\n",
    "ax.set_ylim(0,4)"
   ]
  },
  {
   "cell_type": "markdown",
   "metadata": {},
   "source": [
    "В среднем, самые выгодные жанры это платформеры, шутеры и спорт, самые низкие продажи у жанров приключений и квестов. Средняя выручка жанра 'Action' очень низкая, игр в таком жанре выходит больше всего, но не все они коммерчески удачны."
   ]
  },
  {
   "cell_type": "markdown",
   "metadata": {},
   "source": [
    "### Вывод.\n",
    "В течение 10-11 лет появляются новые и исчезают старые платформы, причем первые 5-6 лет выручка растет, а затем к 10-11 году падает до нуля. Для дальнейшего анализа будем учитывать данные за предыдущие 5 лет - с 2012 по 2016 года.  \n",
    "Выручка от продажи игр в 2016 году падала на всех платформах. Самая большая годовая выручка на 2016 год у платформ PS4 и XOne, они появились относительно недавно, в 2013 году и до 2015 года показывали рост прибыли.   \n",
    "Средние продажи от игр на уровне 0.25 млн долларов для большинства платформ (за исключением 3DS, PC, PSV у них около 0,1 млн.долл.), хоть отдельные игры могут принести прибыль до 20 млн.долларов. В среднем больше всего коммерчески удачных игры выпускали PS3, PS4, X360, XOne, WiiU  \n",
    "Для большинства платформ коэффициент кореляции между рейтингом критиков и суммарными продажами лежит в интервале(0,3 - 0,42). Между оценками пользователей и суммарными продажами никакой связи нет для большинства платформ, коэффициент кореляции не превышает 0.2. Критики более объективны в своих оценках.  \n",
    "В среднем, самые выгодные жанры это платформеры, шутеры, ролевые и спорт, самые низкие продажи у жанров приключений и квестов. \n"
   ]
  },
  {
   "cell_type": "markdown",
   "metadata": {},
   "source": [
    "<div style=\"border:solid green 2px; padding: 20px\"> <h1 style=\"color:green; margin-bottom:20px\">Комментарий наставника</h1>\n",
    "    \n",
    "Платформы проанализированны и всё выполнено правильно, радует, что пишешь выводы! теперь можно посмотреть и на портреты пользователей по регионам"
   ]
  },
  {
   "cell_type": "markdown",
   "metadata": {},
   "source": [
    "### Шаг 4. Портрет пользователя каждого региона"
   ]
  },
  {
   "cell_type": "markdown",
   "metadata": {},
   "source": [
    "Определим самые популярные платформы (топ-5) для пользователя каждого региона (NA, EU, JP). Опишите различия в долях продаж."
   ]
  },
  {
   "cell_type": "code",
   "execution_count": 237,
   "metadata": {},
   "outputs": [
    {
     "data": {
      "text/html": [
       "<div>\n",
       "<style scoped>\n",
       "    .dataframe tbody tr th:only-of-type {\n",
       "        vertical-align: middle;\n",
       "    }\n",
       "\n",
       "    .dataframe tbody tr th {\n",
       "        vertical-align: top;\n",
       "    }\n",
       "\n",
       "    .dataframe thead th {\n",
       "        text-align: right;\n",
       "    }\n",
       "</style>\n",
       "<table border=\"1\" class=\"dataframe\">\n",
       "  <thead>\n",
       "    <tr style=\"text-align: right;\">\n",
       "      <th></th>\n",
       "      <th>na_sales</th>\n",
       "      <th>eu_sales</th>\n",
       "      <th>jp_sales</th>\n",
       "      <th>total_sales</th>\n",
       "      <th>na_sales_rated</th>\n",
       "      <th>eu_sales_rated</th>\n",
       "      <th>jp_sales_rated</th>\n",
       "    </tr>\n",
       "    <tr>\n",
       "      <th>platform</th>\n",
       "      <th></th>\n",
       "      <th></th>\n",
       "      <th></th>\n",
       "      <th></th>\n",
       "      <th></th>\n",
       "      <th></th>\n",
       "      <th></th>\n",
       "    </tr>\n",
       "  </thead>\n",
       "  <tbody>\n",
       "    <tr>\n",
       "      <td>X360</td>\n",
       "      <td>74.52</td>\n",
       "      <td>1.57</td>\n",
       "      <td>140.05</td>\n",
       "      <td>236.54</td>\n",
       "      <td>14.818939</td>\n",
       "      <td>0.880094</td>\n",
       "      <td>23.889126</td>\n",
       "    </tr>\n",
       "    <tr>\n",
       "      <td>PS4</td>\n",
       "      <td>141.09</td>\n",
       "      <td>15.96</td>\n",
       "      <td>108.74</td>\n",
       "      <td>314.14</td>\n",
       "      <td>28.056953</td>\n",
       "      <td>8.946690</td>\n",
       "      <td>18.548401</td>\n",
       "    </tr>\n",
       "    <tr>\n",
       "      <td>PS3</td>\n",
       "      <td>106.86</td>\n",
       "      <td>35.29</td>\n",
       "      <td>103.38</td>\n",
       "      <td>288.79</td>\n",
       "      <td>21.250025</td>\n",
       "      <td>19.782499</td>\n",
       "      <td>17.634115</td>\n",
       "    </tr>\n",
       "    <tr>\n",
       "      <td>XOne</td>\n",
       "      <td>51.59</td>\n",
       "      <td>0.34</td>\n",
       "      <td>93.12</td>\n",
       "      <td>159.32</td>\n",
       "      <td>10.259113</td>\n",
       "      <td>0.190594</td>\n",
       "      <td>15.884009</td>\n",
       "    </tr>\n",
       "    <tr>\n",
       "      <td>3DS</td>\n",
       "      <td>42.64</td>\n",
       "      <td>87.79</td>\n",
       "      <td>55.31</td>\n",
       "      <td>194.61</td>\n",
       "      <td>8.479329</td>\n",
       "      <td>49.212400</td>\n",
       "      <td>9.434542</td>\n",
       "    </tr>\n",
       "    <tr>\n",
       "      <td>WiiU</td>\n",
       "      <td>25.13</td>\n",
       "      <td>13.01</td>\n",
       "      <td>38.10</td>\n",
       "      <td>82.19</td>\n",
       "      <td>4.997315</td>\n",
       "      <td>7.293010</td>\n",
       "      <td>6.498934</td>\n",
       "    </tr>\n",
       "    <tr>\n",
       "      <td>PC</td>\n",
       "      <td>37.76</td>\n",
       "      <td>0.00</td>\n",
       "      <td>19.12</td>\n",
       "      <td>62.65</td>\n",
       "      <td>7.508899</td>\n",
       "      <td>0.000000</td>\n",
       "      <td>3.261407</td>\n",
       "    </tr>\n",
       "    <tr>\n",
       "      <td>Wii</td>\n",
       "      <td>11.92</td>\n",
       "      <td>3.39</td>\n",
       "      <td>17.45</td>\n",
       "      <td>35.37</td>\n",
       "      <td>2.370394</td>\n",
       "      <td>1.900331</td>\n",
       "      <td>2.976546</td>\n",
       "    </tr>\n",
       "    <tr>\n",
       "      <td>PSV</td>\n",
       "      <td>11.36</td>\n",
       "      <td>21.04</td>\n",
       "      <td>10.98</td>\n",
       "      <td>49.18</td>\n",
       "      <td>2.259033</td>\n",
       "      <td>11.794383</td>\n",
       "      <td>1.872921</td>\n",
       "    </tr>\n",
       "  </tbody>\n",
       "</table>\n",
       "</div>"
      ],
      "text/plain": [
       "          na_sales  eu_sales  jp_sales  total_sales  na_sales_rated  \\\n",
       "platform                                                              \n",
       "X360         74.52      1.57    140.05       236.54       14.818939   \n",
       "PS4         141.09     15.96    108.74       314.14       28.056953   \n",
       "PS3         106.86     35.29    103.38       288.79       21.250025   \n",
       "XOne         51.59      0.34     93.12       159.32       10.259113   \n",
       "3DS          42.64     87.79     55.31       194.61        8.479329   \n",
       "WiiU         25.13     13.01     38.10        82.19        4.997315   \n",
       "PC           37.76      0.00     19.12        62.65        7.508899   \n",
       "Wii          11.92      3.39     17.45        35.37        2.370394   \n",
       "PSV          11.36     21.04     10.98        49.18        2.259033   \n",
       "\n",
       "          eu_sales_rated  jp_sales_rated  \n",
       "platform                                  \n",
       "X360            0.880094       23.889126  \n",
       "PS4             8.946690       18.548401  \n",
       "PS3            19.782499       17.634115  \n",
       "XOne            0.190594       15.884009  \n",
       "3DS            49.212400        9.434542  \n",
       "WiiU            7.293010        6.498934  \n",
       "PC              0.000000        3.261407  \n",
       "Wii             1.900331        2.976546  \n",
       "PSV            11.794383        1.872921  "
      ]
     },
     "execution_count": 237,
     "metadata": {},
     "output_type": "execute_result"
    }
   ],
   "source": [
    "games_for_region= games_last_years.pivot_table(index='platform',\n",
    "                             values=['na_sales','eu_sales','jp_sales', 'total_sales'], aggfunc=['sum'])\n",
    "games_for_region.columns=['na_sales','eu_sales','jp_sales', 'total_sales']\n",
    "\n",
    "# доля продаж в регионе NA к сумме по всем платформам, в процентах\n",
    "games_for_region['na_sales_rated'] = (\n",
    "    games_for_region['na_sales'] / games_for_region['na_sales'].sum()*100)\n",
    "\n",
    "\n",
    "# доля продаж в регионе EU к сумме по всем платформам, в процентах\n",
    "games_for_region['eu_sales_rated'] = (\n",
    "    games_for_region['eu_sales'] / games_for_region['eu_sales'].sum()*100)\n",
    "\n",
    "# доля продаж одной платформы  к сумме по всем платформам в регионе JP, в процентах\n",
    "games_for_region['jp_sales_rated'] = (\n",
    "    games_for_region['jp_sales'] / games_for_region['jp_sales'].sum()*100)\n",
    "\n",
    "\n",
    "games_for_region.sort_values('jp_sales', ascending=False)\n"
   ]
  },
  {
   "cell_type": "code",
   "execution_count": 238,
   "metadata": {},
   "outputs": [
    {
     "data": {
      "text/html": [
       "<div>\n",
       "<style scoped>\n",
       "    .dataframe tbody tr th:only-of-type {\n",
       "        vertical-align: middle;\n",
       "    }\n",
       "\n",
       "    .dataframe tbody tr th {\n",
       "        vertical-align: top;\n",
       "    }\n",
       "\n",
       "    .dataframe thead th {\n",
       "        text-align: right;\n",
       "    }\n",
       "</style>\n",
       "<table border=\"1\" class=\"dataframe\">\n",
       "  <thead>\n",
       "    <tr style=\"text-align: right;\">\n",
       "      <th></th>\n",
       "      <th>platform</th>\n",
       "      <th>jp_sales_rated</th>\n",
       "      <th>platform_na</th>\n",
       "      <th>na_sales_rated</th>\n",
       "      <th>platform_eu</th>\n",
       "      <th>eu_sales_rated</th>\n",
       "    </tr>\n",
       "  </thead>\n",
       "  <tbody>\n",
       "    <tr>\n",
       "      <td>0</td>\n",
       "      <td>X360</td>\n",
       "      <td>23.889126</td>\n",
       "      <td>PS4</td>\n",
       "      <td>28.056953</td>\n",
       "      <td>3DS</td>\n",
       "      <td>49.212400</td>\n",
       "    </tr>\n",
       "    <tr>\n",
       "      <td>1</td>\n",
       "      <td>PS4</td>\n",
       "      <td>18.548401</td>\n",
       "      <td>PS3</td>\n",
       "      <td>21.250025</td>\n",
       "      <td>PS3</td>\n",
       "      <td>19.782499</td>\n",
       "    </tr>\n",
       "    <tr>\n",
       "      <td>2</td>\n",
       "      <td>PS3</td>\n",
       "      <td>17.634115</td>\n",
       "      <td>X360</td>\n",
       "      <td>14.818939</td>\n",
       "      <td>PSV</td>\n",
       "      <td>11.794383</td>\n",
       "    </tr>\n",
       "    <tr>\n",
       "      <td>3</td>\n",
       "      <td>XOne</td>\n",
       "      <td>15.884009</td>\n",
       "      <td>XOne</td>\n",
       "      <td>10.259113</td>\n",
       "      <td>PS4</td>\n",
       "      <td>8.946690</td>\n",
       "    </tr>\n",
       "    <tr>\n",
       "      <td>4</td>\n",
       "      <td>3DS</td>\n",
       "      <td>9.434542</td>\n",
       "      <td>3DS</td>\n",
       "      <td>8.479329</td>\n",
       "      <td>WiiU</td>\n",
       "      <td>7.293010</td>\n",
       "    </tr>\n",
       "  </tbody>\n",
       "</table>\n",
       "</div>"
      ],
      "text/plain": [
       "  platform  jp_sales_rated platform_na  na_sales_rated platform_eu  \\\n",
       "0     X360       23.889126         PS4       28.056953         3DS   \n",
       "1      PS4       18.548401         PS3       21.250025         PS3   \n",
       "2      PS3       17.634115        X360       14.818939         PSV   \n",
       "3     XOne       15.884009        XOne       10.259113         PS4   \n",
       "4      3DS        9.434542         3DS        8.479329        WiiU   \n",
       "\n",
       "   eu_sales_rated  \n",
       "0       49.212400  \n",
       "1       19.782499  \n",
       "2       11.794383  \n",
       "3        8.946690  \n",
       "4        7.293010  "
      ]
     },
     "execution_count": 238,
     "metadata": {},
     "output_type": "execute_result"
    }
   ],
   "source": [
    "# топ5  платформ для Японии , с процентами популярности от других платформ\n",
    "popular_platform_for_region = (\n",
    "    games_for_region.sort_values('jp_sales', ascending=False).head(5)['jp_sales_rated'].reset_index()\n",
    ")\n",
    "\n",
    "# добавим топ5  платформ для СевАмерики , с процентами популярности от других платформ\n",
    "popular_platform_for_region[['platform_na','na_sales_rated']] = (\n",
    "    games_for_region.sort_values('na_sales', ascending=False).head(5)['na_sales_rated'].reset_index()\n",
    ")\n",
    "\n",
    "# добавим топ5  платформ для Евросоюза , с процентами популярности от других платформ\n",
    "popular_platform_for_region[['platform_eu','eu_sales_rated']] = (\n",
    "    games_for_region.sort_values('eu_sales', ascending=False).head(5)['eu_sales_rated'].reset_index()\n",
    ")\n",
    "\n",
    "popular_platform_for_region"
   ]
  },
  {
   "cell_type": "markdown",
   "metadata": {},
   "source": [
    "В Японии 28% продаж игр приходится на Х360, 21% - PS3 , 13% - PS4. В Северной Америке 24,8% продаж игр приходится на PS3, 21.4% - PS4, 17.8% - X360. В Европе на первом месте по продажам 3DS-47%, затем PS3 и PSV - 23,1% и 10.2% соответственно. На первом месте в Северной Америке приставка Playstation, она входит в топ-3 по продажам во всех регионах, в Японии самая популярная приставка Xbox, в Европе - Nintendo. "
   ]
  },
  {
   "cell_type": "markdown",
   "metadata": {},
   "source": [
    "#### Самые популярные жанры (топ-5). "
   ]
  },
  {
   "cell_type": "code",
   "execution_count": 239,
   "metadata": {},
   "outputs": [
    {
     "data": {
      "text/html": [
       "<div>\n",
       "<style scoped>\n",
       "    .dataframe tbody tr th:only-of-type {\n",
       "        vertical-align: middle;\n",
       "    }\n",
       "\n",
       "    .dataframe tbody tr th {\n",
       "        vertical-align: top;\n",
       "    }\n",
       "\n",
       "    .dataframe thead th {\n",
       "        text-align: right;\n",
       "    }\n",
       "</style>\n",
       "<table border=\"1\" class=\"dataframe\">\n",
       "  <thead>\n",
       "    <tr style=\"text-align: right;\">\n",
       "      <th></th>\n",
       "      <th>genre</th>\n",
       "      <th>jp_sales</th>\n",
       "    </tr>\n",
       "  </thead>\n",
       "  <tbody>\n",
       "    <tr>\n",
       "      <td>0</td>\n",
       "      <td>Action</td>\n",
       "      <td>177.00</td>\n",
       "    </tr>\n",
       "    <tr>\n",
       "      <td>1</td>\n",
       "      <td>Shooter</td>\n",
       "      <td>144.77</td>\n",
       "    </tr>\n",
       "    <tr>\n",
       "      <td>2</td>\n",
       "      <td>Sports</td>\n",
       "      <td>81.38</td>\n",
       "    </tr>\n",
       "    <tr>\n",
       "      <td>3</td>\n",
       "      <td>Role-Playing</td>\n",
       "      <td>60.65</td>\n",
       "    </tr>\n",
       "    <tr>\n",
       "      <td>4</td>\n",
       "      <td>Misc</td>\n",
       "      <td>38.13</td>\n",
       "    </tr>\n",
       "  </tbody>\n",
       "</table>\n",
       "</div>"
      ],
      "text/plain": [
       "          genre  jp_sales\n",
       "0        Action    177.00\n",
       "1       Shooter    144.77\n",
       "2        Sports     81.38\n",
       "3  Role-Playing     60.65\n",
       "4          Misc     38.13"
      ]
     },
     "execution_count": 239,
     "metadata": {},
     "output_type": "execute_result"
    }
   ],
   "source": [
    "genre_by_region= games_last_years.pivot_table(index='genre',\n",
    "                             values=['na_sales','eu_sales','jp_sales'], aggfunc=['sum'])\n",
    "genre_by_region.columns=['na_sales','eu_sales','jp_sales']\n",
    "genre_by_region.sort_values('jp_sales', ascending=False).head(5)['jp_sales'].reset_index()\n"
   ]
  },
  {
   "cell_type": "code",
   "execution_count": 240,
   "metadata": {},
   "outputs": [
    {
     "data": {
      "text/html": [
       "<div>\n",
       "<style scoped>\n",
       "    .dataframe tbody tr th:only-of-type {\n",
       "        vertical-align: middle;\n",
       "    }\n",
       "\n",
       "    .dataframe tbody tr th {\n",
       "        vertical-align: top;\n",
       "    }\n",
       "\n",
       "    .dataframe thead th {\n",
       "        text-align: right;\n",
       "    }\n",
       "</style>\n",
       "<table border=\"1\" class=\"dataframe\">\n",
       "  <thead>\n",
       "    <tr style=\"text-align: right;\">\n",
       "      <th></th>\n",
       "      <th>genre</th>\n",
       "      <th>eu_sales</th>\n",
       "    </tr>\n",
       "  </thead>\n",
       "  <tbody>\n",
       "    <tr>\n",
       "      <td>0</td>\n",
       "      <td>Role-Playing</td>\n",
       "      <td>59.12</td>\n",
       "    </tr>\n",
       "    <tr>\n",
       "      <td>1</td>\n",
       "      <td>Action</td>\n",
       "      <td>49.18</td>\n",
       "    </tr>\n",
       "    <tr>\n",
       "      <td>2</td>\n",
       "      <td>Misc</td>\n",
       "      <td>12.45</td>\n",
       "    </tr>\n",
       "    <tr>\n",
       "      <td>3</td>\n",
       "      <td>Simulation</td>\n",
       "      <td>10.35</td>\n",
       "    </tr>\n",
       "    <tr>\n",
       "      <td>4</td>\n",
       "      <td>Shooter</td>\n",
       "      <td>9.23</td>\n",
       "    </tr>\n",
       "  </tbody>\n",
       "</table>\n",
       "</div>"
      ],
      "text/plain": [
       "          genre  eu_sales\n",
       "0  Role-Playing     59.12\n",
       "1        Action     49.18\n",
       "2          Misc     12.45\n",
       "3    Simulation     10.35\n",
       "4       Shooter      9.23"
      ]
     },
     "execution_count": 240,
     "metadata": {},
     "output_type": "execute_result"
    }
   ],
   "source": [
    "genre_by_region.sort_values('eu_sales', ascending=False).head(5)['eu_sales'].reset_index()"
   ]
  },
  {
   "cell_type": "code",
   "execution_count": 241,
   "metadata": {},
   "outputs": [
    {
     "data": {
      "text/html": [
       "<div>\n",
       "<style scoped>\n",
       "    .dataframe tbody tr th:only-of-type {\n",
       "        vertical-align: middle;\n",
       "    }\n",
       "\n",
       "    .dataframe tbody tr th {\n",
       "        vertical-align: top;\n",
       "    }\n",
       "\n",
       "    .dataframe thead th {\n",
       "        text-align: right;\n",
       "    }\n",
       "</style>\n",
       "<table border=\"1\" class=\"dataframe\">\n",
       "  <thead>\n",
       "    <tr style=\"text-align: right;\">\n",
       "      <th></th>\n",
       "      <th>genre</th>\n",
       "      <th>na_sales</th>\n",
       "    </tr>\n",
       "  </thead>\n",
       "  <tbody>\n",
       "    <tr>\n",
       "      <td>0</td>\n",
       "      <td>Action</td>\n",
       "      <td>158.43</td>\n",
       "    </tr>\n",
       "    <tr>\n",
       "      <td>1</td>\n",
       "      <td>Shooter</td>\n",
       "      <td>113.47</td>\n",
       "    </tr>\n",
       "    <tr>\n",
       "      <td>2</td>\n",
       "      <td>Sports</td>\n",
       "      <td>68.84</td>\n",
       "    </tr>\n",
       "    <tr>\n",
       "      <td>3</td>\n",
       "      <td>Role-Playing</td>\n",
       "      <td>46.76</td>\n",
       "    </tr>\n",
       "    <tr>\n",
       "      <td>4</td>\n",
       "      <td>Racing</td>\n",
       "      <td>27.29</td>\n",
       "    </tr>\n",
       "  </tbody>\n",
       "</table>\n",
       "</div>"
      ],
      "text/plain": [
       "          genre  na_sales\n",
       "0        Action    158.43\n",
       "1       Shooter    113.47\n",
       "2        Sports     68.84\n",
       "3  Role-Playing     46.76\n",
       "4        Racing     27.29"
      ]
     },
     "execution_count": 241,
     "metadata": {},
     "output_type": "execute_result"
    }
   ],
   "source": [
    "genre_by_region.sort_values('na_sales', ascending=False).head(5)['na_sales'].reset_index()"
   ]
  },
  {
   "cell_type": "markdown",
   "metadata": {},
   "source": [
    "В Японии и Северной Америке похожие предпочтения по жанрам - экшн, шутеры, спорт. В Европе же самые популярное - ролевые игры, экшн и разное."
   ]
  },
  {
   "cell_type": "markdown",
   "metadata": {},
   "source": [
    "### Влияние рейтинга ESRB на продажи в отдельном регионе"
   ]
  },
  {
   "cell_type": "code",
   "execution_count": 242,
   "metadata": {},
   "outputs": [
    {
     "data": {
      "text/html": [
       "<div>\n",
       "<style scoped>\n",
       "    .dataframe tbody tr th:only-of-type {\n",
       "        vertical-align: middle;\n",
       "    }\n",
       "\n",
       "    .dataframe tbody tr th {\n",
       "        vertical-align: top;\n",
       "    }\n",
       "\n",
       "    .dataframe thead th {\n",
       "        text-align: right;\n",
       "    }\n",
       "</style>\n",
       "<table border=\"1\" class=\"dataframe\">\n",
       "  <thead>\n",
       "    <tr style=\"text-align: right;\">\n",
       "      <th></th>\n",
       "      <th>na_sales</th>\n",
       "      <th>eu_sales</th>\n",
       "      <th>jp_sales</th>\n",
       "    </tr>\n",
       "    <tr>\n",
       "      <th>rating</th>\n",
       "      <th></th>\n",
       "      <th></th>\n",
       "      <th></th>\n",
       "    </tr>\n",
       "  </thead>\n",
       "  <tbody>\n",
       "    <tr>\n",
       "      <td>M</td>\n",
       "      <td>193.96</td>\n",
       "      <td>21.20</td>\n",
       "      <td>231.57</td>\n",
       "    </tr>\n",
       "    <tr>\n",
       "      <td>E</td>\n",
       "      <td>111.79</td>\n",
       "      <td>27.62</td>\n",
       "      <td>113.44</td>\n",
       "    </tr>\n",
       "    <tr>\n",
       "      <td>E10+</td>\n",
       "      <td>54.84</td>\n",
       "      <td>8.19</td>\n",
       "      <td>75.09</td>\n",
       "    </tr>\n",
       "    <tr>\n",
       "      <td>T</td>\n",
       "      <td>52.96</td>\n",
       "      <td>25.76</td>\n",
       "      <td>66.02</td>\n",
       "    </tr>\n",
       "  </tbody>\n",
       "</table>\n",
       "</div>"
      ],
      "text/plain": [
       "        na_sales  eu_sales  jp_sales\n",
       "rating                              \n",
       "M         193.96     21.20    231.57\n",
       "E         111.79     27.62    113.44\n",
       "E10+       54.84      8.19     75.09\n",
       "T          52.96     25.76     66.02"
      ]
     },
     "execution_count": 242,
     "metadata": {},
     "output_type": "execute_result"
    }
   ],
   "source": [
    "genre_by_ESRB = games_last_years.pivot_table(index='rating',\n",
    "                             values=['na_sales','eu_sales','jp_sales'], aggfunc=['sum'])\n",
    "genre_by_ESRB.columns=['na_sales','eu_sales','jp_sales']\n",
    "genre_by_ESRB.sort_values('jp_sales', ascending=False)"
   ]
  },
  {
   "cell_type": "markdown",
   "metadata": {},
   "source": [
    "Рейтинг игр ESRB :  \n",
    "«EC» («Early childhood») — «Для детей младшего возраста»  \n",
    "«E» («Everyone») — «Для всех», первоначально \"K-A\" (\"Kids to Adults\")  \n",
    "«E10+» («Everyone 10 and older») — «Для всех от 10 лет и старше»  \n",
    "«T» («Teen») — «Подросткам»  \n",
    "«M» («Mature») — «Для взрослых»  \n",
    "«AO» («Adults Only 18+») — «Только для взрослых»  \n",
    "«RP» («Rating Pending») — «Рейтинг ожидается»"
   ]
  },
  {
   "cell_type": "markdown",
   "metadata": {},
   "source": [
    "Популярность игр в зависимости от рейтинга ESRB в Америке и Японии одинакова. Топ-1 - это игры для взрослых, затем игры для всех, для подростков, и затем для детей 10 лет. В Европе игры для взрослых занимают топ-3."
   ]
  },
  {
   "cell_type": "markdown",
   "metadata": {},
   "source": [
    "### Вывод\n",
    "Выручка от продажи игр в Японии и Северной Америке выше в 2-3 раза, чем в Европе.  \n",
    "Пристрастия игроков из Японии и Северной Америки похожи. В Японии в Топ-3 входят Х360, PS3,PS4; в Северной Америке X360 на 3-м месте, топ-3 выглядит так: PS3, PS4, X360. В Европе популярны платформы 3DS, PS3 и PSV.   \n",
    "В Японии и Северной Америке похожие предпочтения по жанрам - экшн, шутеры, спорт. В Европе же самые популярное - ролевые игры, экшн и разное.   \n",
    "Популярность игр в зависимости от рейтинга ESRB в Америке и Японии одинакова. Топ-1 - это игры для взрослых. В Европе игры для взрослых занимают топ-3. Вероятно, в Японии и Америке в видеоигры играют больше взрослых, чем детей.\n",
    "В целом, портрет пользователя из Японии и Америки очень похожи.\n",
    "\n"
   ]
  },
  {
   "cell_type": "markdown",
   "metadata": {},
   "source": [
    "<div style=\"border:solid green 2px; padding: 20px\"> <h1 style=\"color:green; margin-bottom:20px\">Комментарий наставника</h1>\n",
    "\n",
    "Портреты пользователей построены, все выводы правильные, продолжай в том же духе!"
   ]
  },
  {
   "cell_type": "markdown",
   "metadata": {},
   "source": [
    "### Шаг 5. Гипотезы\n",
    "Проверим следующие гипотезы:\n",
    "- Средние пользовательские рейтинги платформ Xbox One и PC одинаковые;\n",
    "- Средние пользовательские рейтинги жанров Action (англ. «действие», экшен-игры) и Sports (англ. «спортивные соревнования») разные."
   ]
  },
  {
   "cell_type": "code",
   "execution_count": 243,
   "metadata": {},
   "outputs": [
    {
     "data": {
      "text/plain": [
       "Index(['PS4', 'XOne', 'PSV', 'PC', '3DS', 'PS3', 'WiiU', 'X360', 'Wii'], dtype='object')"
      ]
     },
     "execution_count": 243,
     "metadata": {},
     "output_type": "execute_result"
    }
   ],
   "source": [
    "platforms"
   ]
  },
  {
   "cell_type": "markdown",
   "metadata": {},
   "source": [
    "Выясним, одинаковые ли пользовательские рейтинги платформ Xbox One и PC. Нулевая гипотеза будет такая: \"средние пользовательские рейтинги платформ Xbox One и PC одинаковые\". Для проверки равенства среднего двух генеральных совокупностей по взятым из них выборкам, применим метод scipy.stats.ttest_ind"
   ]
  },
  {
   "cell_type": "code",
   "execution_count": 244,
   "metadata": {},
   "outputs": [
    {
     "data": {
      "text/html": [
       "<div>\n",
       "<style scoped>\n",
       "    .dataframe tbody tr th:only-of-type {\n",
       "        vertical-align: middle;\n",
       "    }\n",
       "\n",
       "    .dataframe tbody tr th {\n",
       "        vertical-align: top;\n",
       "    }\n",
       "\n",
       "    .dataframe thead th {\n",
       "        text-align: right;\n",
       "    }\n",
       "</style>\n",
       "<table border=\"1\" class=\"dataframe\">\n",
       "  <thead>\n",
       "    <tr style=\"text-align: right;\">\n",
       "      <th></th>\n",
       "      <th>name</th>\n",
       "      <th>platform</th>\n",
       "      <th>year_of_release</th>\n",
       "      <th>genre</th>\n",
       "      <th>na_sales</th>\n",
       "      <th>eu_sales</th>\n",
       "      <th>jp_sales</th>\n",
       "      <th>other_sales</th>\n",
       "      <th>critic_score</th>\n",
       "      <th>user_score</th>\n",
       "      <th>rating</th>\n",
       "      <th>total_sales</th>\n",
       "    </tr>\n",
       "  </thead>\n",
       "  <tbody>\n",
       "    <tr>\n",
       "      <td>16</td>\n",
       "      <td>Grand Theft Auto V</td>\n",
       "      <td>PS3</td>\n",
       "      <td>2013</td>\n",
       "      <td>Action</td>\n",
       "      <td>7.02</td>\n",
       "      <td>9.09</td>\n",
       "      <td>0.98</td>\n",
       "      <td>3.96</td>\n",
       "      <td>97</td>\n",
       "      <td>8.2</td>\n",
       "      <td>M</td>\n",
       "      <td>21.05</td>\n",
       "    </tr>\n",
       "    <tr>\n",
       "      <td>23</td>\n",
       "      <td>Grand Theft Auto V</td>\n",
       "      <td>X360</td>\n",
       "      <td>2013</td>\n",
       "      <td>Action</td>\n",
       "      <td>9.66</td>\n",
       "      <td>5.14</td>\n",
       "      <td>0.06</td>\n",
       "      <td>1.41</td>\n",
       "      <td>97</td>\n",
       "      <td>8.1</td>\n",
       "      <td>M</td>\n",
       "      <td>16.27</td>\n",
       "    </tr>\n",
       "    <tr>\n",
       "      <td>31</td>\n",
       "      <td>Call of Duty: Black Ops 3</td>\n",
       "      <td>PS4</td>\n",
       "      <td>2015</td>\n",
       "      <td>Shooter</td>\n",
       "      <td>6.03</td>\n",
       "      <td>5.86</td>\n",
       "      <td>0.36</td>\n",
       "      <td>2.38</td>\n",
       "      <td>-10</td>\n",
       "      <td>NaN</td>\n",
       "      <td>NaN</td>\n",
       "      <td>14.63</td>\n",
       "    </tr>\n",
       "    <tr>\n",
       "      <td>33</td>\n",
       "      <td>Pokemon X/Pokemon Y</td>\n",
       "      <td>3DS</td>\n",
       "      <td>2013</td>\n",
       "      <td>Role-Playing</td>\n",
       "      <td>5.28</td>\n",
       "      <td>4.19</td>\n",
       "      <td>4.35</td>\n",
       "      <td>0.78</td>\n",
       "      <td>-10</td>\n",
       "      <td>NaN</td>\n",
       "      <td>NaN</td>\n",
       "      <td>14.60</td>\n",
       "    </tr>\n",
       "    <tr>\n",
       "      <td>34</td>\n",
       "      <td>Call of Duty: Black Ops II</td>\n",
       "      <td>PS3</td>\n",
       "      <td>2012</td>\n",
       "      <td>Shooter</td>\n",
       "      <td>4.99</td>\n",
       "      <td>5.73</td>\n",
       "      <td>0.65</td>\n",
       "      <td>2.42</td>\n",
       "      <td>83</td>\n",
       "      <td>5.3</td>\n",
       "      <td>M</td>\n",
       "      <td>13.79</td>\n",
       "    </tr>\n",
       "  </tbody>\n",
       "</table>\n",
       "</div>"
      ],
      "text/plain": [
       "                          name platform  year_of_release         genre  \\\n",
       "16          Grand Theft Auto V      PS3             2013        Action   \n",
       "23          Grand Theft Auto V     X360             2013        Action   \n",
       "31   Call of Duty: Black Ops 3      PS4             2015       Shooter   \n",
       "33         Pokemon X/Pokemon Y      3DS             2013  Role-Playing   \n",
       "34  Call of Duty: Black Ops II      PS3             2012       Shooter   \n",
       "\n",
       "    na_sales  eu_sales  jp_sales  other_sales  critic_score  user_score  \\\n",
       "16      7.02      9.09      0.98         3.96            97         8.2   \n",
       "23      9.66      5.14      0.06         1.41            97         8.1   \n",
       "31      6.03      5.86      0.36         2.38           -10         NaN   \n",
       "33      5.28      4.19      4.35         0.78           -10         NaN   \n",
       "34      4.99      5.73      0.65         2.42            83         5.3   \n",
       "\n",
       "   rating  total_sales  \n",
       "16      M        21.05  \n",
       "23      M        16.27  \n",
       "31    NaN        14.63  \n",
       "33    NaN        14.60  \n",
       "34      M        13.79  "
      ]
     },
     "execution_count": 244,
     "metadata": {},
     "output_type": "execute_result"
    }
   ],
   "source": [
    "games_last_years.head()"
   ]
  },
  {
   "cell_type": "code",
   "execution_count": 245,
   "metadata": {},
   "outputs": [
    {
     "data": {
      "text/plain": [
       "6.521428571428572"
      ]
     },
     "execution_count": 245,
     "metadata": {},
     "output_type": "execute_result"
    }
   ],
   "source": [
    "# средняя оценка пользователей игр на XOne\n",
    "mean_score_XOne = games_last_years.query('platform ==\"XOne\" & user_score >=0')['user_score'].mean()\n",
    "# games_last_years.query('platform ==\"XOne\" & user_score >=0')['user_score'].describe() \n",
    "mean_score_XOne"
   ]
  },
  {
   "cell_type": "code",
   "execution_count": 246,
   "metadata": {},
   "outputs": [
    {
     "data": {
      "text/plain": [
       "6.4286407766990274"
      ]
     },
     "execution_count": 246,
     "metadata": {},
     "output_type": "execute_result"
    }
   ],
   "source": [
    "# средняя оценка пользователей игр на PC\n",
    "mean_score_PC = games_last_years.query('platform ==\"PC\" & user_score >=0')['user_score'].mean()\n",
    "mean_score_PC \n",
    "# games_last_years.query('platform ==\"PC\" & user_score >=0')['user_score'].describe()"
   ]
  },
  {
   "cell_type": "code",
   "execution_count": 247,
   "metadata": {},
   "outputs": [
    {
     "name": "stdout",
     "output_type": "stream",
     "text": [
      "p-значение: 0.5535080500643661\n",
      "Не получилось отвергнуть нулевую гипотезу\n"
     ]
    }
   ],
   "source": [
    "alpha = .05 # критический уровень статистической значимости\n",
    "            # если p-value окажется меньше него - отвергнем гипотезу\n",
    "\n",
    "results = st.ttest_ind(\n",
    "    games_last_years.query('platform ==\"XOne\" & user_score >=0')['user_score'], \n",
    "    games_last_years.query('platform ==\"PC\" & user_score >=0')['user_score']\n",
    ")\n",
    "\n",
    "print('p-значение:', results.pvalue)\n",
    "\n",
    "if (results.pvalue < alpha):\n",
    "    print(\"Отвергаем нулевую гипотезу\")\n",
    "else:\n",
    "    print(\"Не получилось отвергнуть нулевую гипотезу\")"
   ]
  },
  {
   "cell_type": "markdown",
   "metadata": {},
   "source": [
    "У нас не получилось отвергнуть нулевую гипотезу. Полученное значение p-value говорит о том, что с вероятностью в 6.2% большее различие между средними оценками можно получить случайно. Итак, средние пользовательские рейтинги платформ Xbox One и PC одинаковые."
   ]
  },
  {
   "cell_type": "markdown",
   "metadata": {},
   "source": [
    "#### Проверим 2 гипотезу:\n",
    "- Средние пользовательские рейтинги жанров Action (англ. «действие», экшен-игры) и Sports (англ. «спортивные соревнования») разные."
   ]
  },
  {
   "cell_type": "markdown",
   "metadata": {},
   "source": [
    "Нулевая гипотеза будет такая: \"разницы между рейтингами жанров Action и Sports нет, средняя пользовательская оценка этих жанров равна\""
   ]
  },
  {
   "cell_type": "code",
   "execution_count": 248,
   "metadata": {},
   "outputs": [
    {
     "data": {
      "text/plain": [
       "6.8336538461538465"
      ]
     },
     "execution_count": 248,
     "metadata": {},
     "output_type": "execute_result"
    }
   ],
   "source": [
    "# средняя оценка пользователей игр жанрa Action\n",
    "mean_score_action = games_last_years.query('genre ==\"Action\" & user_score >=0')['user_score'].mean()\n",
    "mean_score_action\n",
    "# games_last_years.query('genre ==\"Action\" & user_score >=0')['user_score'].describe()"
   ]
  },
  {
   "cell_type": "code",
   "execution_count": 249,
   "metadata": {},
   "outputs": [
    {
     "data": {
      "text/plain": [
       "5.466494845360825"
      ]
     },
     "execution_count": 249,
     "metadata": {},
     "output_type": "execute_result"
    }
   ],
   "source": [
    "# средняя оценка пользователей игр жанрa Sports\n",
    "mean_score_sports = games_last_years.query('genre ==\"Sports\" & user_score >=0')['user_score'].mean()\n",
    "mean_score_sports\n",
    "# games_last_years.query('genre ==\"Sports\" & user_score >=0')['user_score'].describe()"
   ]
  },
  {
   "cell_type": "code",
   "execution_count": 250,
   "metadata": {},
   "outputs": [
    {
     "name": "stdout",
     "output_type": "stream",
     "text": [
      "p-значение: 3.639495732612309e-26\n",
      "Отвергаем нулевую гипотезу\n"
     ]
    }
   ],
   "source": [
    "alpha = .05 # критический уровень статистической значимости\n",
    "            # если p-value окажется меньше него - отвергнем гипотезу\n",
    "\n",
    "results = st.ttest_ind(\n",
    "    games_last_years.query('genre ==\"Action\" & user_score >=0')['user_score'], \n",
    "    games_last_years.query('genre ==\"Sports\" & user_score >=0')['user_score']\n",
    ")\n",
    "\n",
    "print('p-значение:', results.pvalue)\n",
    "\n",
    "if (results.pvalue < alpha):\n",
    "    print(\"Отвергаем нулевую гипотезу\")\n",
    "else:\n",
    "    print(\"Не получилось отвергнуть нулевую гипотезу\")"
   ]
  },
  {
   "cell_type": "markdown",
   "metadata": {},
   "source": [
    "Вероятность получить равные оценки пользователей для  жанров Action  и Sports равна почти нулю, отвергаем нулевую гипотезу. Итак, средние пользовательские рейтинги жанров Action  и Sports разные."
   ]
  },
  {
   "cell_type": "markdown",
   "metadata": {},
   "source": [
    "### Результаты проверки гипотез\n",
    "\n",
    "1. Средние пользовательские рейтинги платформ Xbox One и PC одинаковые.  \n",
    "2. Средние пользовательские рейтинги жанров Action  и Sports разные."
   ]
  },
  {
   "cell_type": "markdown",
   "metadata": {},
   "source": [
    "<div style=\"border:solid green 2px; padding: 20px\"> <h1 style=\"color:green; margin-bottom:20px\">Комментарий наставника</h1>\n",
    "\n",
    "Радует, что для проверки гипотез используешь правильные методы, вывода по результатам првоерки тоже правильные, молодец"
   ]
  },
  {
   "cell_type": "markdown",
   "metadata": {},
   "source": [
    "### Общий вывод.\n",
    "В течение 10-11 лет появляются новые и исчезают старые платформы, причем первые 5-6 лет выручка растет. Для анализа оставили данные за предыдущие 5 лет - с 2012 по 2016 года.  \n",
    "Выручка от продажи игр в 2016 году падала на всех платформах. Самая большая годовая выручка на 2016 год у платформ PS4 и XOne.  \n",
    "Средние продажи от игр на уровне 0.25 млн долларов для большинства платформ (за исключением 3DS, PC, PSV у них около 0,1 млн.долл.). В среднем больше всего коммерчески удачных игры выпускали PS3, PS4, X360, XOne, WiiU    \n",
    "Для большинства платформ коэффициент кореляции между рейтингом критиков и суммарными продажами лежит в интервале(0,3 - 0,42). Между оценками пользователей и суммарными продажами никакой связи нет.  \n",
    "В среднем, самые выгодные жанры это платформеры, шутеры, ролевые и спорт, самые низкие продажи у жанров приключений и квестов.   \n",
    "\n",
    "Выручка от продажи игр в Японии и Северной Америке выше в 2-3 раза, чем в Европе.   \n",
    "В целом, портрет пользователя из Японии и Америки очень похожи. Они предпочитают Xbox и Playstation, любимые жанры - экшн, шутеры, спорт, и любые игры для взрослых. В Европе популярны Nintendo и Playstation,самые популярные жанры - ролевые игры, экшн и разное, самые популярные игры  из категории \"для всех\"\n",
    "\n",
    "После проверки гипотез, выяснили:   \n",
    "1) средние пользовательские рейтинги платформ Xbox One и PC одинаковые.  \n",
    "2) средние пользовательские рейтинги жанров Action  и Sports разные, жанр Action имеет большую оценку пользователей."
   ]
  },
  {
   "cell_type": "markdown",
   "metadata": {},
   "source": [
    "<div style=\"border:solid green 2px; padding: 20px\"> <h1 style=\"color:green; margin-bottom:20px\">Комментарий наставника</h1>\n",
    "\n",
    "Вывод покрывает все аспекты проделанной работы, супер"
   ]
  },
  {
   "cell_type": "markdown",
   "metadata": {},
   "source": [
    "<div style=\"border:solid green 2px; padding: 20px\"> <h1 style=\"color:green; margin-bottom:20px\">Комментарий наставника</h1>\n",
    "\n",
    "Ты проделала колоссальную работу и я очень рад за тебя! Удачи на следующем этапе!"
   ]
  },
  {
   "cell_type": "code",
   "execution_count": null,
   "metadata": {},
   "outputs": [],
   "source": []
  }
 ],
 "metadata": {
  "kernelspec": {
   "display_name": "Python 3",
   "language": "python",
   "name": "python3"
  },
  "language_info": {
   "codemirror_mode": {
    "name": "ipython",
    "version": 3
   },
   "file_extension": ".py",
   "mimetype": "text/x-python",
   "name": "python",
   "nbconvert_exporter": "python",
   "pygments_lexer": "ipython3",
   "version": "3.7.6"
  }
 },
 "nbformat": 4,
 "nbformat_minor": 2
}
