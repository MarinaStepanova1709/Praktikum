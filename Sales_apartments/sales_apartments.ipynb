{
 "cells": [
  {
   "cell_type": "markdown",
   "metadata": {},
   "source": [
    "# Исследование объявлений о продаже квартир\n",
    "\n",
    "В вашем распоряжении данные сервиса Яндекс.Недвижимость — архив объявлений о продаже квартир в Санкт-Петербурге и соседних населённых пунктов за несколько лет. Нужно научиться определять рыночную стоимость объектов недвижимости. Ваша задача — установить параметры. Это позволит построить автоматизированную систему: она отследит аномалии и мошенническую деятельность. \n",
    "\n",
    "По каждой квартире на продажу доступны два вида данных. Первые вписаны пользователем, вторые — получены автоматически на основе картографических данных. Например, расстояние до центра, аэропорта, ближайшего парка и водоёма. "
   ]
  },
  {
   "cell_type": "markdown",
   "metadata": {},
   "source": [
    "Описание данных\n",
    "* airports_nearest — расстояние до ближайшего аэропорта в метрах (м)\n",
    "* balcony — число балконов\n",
    "* ceiling_height — высота потолков (м)\n",
    "* cityCenters_nearest — расстояние до центра города (м)\n",
    "* days_exposition — сколько дней было размещено объявление (от публикации до снятия)\n",
    "* first_day_exposition — дата публикации\n",
    "* floor — этаж\n",
    "* floors_total — всего этажей в доме\n",
    "* is_apartment — апартаменты (булев тип)\n",
    "* kitchen_area — площадь кухни в квадратных метрах (м²)\n",
    "* last_price — цена на момент снятия с публикации\n",
    "* living_area — жилая площадь в квадратных метрах(м²)\n",
    "* locality_name — название населённого пункта\n",
    "* open_plan — свободная планировка (булев тип)\n",
    "* parks_around3000 — число парков в радиусе 3 км\n",
    "* parks_nearest — расстояние до ближайшего парка (м)\n",
    "* ponds_around3000 — число водоёмов в радиусе 3 км\n",
    "* ponds_nearest — расстояние до ближайшего водоёма (м)\n",
    "* rooms — число комнат\n",
    "* studio — квартира-студия (булев тип)\n",
    "* total_area — площадь квартиры в квадратных метрах (м²)\n",
    "* total_images — число фотографий квартиры в объявлении"
   ]
  },
  {
   "cell_type": "markdown",
   "metadata": {},
   "source": [
    "В данной работе надо выполнить следующие шаги:\n",
    "\n",
    "Шаг 1. Открыть файл и изучить информацию.\n",
    "\n",
    "Шаг 2. Предобработка данных:\n",
    "- определить  пропущенные значения, а также указать причины, которые могли привести к пропускам в данных\n",
    "- заполнить пропуски, где это уместно\n",
    "- привести данные к нужным типам\n",
    "\n",
    "Шаг 3. Добавить в таблицу:\n",
    " - цену квадратного метра;\n",
    " - день недели, месяц и год публикации объявления;\n",
    " - этаж квартиры; варианты — первый, последний, другой;\n",
    " - соотношение жилой и общей площади, а также отношение площади кухни к общей.\n",
    "\n",
    "Шаг 4. Провести исследовательский анализ данных:\n",
    " - Построить гистограммы для каждого параметра: площадь, цена, число комнат, высота потолков. \n",
    " - Изучить время продажи квартиры. Постройте гистограмму. Когда можно считать, что продажи прошли очень быстро, а когда необычно долго?\n",
    " - Убрать редкие и выбивающиеся значения. Описать, какие особенности обнаружили.\n",
    " - Какие факторы больше всего влияют на стоимость квартиры? Изучить, зависит ли цена от квадратного метра, числа комнат, удалённости от центра. Изучить зависимость цены от того, на каком этаже расположена квартира: первом, последнем или другом. Также изучить зависимость от даты размещения: дня недели, месяца и года.\n",
    " - Выбрать 10 населённых пунктов с наибольшим числом объявлений. Посчитать среднюю цену квадратного метра в этих населённых пунктах. Выделить населённые пункты с самой высокой и низкой стоимостью жилья. \n",
    " - Выделить квартиры в Санкт-Петербурге ('locality_name'). Выяснить, какая область входит в центр. Создайте столбец с расстоянием до центра в километрах: округлите до целых значений. После этого посчитайте среднюю цену для каждого километра. \n",
    " - Выделить сегмент квартир в центре. Изучить следующие параметры: площадь, цена, число комнат, высота потолков. Также выделить факторы, которые влияют на стоимость квартиры (число комнат, этаж, удалённость от центра, дата размещения объявления). Сделать выводы. Отличаются ли они от общих выводов по всему городу?\n",
    "\n",
    "Шаг 5. Общий вывод"
   ]
  },
  {
   "cell_type": "markdown",
   "metadata": {},
   "source": [
    "### Шаг 1. Откройте файл с данными и изучите общую информацию. "
   ]
  },
  {
   "cell_type": "code",
   "execution_count": 3,
   "metadata": {},
   "outputs": [
    {
     "data": {
      "text/html": [
       "<div>\n",
       "<style scoped>\n",
       "    .dataframe tbody tr th:only-of-type {\n",
       "        vertical-align: middle;\n",
       "    }\n",
       "\n",
       "    .dataframe tbody tr th {\n",
       "        vertical-align: top;\n",
       "    }\n",
       "\n",
       "    .dataframe thead th {\n",
       "        text-align: right;\n",
       "    }\n",
       "</style>\n",
       "<table border=\"1\" class=\"dataframe\">\n",
       "  <thead>\n",
       "    <tr style=\"text-align: right;\">\n",
       "      <th></th>\n",
       "      <th>total_images</th>\n",
       "      <th>last_price</th>\n",
       "      <th>total_area</th>\n",
       "      <th>first_day_exposition</th>\n",
       "      <th>rooms</th>\n",
       "      <th>ceiling_height</th>\n",
       "      <th>floors_total</th>\n",
       "      <th>living_area</th>\n",
       "      <th>floor</th>\n",
       "      <th>is_apartment</th>\n",
       "      <th>...</th>\n",
       "      <th>kitchen_area</th>\n",
       "      <th>balcony</th>\n",
       "      <th>locality_name</th>\n",
       "      <th>airports_nearest</th>\n",
       "      <th>cityCenters_nearest</th>\n",
       "      <th>parks_around3000</th>\n",
       "      <th>parks_nearest</th>\n",
       "      <th>ponds_around3000</th>\n",
       "      <th>ponds_nearest</th>\n",
       "      <th>days_exposition</th>\n",
       "    </tr>\n",
       "  </thead>\n",
       "  <tbody>\n",
       "    <tr>\n",
       "      <th>0</th>\n",
       "      <td>20</td>\n",
       "      <td>13000000.0</td>\n",
       "      <td>108.00</td>\n",
       "      <td>2019-03-07T00:00:00</td>\n",
       "      <td>3</td>\n",
       "      <td>2.70</td>\n",
       "      <td>16.0</td>\n",
       "      <td>51.00</td>\n",
       "      <td>8</td>\n",
       "      <td>NaN</td>\n",
       "      <td>...</td>\n",
       "      <td>25.00</td>\n",
       "      <td>NaN</td>\n",
       "      <td>Санкт-Петербург</td>\n",
       "      <td>18863.0</td>\n",
       "      <td>16028.0</td>\n",
       "      <td>1.0</td>\n",
       "      <td>482.0</td>\n",
       "      <td>2.0</td>\n",
       "      <td>755.0</td>\n",
       "      <td>NaN</td>\n",
       "    </tr>\n",
       "    <tr>\n",
       "      <th>1</th>\n",
       "      <td>7</td>\n",
       "      <td>3350000.0</td>\n",
       "      <td>40.40</td>\n",
       "      <td>2018-12-04T00:00:00</td>\n",
       "      <td>1</td>\n",
       "      <td>NaN</td>\n",
       "      <td>11.0</td>\n",
       "      <td>18.60</td>\n",
       "      <td>1</td>\n",
       "      <td>NaN</td>\n",
       "      <td>...</td>\n",
       "      <td>11.00</td>\n",
       "      <td>2.0</td>\n",
       "      <td>посёлок Шушары</td>\n",
       "      <td>12817.0</td>\n",
       "      <td>18603.0</td>\n",
       "      <td>0.0</td>\n",
       "      <td>NaN</td>\n",
       "      <td>0.0</td>\n",
       "      <td>NaN</td>\n",
       "      <td>81.0</td>\n",
       "    </tr>\n",
       "    <tr>\n",
       "      <th>2</th>\n",
       "      <td>10</td>\n",
       "      <td>5196000.0</td>\n",
       "      <td>56.00</td>\n",
       "      <td>2015-08-20T00:00:00</td>\n",
       "      <td>2</td>\n",
       "      <td>NaN</td>\n",
       "      <td>5.0</td>\n",
       "      <td>34.30</td>\n",
       "      <td>4</td>\n",
       "      <td>NaN</td>\n",
       "      <td>...</td>\n",
       "      <td>8.30</td>\n",
       "      <td>0.0</td>\n",
       "      <td>Санкт-Петербург</td>\n",
       "      <td>21741.0</td>\n",
       "      <td>13933.0</td>\n",
       "      <td>1.0</td>\n",
       "      <td>90.0</td>\n",
       "      <td>2.0</td>\n",
       "      <td>574.0</td>\n",
       "      <td>558.0</td>\n",
       "    </tr>\n",
       "    <tr>\n",
       "      <th>3</th>\n",
       "      <td>0</td>\n",
       "      <td>64900000.0</td>\n",
       "      <td>159.00</td>\n",
       "      <td>2015-07-24T00:00:00</td>\n",
       "      <td>3</td>\n",
       "      <td>NaN</td>\n",
       "      <td>14.0</td>\n",
       "      <td>NaN</td>\n",
       "      <td>9</td>\n",
       "      <td>NaN</td>\n",
       "      <td>...</td>\n",
       "      <td>NaN</td>\n",
       "      <td>0.0</td>\n",
       "      <td>Санкт-Петербург</td>\n",
       "      <td>28098.0</td>\n",
       "      <td>6800.0</td>\n",
       "      <td>2.0</td>\n",
       "      <td>84.0</td>\n",
       "      <td>3.0</td>\n",
       "      <td>234.0</td>\n",
       "      <td>424.0</td>\n",
       "    </tr>\n",
       "    <tr>\n",
       "      <th>4</th>\n",
       "      <td>2</td>\n",
       "      <td>10000000.0</td>\n",
       "      <td>100.00</td>\n",
       "      <td>2018-06-19T00:00:00</td>\n",
       "      <td>2</td>\n",
       "      <td>3.03</td>\n",
       "      <td>14.0</td>\n",
       "      <td>32.00</td>\n",
       "      <td>13</td>\n",
       "      <td>NaN</td>\n",
       "      <td>...</td>\n",
       "      <td>41.00</td>\n",
       "      <td>NaN</td>\n",
       "      <td>Санкт-Петербург</td>\n",
       "      <td>31856.0</td>\n",
       "      <td>8098.0</td>\n",
       "      <td>2.0</td>\n",
       "      <td>112.0</td>\n",
       "      <td>1.0</td>\n",
       "      <td>48.0</td>\n",
       "      <td>121.0</td>\n",
       "    </tr>\n",
       "    <tr>\n",
       "      <th>5</th>\n",
       "      <td>10</td>\n",
       "      <td>2890000.0</td>\n",
       "      <td>30.40</td>\n",
       "      <td>2018-09-10T00:00:00</td>\n",
       "      <td>1</td>\n",
       "      <td>NaN</td>\n",
       "      <td>12.0</td>\n",
       "      <td>14.40</td>\n",
       "      <td>5</td>\n",
       "      <td>NaN</td>\n",
       "      <td>...</td>\n",
       "      <td>9.10</td>\n",
       "      <td>NaN</td>\n",
       "      <td>городской посёлок Янино-1</td>\n",
       "      <td>NaN</td>\n",
       "      <td>NaN</td>\n",
       "      <td>NaN</td>\n",
       "      <td>NaN</td>\n",
       "      <td>NaN</td>\n",
       "      <td>NaN</td>\n",
       "      <td>55.0</td>\n",
       "    </tr>\n",
       "    <tr>\n",
       "      <th>6</th>\n",
       "      <td>6</td>\n",
       "      <td>3700000.0</td>\n",
       "      <td>37.30</td>\n",
       "      <td>2017-11-02T00:00:00</td>\n",
       "      <td>1</td>\n",
       "      <td>NaN</td>\n",
       "      <td>26.0</td>\n",
       "      <td>10.60</td>\n",
       "      <td>6</td>\n",
       "      <td>NaN</td>\n",
       "      <td>...</td>\n",
       "      <td>14.40</td>\n",
       "      <td>1.0</td>\n",
       "      <td>посёлок Парголово</td>\n",
       "      <td>52996.0</td>\n",
       "      <td>19143.0</td>\n",
       "      <td>0.0</td>\n",
       "      <td>NaN</td>\n",
       "      <td>0.0</td>\n",
       "      <td>NaN</td>\n",
       "      <td>155.0</td>\n",
       "    </tr>\n",
       "    <tr>\n",
       "      <th>7</th>\n",
       "      <td>5</td>\n",
       "      <td>7915000.0</td>\n",
       "      <td>71.60</td>\n",
       "      <td>2019-04-18T00:00:00</td>\n",
       "      <td>2</td>\n",
       "      <td>NaN</td>\n",
       "      <td>24.0</td>\n",
       "      <td>NaN</td>\n",
       "      <td>22</td>\n",
       "      <td>NaN</td>\n",
       "      <td>...</td>\n",
       "      <td>18.90</td>\n",
       "      <td>2.0</td>\n",
       "      <td>Санкт-Петербург</td>\n",
       "      <td>23982.0</td>\n",
       "      <td>11634.0</td>\n",
       "      <td>0.0</td>\n",
       "      <td>NaN</td>\n",
       "      <td>0.0</td>\n",
       "      <td>NaN</td>\n",
       "      <td>NaN</td>\n",
       "    </tr>\n",
       "    <tr>\n",
       "      <th>8</th>\n",
       "      <td>20</td>\n",
       "      <td>2900000.0</td>\n",
       "      <td>33.16</td>\n",
       "      <td>2018-05-23T00:00:00</td>\n",
       "      <td>1</td>\n",
       "      <td>NaN</td>\n",
       "      <td>27.0</td>\n",
       "      <td>15.43</td>\n",
       "      <td>26</td>\n",
       "      <td>NaN</td>\n",
       "      <td>...</td>\n",
       "      <td>8.81</td>\n",
       "      <td>NaN</td>\n",
       "      <td>посёлок Мурино</td>\n",
       "      <td>NaN</td>\n",
       "      <td>NaN</td>\n",
       "      <td>NaN</td>\n",
       "      <td>NaN</td>\n",
       "      <td>NaN</td>\n",
       "      <td>NaN</td>\n",
       "      <td>189.0</td>\n",
       "    </tr>\n",
       "    <tr>\n",
       "      <th>9</th>\n",
       "      <td>18</td>\n",
       "      <td>5400000.0</td>\n",
       "      <td>61.00</td>\n",
       "      <td>2017-02-26T00:00:00</td>\n",
       "      <td>3</td>\n",
       "      <td>2.50</td>\n",
       "      <td>9.0</td>\n",
       "      <td>43.60</td>\n",
       "      <td>7</td>\n",
       "      <td>NaN</td>\n",
       "      <td>...</td>\n",
       "      <td>6.50</td>\n",
       "      <td>2.0</td>\n",
       "      <td>Санкт-Петербург</td>\n",
       "      <td>50898.0</td>\n",
       "      <td>15008.0</td>\n",
       "      <td>0.0</td>\n",
       "      <td>NaN</td>\n",
       "      <td>0.0</td>\n",
       "      <td>NaN</td>\n",
       "      <td>289.0</td>\n",
       "    </tr>\n",
       "  </tbody>\n",
       "</table>\n",
       "<p>10 rows × 22 columns</p>\n",
       "</div>"
      ],
      "text/plain": [
       "   total_images  last_price  total_area first_day_exposition  rooms  \\\n",
       "0            20  13000000.0      108.00  2019-03-07T00:00:00      3   \n",
       "1             7   3350000.0       40.40  2018-12-04T00:00:00      1   \n",
       "2            10   5196000.0       56.00  2015-08-20T00:00:00      2   \n",
       "3             0  64900000.0      159.00  2015-07-24T00:00:00      3   \n",
       "4             2  10000000.0      100.00  2018-06-19T00:00:00      2   \n",
       "5            10   2890000.0       30.40  2018-09-10T00:00:00      1   \n",
       "6             6   3700000.0       37.30  2017-11-02T00:00:00      1   \n",
       "7             5   7915000.0       71.60  2019-04-18T00:00:00      2   \n",
       "8            20   2900000.0       33.16  2018-05-23T00:00:00      1   \n",
       "9            18   5400000.0       61.00  2017-02-26T00:00:00      3   \n",
       "\n",
       "   ceiling_height  floors_total  living_area  floor is_apartment  ...  \\\n",
       "0            2.70          16.0        51.00      8          NaN  ...   \n",
       "1             NaN          11.0        18.60      1          NaN  ...   \n",
       "2             NaN           5.0        34.30      4          NaN  ...   \n",
       "3             NaN          14.0          NaN      9          NaN  ...   \n",
       "4            3.03          14.0        32.00     13          NaN  ...   \n",
       "5             NaN          12.0        14.40      5          NaN  ...   \n",
       "6             NaN          26.0        10.60      6          NaN  ...   \n",
       "7             NaN          24.0          NaN     22          NaN  ...   \n",
       "8             NaN          27.0        15.43     26          NaN  ...   \n",
       "9            2.50           9.0        43.60      7          NaN  ...   \n",
       "\n",
       "   kitchen_area  balcony              locality_name  airports_nearest  \\\n",
       "0         25.00      NaN            Санкт-Петербург           18863.0   \n",
       "1         11.00      2.0             посёлок Шушары           12817.0   \n",
       "2          8.30      0.0            Санкт-Петербург           21741.0   \n",
       "3           NaN      0.0            Санкт-Петербург           28098.0   \n",
       "4         41.00      NaN            Санкт-Петербург           31856.0   \n",
       "5          9.10      NaN  городской посёлок Янино-1               NaN   \n",
       "6         14.40      1.0          посёлок Парголово           52996.0   \n",
       "7         18.90      2.0            Санкт-Петербург           23982.0   \n",
       "8          8.81      NaN             посёлок Мурино               NaN   \n",
       "9          6.50      2.0            Санкт-Петербург           50898.0   \n",
       "\n",
       "  cityCenters_nearest  parks_around3000  parks_nearest  ponds_around3000  \\\n",
       "0             16028.0               1.0          482.0               2.0   \n",
       "1             18603.0               0.0            NaN               0.0   \n",
       "2             13933.0               1.0           90.0               2.0   \n",
       "3              6800.0               2.0           84.0               3.0   \n",
       "4              8098.0               2.0          112.0               1.0   \n",
       "5                 NaN               NaN            NaN               NaN   \n",
       "6             19143.0               0.0            NaN               0.0   \n",
       "7             11634.0               0.0            NaN               0.0   \n",
       "8                 NaN               NaN            NaN               NaN   \n",
       "9             15008.0               0.0            NaN               0.0   \n",
       "\n",
       "   ponds_nearest  days_exposition  \n",
       "0          755.0              NaN  \n",
       "1            NaN             81.0  \n",
       "2          574.0            558.0  \n",
       "3          234.0            424.0  \n",
       "4           48.0            121.0  \n",
       "5            NaN             55.0  \n",
       "6            NaN            155.0  \n",
       "7            NaN              NaN  \n",
       "8            NaN            189.0  \n",
       "9            NaN            289.0  \n",
       "\n",
       "[10 rows x 22 columns]"
      ]
     },
     "execution_count": 3,
     "metadata": {},
     "output_type": "execute_result"
    }
   ],
   "source": [
    "import pandas as pd\n",
    "import matplotlib.pyplot as plt\n",
    "# apartments = pd.read_csv('/datasets/real_estate_data.csv', sep = '\\t')\n",
    "apartments = pd.read_csv('real_estate_data.csv', sep = '\\t')\n",
    "apartments.head(10)"
   ]
  },
  {
   "cell_type": "code",
   "execution_count": 4,
   "metadata": {},
   "outputs": [
    {
     "name": "stdout",
     "output_type": "stream",
     "text": [
      "<class 'pandas.core.frame.DataFrame'>\n",
      "RangeIndex: 23699 entries, 0 to 23698\n",
      "Data columns (total 22 columns):\n",
      " #   Column                Non-Null Count  Dtype  \n",
      "---  ------                --------------  -----  \n",
      " 0   total_images          23699 non-null  int64  \n",
      " 1   last_price            23699 non-null  float64\n",
      " 2   total_area            23699 non-null  float64\n",
      " 3   first_day_exposition  23699 non-null  object \n",
      " 4   rooms                 23699 non-null  int64  \n",
      " 5   ceiling_height        14504 non-null  float64\n",
      " 6   floors_total          23613 non-null  float64\n",
      " 7   living_area           21796 non-null  float64\n",
      " 8   floor                 23699 non-null  int64  \n",
      " 9   is_apartment          2775 non-null   object \n",
      " 10  studio                23699 non-null  bool   \n",
      " 11  open_plan             23699 non-null  bool   \n",
      " 12  kitchen_area          21421 non-null  float64\n",
      " 13  balcony               12180 non-null  float64\n",
      " 14  locality_name         23650 non-null  object \n",
      " 15  airports_nearest      18157 non-null  float64\n",
      " 16  cityCenters_nearest   18180 non-null  float64\n",
      " 17  parks_around3000      18181 non-null  float64\n",
      " 18  parks_nearest         8079 non-null   float64\n",
      " 19  ponds_around3000      18181 non-null  float64\n",
      " 20  ponds_nearest         9110 non-null   float64\n",
      " 21  days_exposition       20518 non-null  float64\n",
      "dtypes: bool(2), float64(14), int64(3), object(3)\n",
      "memory usage: 3.7+ MB\n"
     ]
    }
   ],
   "source": [
    "apartments.info()"
   ]
  },
  {
   "cell_type": "markdown",
   "metadata": {},
   "source": [
    "### Вывод"
   ]
  },
  {
   "cell_type": "markdown",
   "metadata": {},
   "source": [
    "Таблица состоит из 23699 строк. Самые важные для анализа стоимости недвижимости - цена ('last_price') и общая площадь ('total_area') даны без пропусков. Во многих столбцах есть пропуски данных. Данные  о расстоянии до центра - важный параметр для цены на недвижимость, если квартира находится в поселке, расстояние можно заполнить посмотрев расстояние по карте или из другой строки с таким же названием поселка. Пропуски в количестве балконов, парков и водоемов в районе 3 км говорит о том, что их нет, заменим эти данные на \"0\". Пропуски в расстоянии до парка, водоема заменим на \"3000\"        \n",
    " Следующие столбцы надо перевести в другой формат: \n",
    "+ первый день показа (first_day_exposition) в формат времени; \n",
    "+ всего этажей в доме(floors_total), количество балконов (balcony), цена(last_price), расстояние до аэропорта, центра города, парка, водоема (airports_nearest, cityCenters_nearest, parks_nearest, ponds_nearest), количество парков и водоемов в радиусе 3 км ( parks_around3000,  ponds_around3000), дни показа (days_exposition) - в тип int; \n",
    "+ является ли недвижимость апартаментами (is_apartment) в тип bool"
   ]
  },
  {
   "cell_type": "markdown",
   "metadata": {},
   "source": [
    "### Шаг 2. Предобработка данных"
   ]
  },
  {
   "cell_type": "markdown",
   "metadata": {},
   "source": [
    "Проверим наличие пропусков в столбце (высота потолков\n"
   ]
  },
  {
   "cell_type": "code",
   "execution_count": 5,
   "metadata": {},
   "outputs": [
    {
     "data": {
      "text/plain": [
       "9195"
      ]
     },
     "execution_count": 5,
     "metadata": {},
     "output_type": "execute_result"
    }
   ],
   "source": [
    "apartments['ceiling_height'].isnull().sum()"
   ]
  },
  {
   "cell_type": "code",
   "execution_count": 6,
   "metadata": {},
   "outputs": [
    {
     "data": {
      "text/plain": [
       "count    14504.000000\n",
       "mean         2.771499\n",
       "std          1.261056\n",
       "min          1.000000\n",
       "25%          2.520000\n",
       "50%          2.650000\n",
       "75%          2.800000\n",
       "max        100.000000\n",
       "Name: ceiling_height, dtype: float64"
      ]
     },
     "execution_count": 6,
     "metadata": {},
     "output_type": "execute_result"
    }
   ],
   "source": [
    "# посмотрим описание столбца \"ceiling_height\"\n",
    "apartments['ceiling_height'].describe()"
   ]
  },
  {
   "cell_type": "markdown",
   "metadata": {},
   "source": [
    "Высота потолков в среднем 2,7м, что является средним для квартир в России. Возможно при подаче объявления люди просто не посчитали это важным фактором, если бы в продаваемой квартире высота потолков была 3,3 метра, хозяева не забыли бы это упомянуть. Заменим пропущенные значение высоты потолков на среднее. "
   ]
  },
  {
   "cell_type": "code",
   "execution_count": 7,
   "metadata": {},
   "outputs": [
    {
     "data": {
      "text/html": [
       "<div>\n",
       "<style scoped>\n",
       "    .dataframe tbody tr th:only-of-type {\n",
       "        vertical-align: middle;\n",
       "    }\n",
       "\n",
       "    .dataframe tbody tr th {\n",
       "        vertical-align: top;\n",
       "    }\n",
       "\n",
       "    .dataframe thead th {\n",
       "        text-align: right;\n",
       "    }\n",
       "</style>\n",
       "<table border=\"1\" class=\"dataframe\">\n",
       "  <thead>\n",
       "    <tr style=\"text-align: right;\">\n",
       "      <th></th>\n",
       "      <th>total_images</th>\n",
       "      <th>last_price</th>\n",
       "      <th>total_area</th>\n",
       "      <th>first_day_exposition</th>\n",
       "      <th>rooms</th>\n",
       "      <th>ceiling_height</th>\n",
       "      <th>floors_total</th>\n",
       "      <th>living_area</th>\n",
       "      <th>floor</th>\n",
       "      <th>is_apartment</th>\n",
       "      <th>...</th>\n",
       "      <th>kitchen_area</th>\n",
       "      <th>balcony</th>\n",
       "      <th>locality_name</th>\n",
       "      <th>airports_nearest</th>\n",
       "      <th>cityCenters_nearest</th>\n",
       "      <th>parks_around3000</th>\n",
       "      <th>parks_nearest</th>\n",
       "      <th>ponds_around3000</th>\n",
       "      <th>ponds_nearest</th>\n",
       "      <th>days_exposition</th>\n",
       "    </tr>\n",
       "  </thead>\n",
       "  <tbody>\n",
       "  </tbody>\n",
       "</table>\n",
       "<p>0 rows × 22 columns</p>\n",
       "</div>"
      ],
      "text/plain": [
       "Empty DataFrame\n",
       "Columns: [total_images, last_price, total_area, first_day_exposition, rooms, ceiling_height, floors_total, living_area, floor, is_apartment, studio, open_plan, kitchen_area, balcony, locality_name, airports_nearest, cityCenters_nearest, parks_around3000, parks_nearest, ponds_around3000, ponds_nearest, days_exposition]\n",
       "Index: []\n",
       "\n",
       "[0 rows x 22 columns]"
      ]
     },
     "execution_count": 7,
     "metadata": {},
     "output_type": "execute_result"
    }
   ],
   "source": [
    "mean_ceiling = apartments['ceiling_height'].mean()\n",
    "apartments['ceiling_height'] = apartments['ceiling_height'].fillna(mean_ceiling)\n",
    "apartments[apartments['ceiling_height'].isnull()] #проверим наличие пропущенных значений "
   ]
  },
  {
   "cell_type": "markdown",
   "metadata": {},
   "source": [
    "#### Пропуски в столбце floors_total (всего этажей в доме)"
   ]
  },
  {
   "cell_type": "markdown",
   "metadata": {},
   "source": [
    "Всего этажей в доме важный критерий для цены квартиры, первый и последний этаж обычно дешевле. \n",
    "Посчитаем количество пустых значений в столбце floors_total по отношению к общему количеству значений в столбце, в процентах."
   ]
  },
  {
   "cell_type": "code",
   "execution_count": 8,
   "metadata": {},
   "outputs": [
    {
     "data": {
      "text/plain": [
       "0.36288450989493226"
      ]
     },
     "execution_count": 8,
     "metadata": {},
     "output_type": "execute_result"
    }
   ],
   "source": [
    "apartments['floors_total'].isnull().sum() / len(apartments['floors_total']) *100"
   ]
  },
  {
   "cell_type": "markdown",
   "metadata": {},
   "source": [
    "Строк с пропущенными значениями в столбце с количеством этажей в доме всего 0,3%, можно просто удалить эти строки без ущерба для общего анализа"
   ]
  },
  {
   "cell_type": "code",
   "execution_count": 9,
   "metadata": {},
   "outputs": [
    {
     "data": {
      "text/plain": [
       "0"
      ]
     },
     "execution_count": 9,
     "metadata": {},
     "output_type": "execute_result"
    }
   ],
   "source": [
    "apartments.dropna(subset=['floors_total'],inplace=True)\n",
    "apartments['floors_total'].isnull().sum()\n"
   ]
  },
  {
   "cell_type": "markdown",
   "metadata": {},
   "source": [
    "#### Посчитаем количество пропусков в столбце living_area(жилая площадь)"
   ]
  },
  {
   "cell_type": "code",
   "execution_count": 10,
   "metadata": {},
   "outputs": [
    {
     "data": {
      "text/plain": [
       "7.919366450683945"
      ]
     },
     "execution_count": 10,
     "metadata": {},
     "output_type": "execute_result"
    }
   ],
   "source": [
    "apartments['living_area'].isnull().sum() / len(apartments['living_area']) *100"
   ]
  },
  {
   "cell_type": "markdown",
   "metadata": {},
   "source": [
    "Количество пропусков 8%, просто удалить их нельзя. Возможно, доля жилой площади к общей в среднем похожи"
   ]
  },
  {
   "cell_type": "code",
   "execution_count": 11,
   "metadata": {},
   "outputs": [
    {
     "data": {
      "text/plain": [
       "count    21743.000000\n",
       "mean         0.564948\n",
       "std          0.105294\n",
       "min          0.021583\n",
       "25%          0.495546\n",
       "50%          0.568182\n",
       "75%          0.637956\n",
       "max          1.000000\n",
       "Name: rate_living_area, dtype: float64"
      ]
     },
     "execution_count": 11,
     "metadata": {},
     "output_type": "execute_result"
    }
   ],
   "source": [
    "# доля жилой площади\n",
    "apartments['rate_living_area'] = apartments['living_area'] / apartments['total_area']\n",
    "apartments['rate_living_area'].describe()"
   ]
  },
  {
   "cell_type": "markdown",
   "metadata": {},
   "source": [
    "Стандартное отклонение маленькое - 0.1, то есть данные однородны, заполним пустые значения в \"living_area\" исходя из среднего \"rate_living_area\""
   ]
  },
  {
   "cell_type": "code",
   "execution_count": 12,
   "metadata": {},
   "outputs": [
    {
     "data": {
      "text/plain": [
       "0"
      ]
     },
     "execution_count": 12,
     "metadata": {},
     "output_type": "execute_result"
    }
   ],
   "source": [
    "# заполним пустые значения средним \"rate_living_area\"\n",
    "apartments['rate_living_area'] = (\n",
    "    apartments['rate_living_area'].fillna(apartments['rate_living_area'].mean())\n",
    ")\n",
    "\n",
    "# заполним пустые значения 'living_area' умножив общую площадь квартиры на среднее отношение жилой площади к общей \n",
    "apartments['living_area'] = (\n",
    "    apartments['living_area'].fillna(apartments['rate_living_area'].mean() * apartments['total_area'])\n",
    ")\n",
    "\n",
    "apartments['living_area'].isnull().sum()\n"
   ]
  },
  {
   "cell_type": "markdown",
   "metadata": {},
   "source": [
    "Проделаем аналогичные действия для \"kitchen_area\""
   ]
  },
  {
   "cell_type": "code",
   "execution_count": 13,
   "metadata": {},
   "outputs": [
    {
     "data": {
      "text/plain": [
       "9.448185321644857"
      ]
     },
     "execution_count": 13,
     "metadata": {},
     "output_type": "execute_result"
    }
   ],
   "source": [
    "# количество пропусков в kitchen_area, в %\n",
    "apartments['kitchen_area'].isnull().sum() / len(apartments['kitchen_area']) *100"
   ]
  },
  {
   "cell_type": "code",
   "execution_count": 14,
   "metadata": {},
   "outputs": [
    {
     "data": {
      "text/plain": [
       "count    21382.000000\n",
       "mean         0.187324\n",
       "std          0.072976\n",
       "min          0.025381\n",
       "25%          0.133333\n",
       "50%          0.172348\n",
       "75%          0.232428\n",
       "max          0.787879\n",
       "Name: rate_kitchen_area, dtype: float64"
      ]
     },
     "execution_count": 14,
     "metadata": {},
     "output_type": "execute_result"
    }
   ],
   "source": [
    "# отношение площади кухни к общей площади\n",
    "apartments['rate_kitchen_area'] = apartments['kitchen_area'] / apartments['total_area']\n",
    "apartments['rate_kitchen_area'].describe()"
   ]
  },
  {
   "cell_type": "code",
   "execution_count": 15,
   "metadata": {},
   "outputs": [
    {
     "data": {
      "text/plain": [
       "0"
      ]
     },
     "execution_count": 15,
     "metadata": {},
     "output_type": "execute_result"
    }
   ],
   "source": [
    "# заполним пустые значения средним \"rate_kitchen_area\"\n",
    "apartments['rate_kitchen_area'] = (\n",
    "    apartments['rate_kitchen_area'].fillna(apartments['rate_kitchen_area'].mean())\n",
    ")\n",
    "\n",
    "# заполним пустые значения 'kitchen' умножив общую площадь квартиры на среднее отношение площади кухни\n",
    "# к общей \n",
    "apartments['kitchen_area'] = (\n",
    "    apartments['kitchen_area']\n",
    "    .fillna(apartments['rate_kitchen_area'].mean() * apartments['total_area'])\n",
    ")\n",
    "\n",
    "apartments['kitchen_area'].isnull().sum()\n"
   ]
  },
  {
   "cell_type": "markdown",
   "metadata": {},
   "source": [
    "#### Пустые значения в столбце \"апартаменты\""
   ]
  },
  {
   "cell_type": "code",
   "execution_count": 16,
   "metadata": {},
   "outputs": [
    {
     "data": {
      "text/plain": [
       "False    2725\n",
       "True       50\n",
       "Name: is_apartment, dtype: int64"
      ]
     },
     "execution_count": 16,
     "metadata": {},
     "output_type": "execute_result"
    }
   ],
   "source": [
    "apartments['is_apartment'].value_counts()"
   ]
  },
  {
   "cell_type": "markdown",
   "metadata": {},
   "source": [
    "Большинство квартир в России относится к жилому фонду, широкое распространение апартаменты получили только в последнее десятилетие. Заполним пропуски на False"
   ]
  },
  {
   "cell_type": "code",
   "execution_count": 17,
   "metadata": {},
   "outputs": [
    {
     "data": {
      "text/plain": [
       "False    23563\n",
       "True        50\n",
       "Name: is_apartment, dtype: int64"
      ]
     },
     "execution_count": 17,
     "metadata": {},
     "output_type": "execute_result"
    }
   ],
   "source": [
    "apartments['is_apartment'] = apartments['is_apartment'].fillna(False)\n",
    "apartments['is_apartment'].value_counts()"
   ]
  },
  {
   "cell_type": "markdown",
   "metadata": {},
   "source": [
    "#### Пропуски в количестве балконов, парков и водоемов в районе 3 км и прочие \n",
    "Пропуски в количестве балконов, парков и водоемов в районе 3 км говорит о том, что их нет, заменим эти данные на \"0\". Пропуски в расстоянии до парка, водоема заменим на 3.001 км"
   ]
  },
  {
   "cell_type": "code",
   "execution_count": 18,
   "metadata": {},
   "outputs": [],
   "source": [
    "apartments['balcony'] = apartments['balcony'].fillna(0)\n",
    "apartments['parks_around3000'] = apartments['parks_around3000'].fillna(0)\n",
    "apartments['ponds_around3000'] = apartments['ponds_around3000'].fillna(0)\n",
    "apartments['parks_nearest'] = apartments['parks_nearest'].fillna(3001)\n",
    "apartments['ponds_nearest'] = apartments['ponds_nearest'].fillna(3001)"
   ]
  },
  {
   "cell_type": "markdown",
   "metadata": {},
   "source": [
    "Заменим пустые строки в \"airports_nearest\" на -1, чтобы видеть где данные отсутствовали"
   ]
  },
  {
   "cell_type": "code",
   "execution_count": 19,
   "metadata": {},
   "outputs": [],
   "source": [
    "apartments['airports_nearest'] = apartments['airports_nearest'].fillna(-1)"
   ]
  },
  {
   "cell_type": "markdown",
   "metadata": {},
   "source": [
    "Заменим пустые строки в \"days_exposition\" на -1, чтобы видеть где данные отсутствовали"
   ]
  },
  {
   "cell_type": "code",
   "execution_count": 20,
   "metadata": {},
   "outputs": [],
   "source": [
    "apartments['days_exposition'] = apartments['days_exposition'].fillna(-1)\n",
    "# apartments['days_exposition']"
   ]
  },
  {
   "cell_type": "markdown",
   "metadata": {},
   "source": [
    "##### Расстояние до центра\n",
    "Растояние до центра важно для анализа, если квартира находится в Санкт-Петербурге. Посмотрим для какого населенного пункта пропущено расстояние до центра. "
   ]
  },
  {
   "cell_type": "code",
   "execution_count": 21,
   "metadata": {},
   "outputs": [
    {
     "data": {
      "text/plain": [
       "посёлок Мурино             520\n",
       "Всеволожск                 398\n",
       "Гатчина                    307\n",
       "деревня Кудрово            299\n",
       "Выборг                     237\n",
       "Кудрово                    171\n",
       "деревня Новое Девяткино    143\n",
       "Сертолово                  142\n",
       "Кириши                     125\n",
       "Сланцы                     112\n",
       "Name: locality_name, dtype: int64"
      ]
     },
     "execution_count": 21,
     "metadata": {},
     "output_type": "execute_result"
    }
   ],
   "source": [
    "(\n",
    "    apartments[apartments['cityCenters_nearest'].isnull()]['locality_name']\n",
    "    .value_counts().head(10)  #где пропущено расстояние\n",
    ")\n"
   ]
  },
  {
   "cell_type": "code",
   "execution_count": 22,
   "metadata": {},
   "outputs": [
    {
     "data": {
      "text/plain": [
       "посёлок Мурино             520\n",
       "Всеволожск                 398\n",
       "Гатчина                    307\n",
       "деревня Кудрово            299\n",
       "Выборг                     237\n",
       "Кудрово                    171\n",
       "деревня Новое Девяткино    143\n",
       "Сертолово                  142\n",
       "Кириши                     125\n",
       "Сланцы                     112\n",
       "Name: locality_name, dtype: int64"
      ]
     },
     "execution_count": 22,
     "metadata": {},
     "output_type": "execute_result"
    }
   ],
   "source": [
    "#  Посчитаем среднее расстояние до центра для населенных пунктов, которые были заполнены \n",
    "# в исходной таблице и заполним пропуски\n",
    "\n",
    "distance_locality =  apartments.pivot_table(index='locality_name', values='cityCenters_nearest',\n",
    "                                            aggfunc=['median'])\n",
    "distance_locality.columns=['median_loc_dist']\n",
    "\n",
    "for loc_name in distance_locality.index:    \n",
    "        apartments.loc[apartments['locality_name'] == loc_name,'cityCenters_nearest'] = apartments.loc[apartments['locality_name'] == loc_name,'cityCenters_nearest'].fillna(distance_locality.loc[loc_name, 'median_loc_dist'])\n",
    "\n",
    "apartments[apartments['cityCenters_nearest'].isnull()]['locality_name'].value_counts().head(10)\n"
   ]
  },
  {
   "cell_type": "code",
   "execution_count": 23,
   "metadata": {},
   "outputs": [],
   "source": [
    "# Заменим \"деревня Кудрино\" на \"Кудрино\n",
    "try:    \n",
    "    apartments.loc[\n",
    "        apartments['locality_name'] == 'деревня Кудрово','locality_name'] = apartments.loc[\n",
    "        apartments['locality_name'] == 'Кудрово','locality_name']\n",
    "    \n",
    "except:\n",
    "    \"\""
   ]
  },
  {
   "cell_type": "markdown",
   "metadata": {},
   "source": [
    " Создадим таблицу с расстоянием до разных населенных пунктов, а затем внесем данные в общую таблицу"
   ]
  },
  {
   "cell_type": "code",
   "execution_count": 24,
   "metadata": {},
   "outputs": [],
   "source": [
    "# Создадим таблицу с расстоянием до поселков\n",
    "distance_data = pd.DataFrame({\n",
    "    'locality': ['посёлок Мурино', 'Всеволожск', 'Гатчина', 'деревня Кудрово', 'Выборг', 'Кудрово',\n",
    "                 'деревня Новое Девяткино', 'Сертолово', 'Кириши', 'Сланцы', 'Волхов'], \n",
    "    'distance': [2000, 22000, 38000, 19000, 132000, 19000,\n",
    "                 5000, 24000, 170000, 205000, 131000],    \n",
    "})\n",
    "distance_data.index = distance_data ['locality']\n",
    "# distance_data"
   ]
  },
  {
   "cell_type": "code",
   "execution_count": 25,
   "metadata": {},
   "outputs": [
    {
     "data": {
      "text/plain": [
       "Кингисепп         104\n",
       "Тосно             104\n",
       "Никольское         93\n",
       "Коммунар           89\n",
       "Сосновый Бор       87\n",
       "Кировск            84\n",
       "Отрадное           80\n",
       "посёлок Бугры      68\n",
       "Приозерск          66\n",
       "деревня Старая     64\n",
       "Name: locality_name, dtype: int64"
      ]
     },
     "execution_count": 25,
     "metadata": {},
     "output_type": "execute_result"
    }
   ],
   "source": [
    "# внесем данные по расстоянию до поселков в общую таблицу\n",
    "\n",
    "for inc_name in distance_data.index:\n",
    "    apartments.loc[\n",
    "        apartments['locality_name'] == inc_name,'cityCenters_nearest'\n",
    "    ] = apartments.loc[apartments['locality_name'] == inc_name,'cityCenters_nearest'].fillna(\n",
    "        distance_data.loc[inc_name,'distance'])\n",
    "    \n",
    "# pd.to_numeric(apartments['cityCenters_nearest'],errors='ignore')\n",
    "# посмотрим топ-10 населенных пунктов где пропущено расстояние до центра\n",
    "(\n",
    "    apartments[apartments['cityCenters_nearest'].isnull()]['locality_name']\n",
    "    .value_counts().head(10)  #где пропущено расстояние\n",
    ")"
   ]
  },
  {
   "cell_type": "code",
   "execution_count": 26,
   "metadata": {},
   "outputs": [
    {
     "data": {
      "text/plain": [
       "0.15529135476295317"
      ]
     },
     "execution_count": 26,
     "metadata": {},
     "output_type": "execute_result"
    }
   ],
   "source": [
    "apartments['cityCenters_nearest'].isnull().sum() / apartments['cityCenters_nearest'].count()\n",
    "# apartments['cityCenters_nearest']"
   ]
  },
  {
   "cell_type": "markdown",
   "metadata": {},
   "source": [
    "Осталось 15% пропусков в 'cityCenters_nearest', однако населенные пункты, где совералось больше всего сделок мы заполнили."
   ]
  },
  {
   "cell_type": "markdown",
   "metadata": {},
   "source": [
    "#### Количество пропусков в названии населенных пунктов"
   ]
  },
  {
   "cell_type": "code",
   "execution_count": 27,
   "metadata": {},
   "outputs": [
    {
     "data": {
      "text/plain": [
       "0.014695294964638122"
      ]
     },
     "execution_count": 27,
     "metadata": {},
     "output_type": "execute_result"
    }
   ],
   "source": [
    "apartments['locality_name'].isnull().sum() / apartments['locality_name'].isnull().count()"
   ]
  },
  {
   "cell_type": "markdown",
   "metadata": {},
   "source": [
    "Всего 1% пропусков, удалим эти строки"
   ]
  },
  {
   "cell_type": "code",
   "execution_count": 28,
   "metadata": {},
   "outputs": [
    {
     "data": {
      "text/plain": [
       "0"
      ]
     },
     "execution_count": 28,
     "metadata": {},
     "output_type": "execute_result"
    }
   ],
   "source": [
    "apartments.dropna(subset=['locality_name'],inplace=True)\n",
    "apartments['locality_name'].isnull().sum()"
   ]
  },
  {
   "cell_type": "markdown",
   "metadata": {},
   "source": [
    "### Вывод"
   ]
  },
  {
   "cell_type": "markdown",
   "metadata": {},
   "source": [
    "Были обнаружены следующие пропуски:\n",
    " - в столбце высота потолков: \n",
    " заменены на среднюю высоту потолков, вероятно потолки в таких объявлениях самые обычные\n",
    " - в столбце всего этажей в доме - пропуски составляли 0,3% от всех объявлений, их просто удалили\n",
    " - в столбцах жилая площадь и площадь кухни  - заменены исходя из среднего отношения площади жилой/кухни к общей площади квартиры\n",
    " - в столбце апартаменты ли продаваемая квартира - заполнены на \"False\", исходя из предположения, что большинство квартир в России относится к жилому фонду, а не к апартаментам\n",
    " - в количестве балконов, парков и водоемов в районе 3 км говорит о том, что их нет, заменим эти данные на \"0\". Пропуски в расстоянии до парка, водоема заменим на 3.001 км\n",
    " - в \"days_exposition\" заменим пустые строки на -1, чтобы видеть где данные отсутствовали\n",
    " - в расстоянии до центра, где это возможно заменены на среднее по каждому населенному пункту. Для нескольких населенных пунктов с большим количеством объявлений данные заполнены из новой таблицы, куда внесены данные с расстоянием до разных населенных пунктов, полученные из интернета\n",
    " - в названии населенных пунктов - 1% от общего числа, эти строки просто удалены"
   ]
  },
  {
   "cell_type": "markdown",
   "metadata": {},
   "source": [
    "### Замена типа данных"
   ]
  },
  {
   "cell_type": "markdown",
   "metadata": {},
   "source": [
    "Ещё раз посмотрим на типы данных"
   ]
  },
  {
   "cell_type": "code",
   "execution_count": 29,
   "metadata": {},
   "outputs": [
    {
     "name": "stdout",
     "output_type": "stream",
     "text": [
      "<class 'pandas.core.frame.DataFrame'>\n",
      "Int64Index: 23266 entries, 0 to 23698\n",
      "Data columns (total 24 columns):\n",
      " #   Column                Non-Null Count  Dtype  \n",
      "---  ------                --------------  -----  \n",
      " 0   total_images          23266 non-null  int64  \n",
      " 1   last_price            23266 non-null  float64\n",
      " 2   total_area            23266 non-null  float64\n",
      " 3   first_day_exposition  23266 non-null  object \n",
      " 4   rooms                 23266 non-null  int64  \n",
      " 5   ceiling_height        23266 non-null  float64\n",
      " 6   floors_total          23266 non-null  float64\n",
      " 7   living_area           23266 non-null  float64\n",
      " 8   floor                 23266 non-null  int64  \n",
      " 9   is_apartment          23266 non-null  bool   \n",
      " 10  studio                23266 non-null  bool   \n",
      " 11  open_plan             23266 non-null  bool   \n",
      " 12  kitchen_area          23266 non-null  float64\n",
      " 13  balcony               23266 non-null  float64\n",
      " 14  locality_name         23266 non-null  object \n",
      " 15  airports_nearest      23266 non-null  float64\n",
      " 16  cityCenters_nearest   20399 non-null  float64\n",
      " 17  parks_around3000      23266 non-null  float64\n",
      " 18  parks_nearest         23266 non-null  float64\n",
      " 19  ponds_around3000      23266 non-null  float64\n",
      " 20  ponds_nearest         23266 non-null  float64\n",
      " 21  days_exposition       23266 non-null  float64\n",
      " 22  rate_living_area      23266 non-null  float64\n",
      " 23  rate_kitchen_area     23266 non-null  float64\n",
      "dtypes: bool(3), float64(16), int64(3), object(2)\n",
      "memory usage: 4.0+ MB\n"
     ]
    }
   ],
   "source": [
    "apartments.info() "
   ]
  },
  {
   "cell_type": "markdown",
   "metadata": {},
   "source": [
    "Переведем первый день показа (first_day_exposition) в формат времени"
   ]
  },
  {
   "cell_type": "code",
   "execution_count": 30,
   "metadata": {},
   "outputs": [
    {
     "data": {
      "text/plain": [
       "0       2019-03-07\n",
       "1       2018-12-04\n",
       "2       2015-08-20\n",
       "3       2015-07-24\n",
       "4       2018-06-19\n",
       "           ...    \n",
       "23694   2017-03-21\n",
       "23695   2018-01-15\n",
       "23696   2018-02-11\n",
       "23697   2017-03-28\n",
       "23698   2017-07-21\n",
       "Name: first_day_exposition, Length: 23266, dtype: datetime64[ns]"
      ]
     },
     "execution_count": 30,
     "metadata": {},
     "output_type": "execute_result"
    }
   ],
   "source": [
    "apartments['first_day_exposition'] = pd.to_datetime(apartments['first_day_exposition'],\n",
    "                                                    format='%Y-%m-%dT%H:%M:%S')\n",
    "apartments['first_day_exposition']"
   ]
  },
  {
   "cell_type": "markdown",
   "metadata": {},
   "source": [
    "Следующие столбцы надо перевести в формат int:\n",
    "- всего этажей в доме(floors_total), количество балконов (balcony), цена(last_price), расстояние до аэропорта, центра города, парка, водоема (airports_nearest, cityCenters_nearest, parks_nearest, ponds_nearest), количество парков и водоемов в радиусе 3 км ( parks_around3000, ponds_around3000), дни показа (days_exposition)\n"
   ]
  },
  {
   "cell_type": "code",
   "execution_count": 31,
   "metadata": {},
   "outputs": [],
   "source": [
    "apartments['last_price'] = apartments['last_price'].astype('int')\n",
    "apartments['floors_total'] = apartments['floors_total'].astype('int')\n",
    "apartments['balcony'] = apartments['balcony'].astype('int')\n",
    "apartments['airports_nearest'] = apartments['airports_nearest'].astype('int')\n",
    "\n",
    "apartments['parks_nearest'] = apartments['parks_nearest'].astype('int')\n",
    "apartments['ponds_nearest'] = apartments['ponds_nearest'].astype('int')\n",
    "apartments['parks_around3000'] = apartments['parks_around3000'].astype('int')\n",
    "apartments['ponds_around3000'] = apartments['ponds_around3000'].astype('int')\n",
    "\n"
   ]
  },
  {
   "cell_type": "code",
   "execution_count": 32,
   "metadata": {},
   "outputs": [],
   "source": [
    "pd.to_numeric(apartments['days_exposition'])\n",
    "apartments['days_exposition'] = apartments['days_exposition'].astype('int')\n"
   ]
  },
  {
   "cell_type": "markdown",
   "metadata": {},
   "source": [
    "Переведем столбец is_apartment (является ли недвижимость апартаментами)  в тип bool"
   ]
  },
  {
   "cell_type": "code",
   "execution_count": 33,
   "metadata": {},
   "outputs": [
    {
     "data": {
      "text/plain": [
       "False    23216\n",
       "True        50\n",
       "Name: is_apartment, dtype: int64"
      ]
     },
     "execution_count": 33,
     "metadata": {},
     "output_type": "execute_result"
    }
   ],
   "source": [
    "apartments['is_apartment'] = apartments['is_apartment'].astype('bool')\n",
    "apartments['is_apartment'].value_counts()"
   ]
  },
  {
   "cell_type": "markdown",
   "metadata": {},
   "source": [
    "### Вывод\n",
    "\n",
    "Следующие столбцы переведены в другой формат:\n",
    "\n",
    "- первый день показа (first_day_exposition) в формат времени;\n",
    "- всего этажей в доме(floors_total), количество балконов (balcony), цена(last_price), расстояние до аэропорта, центра города, парка, водоема (airports_nearest, cityCenters_nearest, parks_nearest, ponds_nearest), количество парков и водоемов в радиусе 3 км ( parks_around3000, ponds_around3000), дни показа (days_exposition) - в тип int;\n",
    "- является ли недвижимость апартаментами (is_apartment) в тип bool"
   ]
  },
  {
   "cell_type": "markdown",
   "metadata": {},
   "source": [
    "### Шаг 3. Посчитайте и добавьте в таблицу"
   ]
  },
  {
   "cell_type": "markdown",
   "metadata": {},
   "source": [
    "### Цена квадратного метра\n",
    "Добавим в таблицу столбец \"price_per_meter\" с ценой за квадратный метр"
   ]
  },
  {
   "cell_type": "code",
   "execution_count": 34,
   "metadata": {},
   "outputs": [
    {
     "data": {
      "text/plain": [
       "0        120370.370370\n",
       "1         82920.792079\n",
       "2         92785.714286\n",
       "3        408176.100629\n",
       "4        100000.000000\n",
       "             ...      \n",
       "23694     72490.845228\n",
       "23695     52542.372881\n",
       "23696     44091.710758\n",
       "23697    149511.400651\n",
       "23698     41795.665635\n",
       "Name: price_per_meter, Length: 23266, dtype: float64"
      ]
     },
     "execution_count": 34,
     "metadata": {},
     "output_type": "execute_result"
    }
   ],
   "source": [
    "apartments['price_per_meter'] = apartments['last_price'] / apartments['total_area']\n",
    "apartments['price_per_meter']"
   ]
  },
  {
   "cell_type": "markdown",
   "metadata": {},
   "source": [
    "#### День недели, месяц и год публикации объявления"
   ]
  },
  {
   "cell_type": "code",
   "execution_count": 35,
   "metadata": {},
   "outputs": [
    {
     "data": {
      "text/plain": [
       "0        2019\n",
       "1        2018\n",
       "2        2015\n",
       "3        2015\n",
       "4        2018\n",
       "         ... \n",
       "23694    2017\n",
       "23695    2018\n",
       "23696    2018\n",
       "23697    2017\n",
       "23698    2017\n",
       "Name: year, Length: 23266, dtype: int64"
      ]
     },
     "execution_count": 35,
     "metadata": {},
     "output_type": "execute_result"
    }
   ],
   "source": [
    "apartments['weekday'] = apartments['first_day_exposition'].dt.weekday\n",
    "apartments['month'] = apartments['first_day_exposition'].dt.month\n",
    "apartments['year'] = apartments['first_day_exposition'].dt.year\n",
    "apartments['year']"
   ]
  },
  {
   "cell_type": "markdown",
   "metadata": {},
   "source": [
    "#### этаж квартиры; варианты — первый, последний, другой"
   ]
  },
  {
   "cell_type": "code",
   "execution_count": 36,
   "metadata": {},
   "outputs": [
    {
     "data": {
      "text/html": [
       "<div>\n",
       "<style scoped>\n",
       "    .dataframe tbody tr th:only-of-type {\n",
       "        vertical-align: middle;\n",
       "    }\n",
       "\n",
       "    .dataframe tbody tr th {\n",
       "        vertical-align: top;\n",
       "    }\n",
       "\n",
       "    .dataframe thead th {\n",
       "        text-align: right;\n",
       "    }\n",
       "</style>\n",
       "<table border=\"1\" class=\"dataframe\">\n",
       "  <thead>\n",
       "    <tr style=\"text-align: right;\">\n",
       "      <th></th>\n",
       "      <th>var_floor</th>\n",
       "      <th>floor</th>\n",
       "      <th>floors_total</th>\n",
       "    </tr>\n",
       "  </thead>\n",
       "  <tbody>\n",
       "    <tr>\n",
       "      <th>0</th>\n",
       "      <td>другой</td>\n",
       "      <td>8</td>\n",
       "      <td>16</td>\n",
       "    </tr>\n",
       "    <tr>\n",
       "      <th>1</th>\n",
       "      <td>первый</td>\n",
       "      <td>1</td>\n",
       "      <td>11</td>\n",
       "    </tr>\n",
       "    <tr>\n",
       "      <th>2</th>\n",
       "      <td>другой</td>\n",
       "      <td>4</td>\n",
       "      <td>5</td>\n",
       "    </tr>\n",
       "    <tr>\n",
       "      <th>3</th>\n",
       "      <td>другой</td>\n",
       "      <td>9</td>\n",
       "      <td>14</td>\n",
       "    </tr>\n",
       "    <tr>\n",
       "      <th>4</th>\n",
       "      <td>другой</td>\n",
       "      <td>13</td>\n",
       "      <td>14</td>\n",
       "    </tr>\n",
       "  </tbody>\n",
       "</table>\n",
       "</div>"
      ],
      "text/plain": [
       "  var_floor  floor  floors_total\n",
       "0    другой      8            16\n",
       "1    первый      1            11\n",
       "2    другой      4             5\n",
       "3    другой      9            14\n",
       "4    другой     13            14"
      ]
     },
     "execution_count": 36,
     "metadata": {},
     "output_type": "execute_result"
    }
   ],
   "source": [
    "# функция category_floor сравнивает этаж жилья с количеством этажей в доме и присваисает\n",
    "# значение \"первый\", \"последний\" или \"другой\"\n",
    "def category_floor(row):\n",
    "    floor = row['floor']\n",
    "    total_floor = row['floors_total']\n",
    "    if floor == total_floor:\n",
    "        return 'последний'\n",
    "    if floor == 1:\n",
    "        return 'первый'\n",
    "    return 'другой'\n",
    "\n",
    "# новый столбец \"var_floor\" где хранятся категории этажей\n",
    "apartments['var_floor'] = apartments.apply(category_floor, axis=1)\n",
    "apartments[['var_floor','floor', 'floors_total']].head()\n",
    "# apartments[['var_floor','floor', 'floors_total']].query('floors_total == floor')"
   ]
  },
  {
   "cell_type": "markdown",
   "metadata": {},
   "source": [
    "#### Cоотношение жилой и общей площади, а также отношение площади кухни к общей\n",
    "Такие столбцы уже были добавлены ранее: "
   ]
  },
  {
   "cell_type": "code",
   "execution_count": 37,
   "metadata": {},
   "outputs": [
    {
     "data": {
      "text/html": [
       "<div>\n",
       "<style scoped>\n",
       "    .dataframe tbody tr th:only-of-type {\n",
       "        vertical-align: middle;\n",
       "    }\n",
       "\n",
       "    .dataframe tbody tr th {\n",
       "        vertical-align: top;\n",
       "    }\n",
       "\n",
       "    .dataframe thead th {\n",
       "        text-align: right;\n",
       "    }\n",
       "</style>\n",
       "<table border=\"1\" class=\"dataframe\">\n",
       "  <thead>\n",
       "    <tr style=\"text-align: right;\">\n",
       "      <th></th>\n",
       "      <th>total_area</th>\n",
       "      <th>rate_living_area</th>\n",
       "      <th>rate_kitchen_area</th>\n",
       "    </tr>\n",
       "  </thead>\n",
       "  <tbody>\n",
       "    <tr>\n",
       "      <th>0</th>\n",
       "      <td>108.0</td>\n",
       "      <td>0.472222</td>\n",
       "      <td>0.231481</td>\n",
       "    </tr>\n",
       "    <tr>\n",
       "      <th>1</th>\n",
       "      <td>40.4</td>\n",
       "      <td>0.460396</td>\n",
       "      <td>0.272277</td>\n",
       "    </tr>\n",
       "    <tr>\n",
       "      <th>2</th>\n",
       "      <td>56.0</td>\n",
       "      <td>0.612500</td>\n",
       "      <td>0.148214</td>\n",
       "    </tr>\n",
       "    <tr>\n",
       "      <th>3</th>\n",
       "      <td>159.0</td>\n",
       "      <td>0.564948</td>\n",
       "      <td>0.187324</td>\n",
       "    </tr>\n",
       "    <tr>\n",
       "      <th>4</th>\n",
       "      <td>100.0</td>\n",
       "      <td>0.320000</td>\n",
       "      <td>0.410000</td>\n",
       "    </tr>\n",
       "  </tbody>\n",
       "</table>\n",
       "</div>"
      ],
      "text/plain": [
       "   total_area  rate_living_area  rate_kitchen_area\n",
       "0       108.0          0.472222           0.231481\n",
       "1        40.4          0.460396           0.272277\n",
       "2        56.0          0.612500           0.148214\n",
       "3       159.0          0.564948           0.187324\n",
       "4       100.0          0.320000           0.410000"
      ]
     },
     "execution_count": 37,
     "metadata": {},
     "output_type": "execute_result"
    }
   ],
   "source": [
    "apartments[['total_area','rate_living_area', 'rate_kitchen_area']].head()\n"
   ]
  },
  {
   "cell_type": "markdown",
   "metadata": {},
   "source": [
    "### Вывод\n",
    "Посчитано и добавлено в таблицу:\n",
    " - цену квадратного метра;\n",
    " - день недели, месяц и год публикации объявления;\n",
    " - этаж квартиры; варианты — первый, последний, другой;\n",
    " - соотношение жилой и общей площади, а также отношение площади кухни к общей."
   ]
  },
  {
   "cell_type": "markdown",
   "metadata": {},
   "source": [
    "### Шаг 4. Проведите исследовательский анализ данных и выполните инструкции:"
   ]
  },
  {
   "cell_type": "markdown",
   "metadata": {},
   "source": [
    " Построим гистограммы для каждого параметра: площадь, цена, число комнат, высота потолков."
   ]
  },
  {
   "cell_type": "markdown",
   "metadata": {},
   "source": [
    " Построим гистограммы для параметра площадь (total_area)"
   ]
  },
  {
   "cell_type": "code",
   "execution_count": 38,
   "metadata": {},
   "outputs": [
    {
     "data": {
      "text/plain": [
       "Text(0.5, 1.0, 'Гистограмма по площади квартир, кв.м.')"
      ]
     },
     "execution_count": 38,
     "metadata": {},
     "output_type": "execute_result"
    },
    {
     "data": {
      "image/png": "[encoded data removed]",
      "text/plain": [
       "<Figure size 432x288 with 1 Axes>"
      ]
     },
     "metadata": {
      "needs_background": "light"
     },
     "output_type": "display_data"
    }
   ],
   "source": [
    "\n",
    "apartments['total_area'].hist(bins=50, range=(0,400), grid=True)\n",
    "plt.title('Гистограмма по площади квартир, кв.м.')"
   ]
  },
  {
   "cell_type": "markdown",
   "metadata": {},
   "source": [
    "Больше всего предложений по квартирам, площадью 40-50 кв.м. Однако встречаются и квартиры 200-400 кв.м. \n",
    "Если верить сайту Urbanus.ru в топ-10 самых больших квартир бизнес-класса, реализованных в январе-июне 2018 года вошли лоты площадью от 153,09 кв. м до 211,61 кв. м. В категории апартаментов бизнес-класса в топ-10 крупногабаритных лотов вошли объекты площадью от 132,5 кв. м до 269,7 кв.м. То есть за полгода продали всего 20 квартир и апартаментов, площадью больше 150 кв. Все эти объекты уникальны и редки, удалим их из нашей таблицы. Создадим новую таблицу \"cut_apartments\" на основе \"apartments\" уже без объектов со слишком большой площадью\n"
   ]
  },
  {
   "cell_type": "code",
   "execution_count": 39,
   "metadata": {},
   "outputs": [
    {
     "data": {
      "text/plain": [
       "(22687, 29)"
      ]
     },
     "execution_count": 39,
     "metadata": {},
     "output_type": "execute_result"
    }
   ],
   "source": [
    "cut_apartments = apartments.query('total_area < 150')\n",
    "cut_apartments.shape\n"
   ]
  },
  {
   "cell_type": "markdown",
   "metadata": {},
   "source": [
    " Построим гистограмму для цены и для цены квадратного метра"
   ]
  },
  {
   "cell_type": "code",
   "execution_count": 66,
   "metadata": {},
   "outputs": [
    {
     "data": {
      "image/png": "[encoded data removed]",
      "text/plain": [
       "<Figure size 432x288 with 1 Axes>"
      ]
     },
     "metadata": {
      "needs_background": "light"
     },
     "output_type": "display_data"
    }
   ],
   "source": [
    "apartments['last_price'].hist(bins=50, range=(0,40000000), grid=True)\n",
    "plt.title('Гистограмма по стоимости квартиры, руб');"
   ]
  },
  {
   "cell_type": "code",
   "execution_count": 41,
   "metadata": {},
   "outputs": [
    {
     "data": {
      "text/plain": [
       "<matplotlib.axes._subplots.AxesSubplot at 0x9b2d348>"
      ]
     },
     "execution_count": 41,
     "metadata": {},
     "output_type": "execute_result"
    },
    {
     "data": {
      "image/png": "[encoded data removed]",
      "text/plain": [
       "<Figure size 432x288 with 1 Axes>"
      ]
     },
     "metadata": {
      "needs_background": "light"
     },
     "output_type": "display_data"
    }
   ],
   "source": [
    "apartments['price_per_meter'].hist(bins=50, range=(0,300000), grid=True)\n",
    "plt.title('Гистограмма по цене квартиры за квадратный метр');"
   ]
  },
  {
   "cell_type": "markdown",
   "metadata": {},
   "source": [
    "Средняя цена квартир составляет 5 млн.руб, средняя цена за квадратный метр - 100 тыс.руб/кв.м\n",
    "\\ Уберем слишком дорогие квартиры, построим ящик с усами, чтобы узнать какая цена за квадратный метр за пределами нормального распределения."
   ]
  },
  {
   "cell_type": "code",
   "execution_count": 42,
   "metadata": {},
   "outputs": [
    {
     "data": {
      "text/plain": [
       "(0, 200000)"
      ]
     },
     "execution_count": 42,
     "metadata": {},
     "output_type": "execute_result"
    },
    {
     "data": {
      "image/png": "[encoded data removed]",
      "text/plain": [
       "<Figure size 432x288 with 1 Axes>"
      ]
     },
     "metadata": {
      "needs_background": "light"
     },
     "output_type": "display_data"
    }
   ],
   "source": [
    "apartments.boxplot('price_per_meter')\n",
    "plt.ylim(0, 200000)"
   ]
  },
  {
   "cell_type": "code",
   "execution_count": 43,
   "metadata": {},
   "outputs": [],
   "source": [
    "# выберем квартиры от 20 000 до 175 000 за квадратный метр\n",
    "cut_apartments = cut_apartments.query(' 20000 < price_per_meter < 175000')"
   ]
  },
  {
   "cell_type": "markdown",
   "metadata": {},
   "source": [
    "#### Построим гистограмму по количеству комнат"
   ]
  },
  {
   "cell_type": "code",
   "execution_count": 67,
   "metadata": {},
   "outputs": [
    {
     "data": {
      "text/plain": [
       "count    23266.000000\n",
       "mean         2.078784\n",
       "std          1.079648\n",
       "min          0.000000\n",
       "25%          1.000000\n",
       "50%          2.000000\n",
       "75%          3.000000\n",
       "max         19.000000\n",
       "Name: rooms, dtype: float64"
      ]
     },
     "execution_count": 67,
     "metadata": {},
     "output_type": "execute_result"
    },
    {
     "data": {
      "image/png": "[encoded data removed]",
      "text/plain": [
       "<Figure size 432x288 with 1 Axes>"
      ]
     },
     "metadata": {
      "needs_background": "light"
     },
     "output_type": "display_data"
    }
   ],
   "source": [
    "apartments['rooms'].hist(bins=40, range=(0,12), grid=True)\n",
    "plt.title('Гистограмма по количеству комнат в квартире');\n",
    "apartments['rooms'].describe()"
   ]
  },
  {
   "cell_type": "markdown",
   "metadata": {},
   "source": [
    "Чаще всего встречаются объявления о продаже 1-,2-х комнатных квартир, в 75% случаев у квартир не более 3 комнат, даже в самых больших квартирах редко бывает больше 6 комнат. Например, в коммунальных квартирах обычно 3-6 комнат. Смело можем исключить из нашей выборки квартиры с более 6 комнатами. Также присутствуют квартиры с 0 комнат, вероятно это студии или квартиры со свободной планировкой, выберем из таблицы нужные строки и проверим догадку."
   ]
  },
  {
   "cell_type": "code",
   "execution_count": 45,
   "metadata": {},
   "outputs": [
    {
     "data": {
      "text/html": [
       "<div>\n",
       "<style scoped>\n",
       "    .dataframe tbody tr th:only-of-type {\n",
       "        vertical-align: middle;\n",
       "    }\n",
       "\n",
       "    .dataframe tbody tr th {\n",
       "        vertical-align: top;\n",
       "    }\n",
       "\n",
       "    .dataframe thead th {\n",
       "        text-align: right;\n",
       "    }\n",
       "</style>\n",
       "<table border=\"1\" class=\"dataframe\">\n",
       "  <thead>\n",
       "    <tr style=\"text-align: right;\">\n",
       "      <th></th>\n",
       "      <th>studio</th>\n",
       "      <th>open_plan</th>\n",
       "    </tr>\n",
       "  </thead>\n",
       "  <tbody>\n",
       "    <tr>\n",
       "      <th>144</th>\n",
       "      <td>True</td>\n",
       "      <td>False</td>\n",
       "    </tr>\n",
       "    <tr>\n",
       "      <th>440</th>\n",
       "      <td>True</td>\n",
       "      <td>False</td>\n",
       "    </tr>\n",
       "    <tr>\n",
       "      <th>508</th>\n",
       "      <td>False</td>\n",
       "      <td>True</td>\n",
       "    </tr>\n",
       "    <tr>\n",
       "      <th>608</th>\n",
       "      <td>True</td>\n",
       "      <td>False</td>\n",
       "    </tr>\n",
       "    <tr>\n",
       "      <th>716</th>\n",
       "      <td>True</td>\n",
       "      <td>False</td>\n",
       "    </tr>\n",
       "  </tbody>\n",
       "</table>\n",
       "</div>"
      ],
      "text/plain": [
       "     studio  open_plan\n",
       "144    True      False\n",
       "440    True      False\n",
       "508   False       True\n",
       "608    True      False\n",
       "716    True      False"
      ]
     },
     "execution_count": 45,
     "metadata": {},
     "output_type": "execute_result"
    }
   ],
   "source": [
    "apartments.query('rooms==0')[['studio', 'open_plan']].head()"
   ]
  },
  {
   "cell_type": "code",
   "execution_count": 46,
   "metadata": {},
   "outputs": [
    {
     "data": {
      "text/plain": [
       "(21851, 29)"
      ]
     },
     "execution_count": 46,
     "metadata": {},
     "output_type": "execute_result"
    }
   ],
   "source": [
    "# исключим из нашей выборки квартиры с более 6 комнатами\n",
    "cut_apartments = cut_apartments.query('rooms <= 6')\n",
    "cut_apartments.shape"
   ]
  },
  {
   "cell_type": "markdown",
   "metadata": {},
   "source": [
    "#### Построим гистограмму  по высоте потолков"
   ]
  },
  {
   "cell_type": "code",
   "execution_count": 68,
   "metadata": {},
   "outputs": [
    {
     "data": {
      "image/png": "[encoded data removed]",
      "text/plain": [
       "<Figure size 432x288 with 1 Axes>"
      ]
     },
     "metadata": {
      "needs_background": "light"
     },
     "output_type": "display_data"
    }
   ],
   "source": [
    "apartments['ceiling_height'].hist(bins=50, range=(1,5), grid=True)\n",
    "plt.title('Гистограмма по высоте потолков');"
   ]
  },
  {
   "cell_type": "markdown",
   "metadata": {},
   "source": [
    "В большинстве объявлений высота потолков - 2,7м \n",
    "В Японии высота потолка в помещениях в среднем 2,10 метра. \n",
    "Минимальная высота потолка в России определяется СНиП как 2,5 м. Высота потолков в \"Сталинке\" 3.3 м\n",
    "В элитных домах постройки конца 90-х и \"нулевых\" годов высота потолков обычно не превышала 3,3 м. Лишь относительно недавно на рынке стали появляться квартиры в новостройках с потолками от 4 до 10 метров.\n",
    "Оставим в таблице значения с высотой потолков от 2,5 до 4 м"
   ]
  },
  {
   "cell_type": "code",
   "execution_count": 48,
   "metadata": {},
   "outputs": [
    {
     "data": {
      "text/plain": [
       "(21726, 29)"
      ]
     },
     "execution_count": 48,
     "metadata": {},
     "output_type": "execute_result"
    }
   ],
   "source": [
    "cut_apartments = cut_apartments.query('2.5 <= ceiling_height <= 4')\n",
    "cut_apartments.shape"
   ]
  },
  {
   "cell_type": "markdown",
   "metadata": {},
   "source": [
    "#### Изучим время продажи квартиры. \n",
    "Построим гистограмму. Ранее мы заменили пропущенные значения в столбце на \"-1\", чтобы не исказить данные, будем считать только случаи, где время продажи больше 0 дней. Посчитаем среднее и медиану.\n"
   ]
  },
  {
   "cell_type": "code",
   "execution_count": 72,
   "metadata": {},
   "outputs": [
    {
     "data": {
      "text/plain": [
       "count    20095.000000\n",
       "mean       180.739438\n",
       "std        219.544138\n",
       "min          1.000000\n",
       "25%         45.000000\n",
       "50%         95.000000\n",
       "75%        231.000000\n",
       "max       1580.000000\n",
       "Name: days_exposition, dtype: float64"
      ]
     },
     "execution_count": 72,
     "metadata": {},
     "output_type": "execute_result"
    },
    {
     "data": {
      "image/png": "[encoded data removed]",
      "text/plain": [
       "<Figure size 432x288 with 1 Axes>"
      ]
     },
     "metadata": {
      "needs_background": "light"
     },
     "output_type": "display_data"
    }
   ],
   "source": [
    "apartments['days_exposition'].hist(bins=60, range=(-10,700), grid=True)\n",
    "plt.xlabel('количество дней показа объявления')\n",
    "plt.title('Гистограмма времени продажи квартиры');\n",
    "apartments.query('days_exposition>=0')['days_exposition'].describe()"
   ]
  },
  {
   "cell_type": "markdown",
   "metadata": {},
   "source": [
    "Как видно из гистограммы, чаще всего продажа квартиры занимает около 50 дней. Однако, также много квартир продаются от 0 до 50дней. Первый квартиль равен 45 дней. Можно считать, что продажи прошли очень быстро, если удалось продать менее чем за 45дней. Третий квартиль равняется 232 дням, но много случаев, когда квартира продавалась дольше. Если квартира продается дольше 600 дней (полтора года) это необычно долго.\n"
   ]
  },
  {
   "cell_type": "markdown",
   "metadata": {},
   "source": [
    "### Зависит ли цена от квадратного метра, числа комнат, удалённости от центра"
   ]
  },
  {
   "cell_type": "markdown",
   "metadata": {},
   "source": [
    "Построим графики зависимости цены от квадратного метра "
   ]
  },
  {
   "cell_type": "code",
   "execution_count": 74,
   "metadata": {},
   "outputs": [
    {
     "data": {
      "image/png": "[encoded data removed]",
      "text/plain": [
       "<Figure size 432x288 with 1 Axes>"
      ]
     },
     "metadata": {
      "needs_background": "light"
     },
     "output_type": "display_data"
    }
   ],
   "source": [
    "cut_apartments.sort_values('total_area').pivot_table(index = 'total_area', \n",
    "                          values= ['last_price']).plot(style='o', grid=True)\n",
    "plt.xlabel('всего площадь квартиры')\n",
    "plt.title('График зависимости цены от квадратного метра');"
   ]
  },
  {
   "cell_type": "markdown",
   "metadata": {},
   "source": [
    "Общая цена квартиры прямо пропорциональна общей площади квартиры. В случае с маленькими квартирами до 60 кв.м. эта зависимость явная, при большей площади квартиры разброс цен больше "
   ]
  },
  {
   "cell_type": "markdown",
   "metadata": {},
   "source": [
    "Построим графики зависимости цены от удаленности от центра"
   ]
  },
  {
   "cell_type": "code",
   "execution_count": 75,
   "metadata": {},
   "outputs": [
    {
     "data": {
      "image/png": "[encoded data removed]",
      "text/plain": [
       "<Figure size 432x288 with 1 Axes>"
      ]
     },
     "metadata": {
      "needs_background": "light"
     },
     "output_type": "display_data"
    }
   ],
   "source": [
    "\n",
    "cut_apartments.sort_values('cityCenters_nearest').pivot_table(index = 'cityCenters_nearest', \n",
    "                          values= ['last_price']).plot(style='o', grid=True, xlim=(0, 75000), alpha=0.3)\n",
    "plt.xlabel('Близость к центру, м')\n",
    "plt.title('График зависимости цены от удаленности от центра города');"
   ]
  },
  {
   "cell_type": "markdown",
   "metadata": {},
   "source": [
    "Чем ближе к центру, тем больше разброс в ценах, максимальные значения цен также ближе к центру города. По мере удаления от центра объявления смещаются в область меньших цен"
   ]
  },
  {
   "cell_type": "markdown",
   "metadata": {},
   "source": [
    "Рассчитаем зависимость средней цены за квадратный метр от первого, последнего или другого этажа. "
   ]
  },
  {
   "cell_type": "code",
   "execution_count": 77,
   "metadata": {},
   "outputs": [
    {
     "data": {
      "image/png": "[encoded data removed]",
      "text/plain": [
       "<Figure size 432x288 with 1 Axes>"
      ]
     },
     "metadata": {
      "needs_background": "light"
     },
     "output_type": "display_data"
    }
   ],
   "source": [
    "\n",
    "cut_apartments.pivot_table(index = 'var_floor', \n",
    "                          values= ['price_per_meter']).plot(style='o-', grid=True)\n",
    "\n",
    "plt.xlabel('Этаж')\n",
    "plt.title('График зависимости средней цены за квадратный метр от этажа');"
   ]
  },
  {
   "cell_type": "markdown",
   "metadata": {},
   "source": [
    "Средняя цена за квадратный метр в случае первого этажа меньше на 17500 за квадратный метр, чем любой не первый и не последний. Последний этаж чуть дороже первого, но тоже ощутимо ниже, чем любой другой."
   ]
  },
  {
   "cell_type": "code",
   "execution_count": 53,
   "metadata": {},
   "outputs": [
    {
     "data": {
      "text/plain": [
       "<matplotlib.axes._subplots.AxesSubplot at 0xc070e48>"
      ]
     },
     "execution_count": 53,
     "metadata": {},
     "output_type": "execute_result"
    },
    {
     "data": {
      "image/png": "[encoded data removed]",
      "text/plain": [
       "<Figure size 432x288 with 1 Axes>"
      ]
     },
     "metadata": {
      "needs_background": "light"
     },
     "output_type": "display_data"
    }
   ],
   "source": [
    "\n",
    "cut_apartments.pivot_table(index = 'rooms', \n",
    "                          values= ['price_per_meter']).plot(style='o-', grid=True)\n",
    "plt.xlabel('Количество комнат')\n",
    "plt.ylabel('Cредняя цена за квадратный метр')\n",
    "plt.title('График зависимости средней цены за квадратный метр от количества комнат');"
   ]
  },
  {
   "cell_type": "markdown",
   "metadata": {},
   "source": [
    "Цена за квадратный метр выше для 0 комнат, это в нашей таблице обозначает апартаменты или квартиры со свободной планировкой, это обычно новые дома, поэтому и цена на квадратный метр выше. Еще высока цена однокомнатных квартир. Разница в цене за квадратный метр между 2х - 5и комнатными квартирами меньше."
   ]
  },
  {
   "cell_type": "markdown",
   "metadata": {},
   "source": [
    "#### Зависимость цены от даты размещения: дня недели, месяца и года"
   ]
  },
  {
   "cell_type": "code",
   "execution_count": 80,
   "metadata": {},
   "outputs": [
    {
     "data": {
      "image/png": "[encoded data removed]",
      "text/plain": [
       "<Figure size 432x288 with 1 Axes>"
      ]
     },
     "metadata": {
      "needs_background": "light"
     },
     "output_type": "display_data"
    },
    {
     "data": {
      "image/png": "[encoded data removed]",
      "text/plain": [
       "<Figure size 432x288 with 1 Axes>"
      ]
     },
     "metadata": {
      "needs_background": "light"
     },
     "output_type": "display_data"
    },
    {
     "data": {
      "image/png": "[encoded data removed]",
      "text/plain": [
       "<Figure size 432x288 with 1 Axes>"
      ]
     },
     "metadata": {
      "needs_background": "light"
     },
     "output_type": "display_data"
    }
   ],
   "source": [
    "# price_date.plot(style='o-', xlim = (-1,7))\n",
    "cut_apartments.pivot_table(index = 'weekday', \n",
    "                          values= ['price_per_meter']).plot(style='o-', xlim = (-1,7), grid=True)\n",
    "plt.ylabel('Cредняя цена за квадратный метр')\n",
    "plt.title('График зависимости средней цены за квадратный метр от от дня недели размещения');\n",
    "cut_apartments.pivot_table(index = 'month', \n",
    "                          values= ['price_per_meter']).plot(style='o-', xlim = (0,13), grid=True)\n",
    "plt.ylabel('Cредняя цена за квадратный метр')\n",
    "plt.title('График зависимости средней цены за квадратный метр от от месяца размещения');\n",
    "cut_apartments.pivot_table(index = 'year', \n",
    "                          values= ['price_per_meter']).plot(style='o-', xlim = (2012,2020), grid=True)\n",
    "plt.ylabel('Cредняя цена за квадратный метр')\n",
    "plt.title('График зависимости средней цены за квадратный метр от от года размещения');"
   ]
  },
  {
   "cell_type": "markdown",
   "metadata": {},
   "source": [
    "Самые высокие цены на квартиры, выставленные на продажу в понедельник, они уменьшаются вплоть до пятницы, потом снова растут до понедельника. \n",
    "В апреле и августе средняя цена на квартиры самая высокая, а в июне самая низкая.\n",
    "Самые высокие цены на квартире были в 2014 году, затем следует резкий скачок цены вниз. В 2015 году цены были минимальные, затем начали планомерно расти."
   ]
  },
  {
   "cell_type": "markdown",
   "metadata": {},
   "source": [
    "#### Cредняя цена квадратного метра в 10 населённых пунктов с наибольшим числом объявлений населённых пунктах\n",
    "Выберем 10 населённых пунктов с наибольшим числом объявлений. Посчитаем среднюю цену квадратного метра в этих населённых пунктах. Выделим населённые пункты с самой высокой и низкой стоимостью жилья. "
   ]
  },
  {
   "cell_type": "code",
   "execution_count": 55,
   "metadata": {},
   "outputs": [
    {
     "data": {
      "text/html": [
       "<div>\n",
       "<style scoped>\n",
       "    .dataframe tbody tr th:only-of-type {\n",
       "        vertical-align: middle;\n",
       "    }\n",
       "\n",
       "    .dataframe tbody tr th {\n",
       "        vertical-align: top;\n",
       "    }\n",
       "\n",
       "    .dataframe thead th {\n",
       "        text-align: right;\n",
       "    }\n",
       "</style>\n",
       "<table border=\"1\" class=\"dataframe\">\n",
       "  <thead>\n",
       "    <tr style=\"text-align: right;\">\n",
       "      <th></th>\n",
       "      <th>count</th>\n",
       "      <th>mean_price_per_meter</th>\n",
       "    </tr>\n",
       "    <tr>\n",
       "      <th>locality_name</th>\n",
       "      <th></th>\n",
       "      <th></th>\n",
       "    </tr>\n",
       "  </thead>\n",
       "  <tbody>\n",
       "    <tr>\n",
       "      <th>Санкт-Петербург</th>\n",
       "      <td>14378</td>\n",
       "      <td>106590.273222</td>\n",
       "    </tr>\n",
       "    <tr>\n",
       "      <th>Пушкин</th>\n",
       "      <td>352</td>\n",
       "      <td>101797.225402</td>\n",
       "    </tr>\n",
       "    <tr>\n",
       "      <th>посёлок Парголово</th>\n",
       "      <td>325</td>\n",
       "      <td>90362.345200</td>\n",
       "    </tr>\n",
       "    <tr>\n",
       "      <th>посёлок Мурино</th>\n",
       "      <td>518</td>\n",
       "      <td>85645.903323</td>\n",
       "    </tr>\n",
       "    <tr>\n",
       "      <th>Петергоф</th>\n",
       "      <td>197</td>\n",
       "      <td>83651.729192</td>\n",
       "    </tr>\n",
       "    <tr>\n",
       "      <th>посёлок Шушары</th>\n",
       "      <td>439</td>\n",
       "      <td>78551.344545</td>\n",
       "    </tr>\n",
       "    <tr>\n",
       "      <th>Колпино</th>\n",
       "      <td>336</td>\n",
       "      <td>75352.475583</td>\n",
       "    </tr>\n",
       "    <tr>\n",
       "      <th>Гатчина</th>\n",
       "      <td>303</td>\n",
       "      <td>69308.057870</td>\n",
       "    </tr>\n",
       "    <tr>\n",
       "      <th>Всеволожск</th>\n",
       "      <td>394</td>\n",
       "      <td>67268.369444</td>\n",
       "    </tr>\n",
       "    <tr>\n",
       "      <th>Выборг</th>\n",
       "      <td>231</td>\n",
       "      <td>58294.123426</td>\n",
       "    </tr>\n",
       "  </tbody>\n",
       "</table>\n",
       "</div>"
      ],
      "text/plain": [
       "                   count  mean_price_per_meter\n",
       "locality_name                                 \n",
       "Санкт-Петербург    14378         106590.273222\n",
       "Пушкин               352         101797.225402\n",
       "посёлок Парголово    325          90362.345200\n",
       "посёлок Мурино       518          85645.903323\n",
       "Петергоф             197          83651.729192\n",
       "посёлок Шушары       439          78551.344545\n",
       "Колпино              336          75352.475583\n",
       "Гатчина              303          69308.057870\n",
       "Всеволожск           394          67268.369444\n",
       "Выборг               231          58294.123426"
      ]
     },
     "execution_count": 55,
     "metadata": {},
     "output_type": "execute_result"
    }
   ],
   "source": [
    "# 10 населённых пунктов с наибольшим числом объявлений\n",
    "top_locality = (\n",
    "    cut_apartments\n",
    "    .pivot_table(index = 'locality_name', values= ['price_per_meter'], aggfunc = ['count', 'mean'])\n",
    ")\n",
    "top_locality.columns = ['count', 'mean_price_per_meter']\n",
    "# top_locality\n",
    "top_locality = top_locality.sort_values(by ='count', ascending=False).head(10)\n",
    "top_locality.sort_values(by ='mean_price_per_meter', ascending=False)\n"
   ]
  },
  {
   "cell_type": "markdown",
   "metadata": {},
   "source": [
    "Самая высокая стоимость жилья ожидаемо в Санкт-Петербурге - 109 тыс руб за квадратный метр, на втором месте Пушкин, он же Царское Село. Замыкает десятку населенных пунктов с самыми высокими ценами на жилье Выборг, цена там почти в два раза ниже, чем в Петербурге - 59 тыс руб"
   ]
  },
  {
   "cell_type": "markdown",
   "metadata": {},
   "source": [
    "### Квартиры в Санкт-Петербурге\n",
    "Выделим квартиры в Санкт-Петербурге ('locality_name'). Наша задача — выяснить, какая область входит в центральную область города. Создадим столбец с расстоянием до центра в километрах и округлим до целых значений. После этого посчитаем среднюю цену для каждого километра. "
   ]
  },
  {
   "cell_type": "code",
   "execution_count": 56,
   "metadata": {},
   "outputs": [
    {
     "data": {
      "text/html": [
       "<div>\n",
       "<style scoped>\n",
       "    .dataframe tbody tr th:only-of-type {\n",
       "        vertical-align: middle;\n",
       "    }\n",
       "\n",
       "    .dataframe tbody tr th {\n",
       "        vertical-align: top;\n",
       "    }\n",
       "\n",
       "    .dataframe thead th {\n",
       "        text-align: right;\n",
       "    }\n",
       "</style>\n",
       "<table border=\"1\" class=\"dataframe\">\n",
       "  <thead>\n",
       "    <tr style=\"text-align: right;\">\n",
       "      <th></th>\n",
       "      <th>cityCenters</th>\n",
       "      <th>cityCenters_nearest</th>\n",
       "    </tr>\n",
       "  </thead>\n",
       "  <tbody>\n",
       "    <tr>\n",
       "      <th>0</th>\n",
       "      <td>16</td>\n",
       "      <td>16028.0</td>\n",
       "    </tr>\n",
       "    <tr>\n",
       "      <th>2</th>\n",
       "      <td>13</td>\n",
       "      <td>13933.0</td>\n",
       "    </tr>\n",
       "    <tr>\n",
       "      <th>4</th>\n",
       "      <td>8</td>\n",
       "      <td>8098.0</td>\n",
       "    </tr>\n",
       "    <tr>\n",
       "      <th>7</th>\n",
       "      <td>11</td>\n",
       "      <td>11634.0</td>\n",
       "    </tr>\n",
       "    <tr>\n",
       "      <th>9</th>\n",
       "      <td>15</td>\n",
       "      <td>15008.0</td>\n",
       "    </tr>\n",
       "  </tbody>\n",
       "</table>\n",
       "</div>"
      ],
      "text/plain": [
       "   cityCenters  cityCenters_nearest\n",
       "0           16              16028.0\n",
       "2           13              13933.0\n",
       "4            8               8098.0\n",
       "7           11              11634.0\n",
       "9           15              15008.0"
      ]
     },
     "execution_count": 56,
     "metadata": {},
     "output_type": "execute_result"
    }
   ],
   "source": [
    "# выделим квартиры в Санкт-Петербурге\n",
    "peter_apartments = cut_apartments[cut_apartments['locality_name'] == 'Санкт-Петербург']\n",
    "peter_apartments= peter_apartments.query('locality_name == \"Санкт-Петербург\"')\n",
    "\n",
    "# столбец с расстоянием до центра в километрах\n",
    "peter_apartments['cityCenters'] = peter_apartments['cityCenters_nearest']/1000\n",
    "\n",
    "# округлим до целых значений\n",
    "peter_apartments['cityCenters'] = peter_apartments['cityCenters'].astype('int')\n",
    "\n",
    "peter_apartments[['cityCenters','cityCenters_nearest']].head()\n",
    "# peter_apartments"
   ]
  },
  {
   "cell_type": "markdown",
   "metadata": {},
   "source": [
    "Построим график зависимости цены от удалённости от центра. Определим границу, где график сильно меняется — это и будет центральная зона."
   ]
  },
  {
   "cell_type": "code",
   "execution_count": 82,
   "metadata": {},
   "outputs": [
    {
     "data": {
      "image/png": "[encoded data removed]",
      "text/plain": [
       "<Figure size 432x288 with 1 Axes>"
      ]
     },
     "metadata": {
      "needs_background": "light"
     },
     "output_type": "display_data"
    }
   ],
   "source": [
    "# график зависимости цены за квартиру от удалённости от центра\n",
    "price_per_km = peter_apartments.pivot_table(index='cityCenters', values = 'last_price')\n",
    "price_per_km.plot(grid='True', xlim=(0,25))\n",
    "plt.ylabel('Цена')\n",
    "plt.title('График зависимости цены за квартиру от удалённости от центра');"
   ]
  },
  {
   "cell_type": "code",
   "execution_count": 81,
   "metadata": {},
   "outputs": [
    {
     "data": {
      "image/png": "[encoded data removed]",
      "text/plain": [
       "<Figure size 432x288 with 1 Axes>"
      ]
     },
     "metadata": {
      "needs_background": "light"
     },
     "output_type": "display_data"
    }
   ],
   "source": [
    "# график зависимости цены за квадратный метр от удалённости от центра\n",
    "price_per_km = peter_apartments.pivot_table(index='cityCenters', values = 'price_per_meter')\n",
    "price_per_km.plot(grid='True', xlim=(0,30))\n",
    "plt.ylabel('Цена за квадратный метр')\n",
    "plt.title('График зависимостицены за квадратный метр от удалённости от центра');"
   ]
  },
  {
   "cell_type": "markdown",
   "metadata": {},
   "source": [
    "График показывает, как цена зависит от удалённости от центра. При удалении от центра на 8 км график падает и далее слабо меняется от расстояния, это и будет центральная зона."
   ]
  },
  {
   "cell_type": "markdown",
   "metadata": {},
   "source": [
    "Выделим сегмент квартир в центре. Проанализируем территорию не далее 8км от центра.\n",
    "Изучим следующие параметры: площадь, цена, число комнат, высота потолков. "
   ]
  },
  {
   "cell_type": "code",
   "execution_count": 83,
   "metadata": {},
   "outputs": [
    {
     "data": {
      "image/png": "[encoded data removed]",
      "text/plain": [
       "<Figure size 432x288 with 1 Axes>"
      ]
     },
     "metadata": {
      "needs_background": "light"
     },
     "output_type": "display_data"
    }
   ],
   "source": [
    "сentre_apart=peter_apartments.query('cityCenters <= 8')\n",
    "сentre_apart\n",
    "# график зависимости средней площади от удалённости от центра\n",
    "сentre_apart.pivot_table(index = 'cityCenters', \n",
    "                          values= ['total_area']).plot(style='o-', grid=True)\n",
    "plt.ylabel('Площадь квартиры')\n",
    "plt.title('График зависимости средней площади от удалённости от центра');"
   ]
  },
  {
   "cell_type": "code",
   "execution_count": 60,
   "metadata": {},
   "outputs": [
    {
     "data": {
      "text/plain": [
       "<matplotlib.axes._subplots.AxesSubplot at 0xc14b848>"
      ]
     },
     "execution_count": 60,
     "metadata": {},
     "output_type": "execute_result"
    },
    {
     "data": {
      "image/png": "[encoded data removed]",
      "text/plain": [
       "<Figure size 432x288 with 1 Axes>"
      ]
     },
     "metadata": {
      "needs_background": "light"
     },
     "output_type": "display_data"
    }
   ],
   "source": [
    "# график зависимости среднего количества комнат от удалённости от центра\n",
    "сentre_apart.pivot_table(index = 'cityCenters', \n",
    "                          values= ['rooms']).plot(style='o-', grid=True, alpha=1)\n",
    "# сentre_apart.sort_values('cityCenters').plot(style='x', grid=True, alpha=10, x='cityCenters', y='rooms')\n"
   ]
  },
  {
   "cell_type": "code",
   "execution_count": 61,
   "metadata": {},
   "outputs": [
    {
     "data": {
      "text/plain": [
       "<matplotlib.axes._subplots.AxesSubplot at 0xc148448>"
      ]
     },
     "execution_count": 61,
     "metadata": {},
     "output_type": "execute_result"
    },
    {
     "data": {
      "image/png": "[encoded data removed]",
      "text/plain": [
       "<Figure size 432x288 with 1 Axes>"
      ]
     },
     "metadata": {
      "needs_background": "light"
     },
     "output_type": "display_data"
    }
   ],
   "source": [
    "# график зависимости высоты потолков от удалённости от центра\n",
    "сentre_apart.pivot_table(index = 'cityCenters', \n",
    "                          values= ['ceiling_height']).plot(style='o-', grid=True, alpha=1)"
   ]
  },
  {
   "cell_type": "markdown",
   "metadata": {},
   "source": [
    "Средняя площадь квартир в районе 4 км от центра очень большая от 78 до 83 кв.м, при этом среднее количество комнат 2,7 - 3, то есть преобладают 2х,3х,4х комнатные квартиры. После 4 км от центра средняя площадь и количество комнат резко падают.\n",
    "Средняя высота потолков максимальна в центре анкт-Петербурга и на удалении 2 км от центра - 3,3м, далее средняя высота потолков неукоснительно падает и к 7км от центра становится равной средней по России 2.6 м. В центре города квартиры старой постройки с высокими потолками и просторными комнатами, чем дальше от центра, тем квартиры становятся меньше. Среднее количесво комнат в центре -3, площадь - 82кв.м \n",
    "при удалении на 6 км среднее количество комнат падает до 2, средняя площадь до 65 кв.м"
   ]
  },
  {
   "cell_type": "code",
   "execution_count": 62,
   "metadata": {},
   "outputs": [
    {
     "data": {
      "text/plain": [
       "<matplotlib.axes._subplots.AxesSubplot at 0xc2cd4c8>"
      ]
     },
     "execution_count": 62,
     "metadata": {},
     "output_type": "execute_result"
    },
    {
     "data": {
      "image/png": "[encoded data removed]",
      "text/plain": [
       "<Figure size 432x288 with 1 Axes>"
      ]
     },
     "metadata": {
      "needs_background": "light"
     },
     "output_type": "display_data"
    },
    {
     "data": {
      "image/png": "[encoded data removed]",
      "text/plain": [
       "<Figure size 432x288 with 1 Axes>"
      ]
     },
     "metadata": {
      "needs_background": "light"
     },
     "output_type": "display_data"
    }
   ],
   "source": [
    "# график зависимости цены от удалённости от центра\n",
    "сentre_apart.pivot_table(index = 'cityCenters', \n",
    "                          values= ['last_price']).plot(style='o-', grid=True, alpha=1)\n",
    "# график зависимости цены за квадратный метр от удалённости от центра\n",
    "сentre_apart.pivot_table(index = 'cityCenters', \n",
    "                          values= ['price_per_meter']).plot(style='o-', grid=True, alpha=1)"
   ]
  },
  {
   "cell_type": "markdown",
   "metadata": {},
   "source": [
    "Полная цена за квартиры максимальна в центре и уменьшается до расстояния в 3 км от центра города. В 4 км от города цена делает скачок вверх, а потом также плавно снижается по мере удаления от центра. А цена за квадратный метр максимальна в 6 км от центра города. Возможно, там находятся новые дома в хорошем районе."
   ]
  },
  {
   "cell_type": "markdown",
   "metadata": {},
   "source": [
    "#### Факторы, которые влияют на стоимость квартиры (число комнат, этаж, удалённость от центра, дата размещения объявления)."
   ]
  },
  {
   "cell_type": "code",
   "execution_count": 63,
   "metadata": {},
   "outputs": [
    {
     "data": {
      "text/plain": [
       "<matplotlib.axes._subplots.AxesSubplot at 0xc3c2748>"
      ]
     },
     "execution_count": 63,
     "metadata": {},
     "output_type": "execute_result"
    },
    {
     "data": {
      "image/png": "[encoded data removed]",
      "text/plain": [
       "<Figure size 432x288 with 1 Axes>"
      ]
     },
     "metadata": {
      "needs_background": "light"
     },
     "output_type": "display_data"
    },
    {
     "data": {
      "image/png": "[encoded data removed]",
      "text/plain": [
       "<Figure size 432x288 with 1 Axes>"
      ]
     },
     "metadata": {
      "needs_background": "light"
     },
     "output_type": "display_data"
    }
   ],
   "source": [
    "# график зависимости цены за квадратный метр от этажа\n",
    "сentre_apart.pivot_table(index = 'var_floor', \n",
    "                          values= ['price_per_meter']).plot(style='o-', grid=True)\n",
    "# график зависимости цены за квадратный метр от числа комнат\n",
    "сentre_apart.pivot_table(index = 'rooms', \n",
    "                          values= ['price_per_meter']).plot(style='o-', grid=True)\n"
   ]
  },
  {
   "cell_type": "markdown",
   "metadata": {},
   "source": [
    "Как и для других районов, первый этаж стоит дешевле остальных в среднем 108 тыс/кв.м вместо 120 тыс/кв.м, последний чуть дороже, чем первый - 113 тыс/кв.м. А при увеличении числа комнат дают скидку в цене за квадратный метр, за исключением 6-комнатных квартир, но это либо выбросы, либо какие-то уникальные квартиры."
   ]
  },
  {
   "cell_type": "markdown",
   "metadata": {},
   "source": [
    "График зависимости цены за квадратный метр от даты публикации объявления"
   ]
  },
  {
   "cell_type": "code",
   "execution_count": 64,
   "metadata": {},
   "outputs": [
    {
     "data": {
      "text/plain": [
       "<matplotlib.axes._subplots.AxesSubplot at 0xc325d88>"
      ]
     },
     "execution_count": 64,
     "metadata": {},
     "output_type": "execute_result"
    },
    {
     "data": {
      "image/png": "[encoded data removed]",
      "text/plain": [
       "<Figure size 432x288 with 1 Axes>"
      ]
     },
     "metadata": {
      "needs_background": "light"
     },
     "output_type": "display_data"
    },
    {
     "data": {
      "image/png": "[encoded data removed]",
      "text/plain": [
       "<Figure size 432x288 with 1 Axes>"
      ]
     },
     "metadata": {
      "needs_background": "light"
     },
     "output_type": "display_data"
    },
    {
     "data": {
      "image/png": "[encoded data removed]",
      "text/plain": [
       "<Figure size 432x288 with 1 Axes>"
      ]
     },
     "metadata": {
      "needs_background": "light"
     },
     "output_type": "display_data"
    }
   ],
   "source": [
    "сentre_apart.pivot_table(index = 'weekday', \n",
    "                          values= ['price_per_meter']).plot(style='o-', xlim = (-1,7), grid=True)\n",
    "сentre_apart.pivot_table(index = 'month', \n",
    "                          values= ['price_per_meter']).plot(style='o-', xlim = (-1,13), grid=True)\n",
    "сentre_apart.pivot_table(index = 'year', \n",
    "                          values= ['price_per_meter']).plot(style='o-', xlim = (2012,2020), grid=True)"
   ]
  },
  {
   "cell_type": "markdown",
   "metadata": {},
   "source": [
    "Как и в целом по городу, самые дешевые цены выставляются в июне и в 2015году. Дни низких цен в центре другие - понедельник и четверг, а вот самые дорогие объявления публикуются по субботам, как и для остальных населенных пунктов. График зависимости цены за квадратный метр от года похож на аналогичный для всех населенных пунктов, тут цены зависят от общей экономической ситуации в России. "
   ]
  },
  {
   "cell_type": "markdown",
   "metadata": {},
   "source": [
    "### Шаг 5. Общий вывод"
   ]
  },
  {
   "cell_type": "markdown",
   "metadata": {},
   "source": [
    "В работе проведен исследовательский анализ данных и сделано следующее:\n",
    "\n",
    "Построены гистограммы для для каждого параметра:\n",
    " площадь, цена, число комнат, высота потолков.\n",
    "Изучив гистограммы, сделаны следующие выводы:\n",
    "Больше всего предложений по квартирам, площадью 40-50 кв.м.\n",
    "Средняя цена квартир составляет 5 млн.руб, средняя цена \n",
    "за квадратный метр - 100 тыс.руб/кв.м\n",
    "Чаще всего встречаются объявления о продаже 1-,2-х комнатных квартир,\n",
    " в 75% случаев у квартир не более 3 комнат;\n",
    "В большинстве объявлений высота потолков - 2,7м ;\n",
    "чаще квартиры продаются от 0 до 50дней;\n",
    "\n",
    "Убраны  выбивающиеся значения, в результате в выборке \n",
    "оставлены объявления о квартирах, где:\n",
    " - площадь меньше 150 кв.м\n",
    " - цена квадратного метра от  20 000 до 175 000 руб/кв.м\n",
    " - количество комнат до 6\n",
    " - высота потолков от 2,5 до 4 м\n",
    "\n",
    "\n",
    "Зависит ли цена от квадратного метра, числа комнат,\n",
    " удалённости от центра\n",
    "\n",
    "Общая цена квартиры прямо пропорциональна общей площади квартиры. В случае с маленькими квартирами до 60 кв.м. эта зависимость \n",
    "явная, при большей площади квартиры разброс цен больше \n",
    "Чем ближе к центру, тем больше разброс в ценах, максимальные значения цен также ближе к центру города. По мере удаления от\n",
    " центра объявления смещаются в область меньших цен\n",
    "\n",
    "Средняя цена за квадратный метр ниже всего в случае первого\n",
    "этажа. Последний этаж чуть дороже первого, но тоже ощутимо \n",
    "ниже, чем любой не первый и не последний\n",
    "Цена за квадратный метр выше для 0 комнат, \n",
    "это в нашей таблице обозначает апартаменты или квартиры со \n",
    "свободной планировкой, это обычно новые дома, поэтому и цена\n",
    " на квадратный метр выше. Еще высока цена однокомнатных\n",
    " квартир. Разница в цене за\n",
    " квадратный метр между 2х - 5и комнатными квартирами меньше.\n",
    "Самые высокие цены на квартиры, выставленные на продажу в понедельник, \n",
    "они уменьшаются вплоть до пятницы, потом снова растут до понедельника. \n",
    "В апреле и августе средняя цена на квартиры самая высокая, \n",
    "а в июне самая низкая.\n",
    "Самые высокие цены на квартире были в 2014 году, \n",
    "затем следует резкий скачок цены вниз. В 2015 году цены были\n",
    " минимальные, затем начали планомерно расти. \n",
    "\n",
    "\n",
    "Выбраны 10 населённых пунктов с наибольшим числом объявлений \n",
    "и изучены средняя цена квадратного метра.\n",
    "Самая высокая стоимость жилья ожидаемо в Санкт-Петербурге - 109 тыс руб за квадратный метр,\n",
    " на втором месте Пушкин, он же Царское Село.\n",
    " Замыкает десятку населенных пунктов с самыми высокими ценами на жилье Выборг,\n",
    " цена там почти в два раза ниже, чем в Петербурге - 59 тыс руб\n",
    "\n",
    "\n",
    "Изучены объявления о продаже квартир в Санкт-Петербурге.\n",
    "Наша задача была выяснить, какая область входит в центральную область города\n",
    "\n",
    "При удалении от центра на 8 км график зависимости \n",
    "средней цены от расстояния \n",
    "от центра падает и далее слабо меняется от расстояния,\n",
    " это и будет центральная зона.\n",
    "Изучив сегмент квартир в центре, выделили следующее:\n",
    " В центре города квартиры старой постройки с высокими потолками 3,3 м и просторными комнатами,\n",
    " среднее количесво комнат в центре -3, площадь - 82кв.м \n",
    "при удалении на 6 км среднее количество комнат падает до 2, средняя площадь до 65 кв.м\n",
    "\n",
    "Как и для других районов, в Санкт-Петербурге первый этаж стоит дешевле остальных в среднем 108 тыс/кв.м вместо 120 тыс/кв.м, последний чуть дороже, чем первый - 113 тыс/кв.м.\n",
    " А при увеличении числа комнат дают скидку в цене за квадратный метр\n",
    "Как и в целом по городу, самые дешевые цены выставляются в июне и в 2015году. Дни низких цен в центре другие - понедельник и четверг, а вот самые дорогие объявления публикуются по субботам, как и для остальных населенных пунктов. График зависимости цены за квадратный метр от года похож на аналогичный для всех населенных пунктов, \n",
    "тут цены зависят от общей экономической ситуации в России. \n",
    "\n"
   ]
  }
 ],
 "metadata": {
  "kernelspec": {
   "display_name": "Python 3",
   "language": "python",
   "name": "python3"
  },
  "language_info": {
   "codemirror_mode": {
    "name": "ipython",
    "version": 3
   },
   "file_extension": ".py",
   "mimetype": "text/x-python",
   "name": "python",
   "nbconvert_exporter": "python",
   "pygments_lexer": "ipython3",
   "version": "3.7.6"
  }
 },
 "nbformat": 4,
 "nbformat_minor": 2
}
