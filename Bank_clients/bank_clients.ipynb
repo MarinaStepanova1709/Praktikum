{
 "cells": [
  {
   "cell_type": "markdown",
   "metadata": {},
   "source": [
    "## Исследование надёжности заёмщиков\n",
    "\n",
    "Заказчик — кредитный отдел банка. Нужно разобраться, влияет ли семейное положение и количество детей клиента на факт погашения кредита в срок. Входные данные от банка — статистика о платёжеспособности клиентов.\n",
    "\n",
    "Результаты исследования будут учтены при построении модели **кредитного скоринга** — специальной системы, которая оценивает способность потенциального заёмщика вернуть кредит банку."
   ]
  },
  {
   "cell_type": "markdown",
   "metadata": {},
   "source": [
    "В данной работе следует ответить на несколько вопросов:\n",
    "* Есть ли зависимость между наличием детей и возвратом кредита в срок?\n",
    "* Есть ли зависимость между семейным положением и возвратом кредита в срок?\n",
    "* Есть ли зависимость между уровнем дохода и возвратом кредита в срок?\n",
    "* Как разные цели кредита влияют на его возврат в срок?\n",
    "\n",
    "Перед этим надо выполнить следующие шаги:\n",
    "\n",
    "Шаг 1. Открыть файл и изучить информацию.\n",
    "\n",
    "Шаг 2. Предобработка данных:\n",
    " - определить и заполнить пропущенные значения;\n",
    " - заменить вещественный тип данных на целочисленный:\n",
    " - удалить дубликаты;\n",
    " - провести лемматизацию целей кредита;\n",
    " - категоризировать данные:\n",
    "\n",
    "Шаг 3. Ответьте на вопросы исследования."
   ]
  },
  {
   "cell_type": "markdown",
   "metadata": {},
   "source": [
    "### Описание данных\n",
    "+ children — количество детей в семье\n",
    "+ days_employed — общий трудовой стаж в днях\n",
    "+ dob_years — возраст клиента в годах\n",
    "+ education — уровень образования клиента\n",
    "+ education_id — идентификатор уровня образования\n",
    "+ family_status — семейное положение\n",
    "+ family_status_id — идентификатор семейного положения\n",
    "+ gender — пол клиента\n",
    "+ income_type — тип занятости\n",
    "+ debt — имел ли задолженность по возврату кредитов\n",
    "+ total_income — ежемесячный доход\n",
    "+ purpose — цель получения кредита"
   ]
  },
  {
   "cell_type": "markdown",
   "metadata": {},
   "source": [
    "### Шаг 1. Откройте файл с данными и изучите общую информацию. "
   ]
  },
  {
   "cell_type": "code",
   "execution_count": 1,
   "metadata": {},
   "outputs": [
    {
     "data": {
      "text/html": [
       "<div>\n",
       "<style scoped>\n",
       "    .dataframe tbody tr th:only-of-type {\n",
       "        vertical-align: middle;\n",
       "    }\n",
       "\n",
       "    .dataframe tbody tr th {\n",
       "        vertical-align: top;\n",
       "    }\n",
       "\n",
       "    .dataframe thead th {\n",
       "        text-align: right;\n",
       "    }\n",
       "</style>\n",
       "<table border=\"1\" class=\"dataframe\">\n",
       "  <thead>\n",
       "    <tr style=\"text-align: right;\">\n",
       "      <th></th>\n",
       "      <th>children</th>\n",
       "      <th>days_employed</th>\n",
       "      <th>dob_years</th>\n",
       "      <th>education</th>\n",
       "      <th>education_id</th>\n",
       "      <th>family_status</th>\n",
       "      <th>family_status_id</th>\n",
       "      <th>gender</th>\n",
       "      <th>income_type</th>\n",
       "      <th>debt</th>\n",
       "      <th>total_income</th>\n",
       "      <th>purpose</th>\n",
       "    </tr>\n",
       "  </thead>\n",
       "  <tbody>\n",
       "    <tr>\n",
       "      <th>0</th>\n",
       "      <td>1</td>\n",
       "      <td>-8437.673028</td>\n",
       "      <td>42</td>\n",
       "      <td>высшее</td>\n",
       "      <td>0</td>\n",
       "      <td>женат / замужем</td>\n",
       "      <td>0</td>\n",
       "      <td>F</td>\n",
       "      <td>сотрудник</td>\n",
       "      <td>0</td>\n",
       "      <td>253875.639453</td>\n",
       "      <td>покупка жилья</td>\n",
       "    </tr>\n",
       "    <tr>\n",
       "      <th>1</th>\n",
       "      <td>1</td>\n",
       "      <td>-4024.803754</td>\n",
       "      <td>36</td>\n",
       "      <td>среднее</td>\n",
       "      <td>1</td>\n",
       "      <td>женат / замужем</td>\n",
       "      <td>0</td>\n",
       "      <td>F</td>\n",
       "      <td>сотрудник</td>\n",
       "      <td>0</td>\n",
       "      <td>112080.014102</td>\n",
       "      <td>приобретение автомобиля</td>\n",
       "    </tr>\n",
       "    <tr>\n",
       "      <th>2</th>\n",
       "      <td>0</td>\n",
       "      <td>-5623.422610</td>\n",
       "      <td>33</td>\n",
       "      <td>Среднее</td>\n",
       "      <td>1</td>\n",
       "      <td>женат / замужем</td>\n",
       "      <td>0</td>\n",
       "      <td>M</td>\n",
       "      <td>сотрудник</td>\n",
       "      <td>0</td>\n",
       "      <td>145885.952297</td>\n",
       "      <td>покупка жилья</td>\n",
       "    </tr>\n",
       "    <tr>\n",
       "      <th>3</th>\n",
       "      <td>3</td>\n",
       "      <td>-4124.747207</td>\n",
       "      <td>32</td>\n",
       "      <td>среднее</td>\n",
       "      <td>1</td>\n",
       "      <td>женат / замужем</td>\n",
       "      <td>0</td>\n",
       "      <td>M</td>\n",
       "      <td>сотрудник</td>\n",
       "      <td>0</td>\n",
       "      <td>267628.550329</td>\n",
       "      <td>дополнительное образование</td>\n",
       "    </tr>\n",
       "    <tr>\n",
       "      <th>4</th>\n",
       "      <td>0</td>\n",
       "      <td>340266.072047</td>\n",
       "      <td>53</td>\n",
       "      <td>среднее</td>\n",
       "      <td>1</td>\n",
       "      <td>гражданский брак</td>\n",
       "      <td>1</td>\n",
       "      <td>F</td>\n",
       "      <td>пенсионер</td>\n",
       "      <td>0</td>\n",
       "      <td>158616.077870</td>\n",
       "      <td>сыграть свадьбу</td>\n",
       "    </tr>\n",
       "    <tr>\n",
       "      <th>5</th>\n",
       "      <td>0</td>\n",
       "      <td>-926.185831</td>\n",
       "      <td>27</td>\n",
       "      <td>высшее</td>\n",
       "      <td>0</td>\n",
       "      <td>гражданский брак</td>\n",
       "      <td>1</td>\n",
       "      <td>M</td>\n",
       "      <td>компаньон</td>\n",
       "      <td>0</td>\n",
       "      <td>255763.565419</td>\n",
       "      <td>покупка жилья</td>\n",
       "    </tr>\n",
       "    <tr>\n",
       "      <th>6</th>\n",
       "      <td>0</td>\n",
       "      <td>-2879.202052</td>\n",
       "      <td>43</td>\n",
       "      <td>высшее</td>\n",
       "      <td>0</td>\n",
       "      <td>женат / замужем</td>\n",
       "      <td>0</td>\n",
       "      <td>F</td>\n",
       "      <td>компаньон</td>\n",
       "      <td>0</td>\n",
       "      <td>240525.971920</td>\n",
       "      <td>операции с жильем</td>\n",
       "    </tr>\n",
       "    <tr>\n",
       "      <th>7</th>\n",
       "      <td>0</td>\n",
       "      <td>-152.779569</td>\n",
       "      <td>50</td>\n",
       "      <td>СРЕДНЕЕ</td>\n",
       "      <td>1</td>\n",
       "      <td>женат / замужем</td>\n",
       "      <td>0</td>\n",
       "      <td>M</td>\n",
       "      <td>сотрудник</td>\n",
       "      <td>0</td>\n",
       "      <td>135823.934197</td>\n",
       "      <td>образование</td>\n",
       "    </tr>\n",
       "    <tr>\n",
       "      <th>8</th>\n",
       "      <td>2</td>\n",
       "      <td>-6929.865299</td>\n",
       "      <td>35</td>\n",
       "      <td>ВЫСШЕЕ</td>\n",
       "      <td>0</td>\n",
       "      <td>гражданский брак</td>\n",
       "      <td>1</td>\n",
       "      <td>F</td>\n",
       "      <td>сотрудник</td>\n",
       "      <td>0</td>\n",
       "      <td>95856.832424</td>\n",
       "      <td>на проведение свадьбы</td>\n",
       "    </tr>\n",
       "    <tr>\n",
       "      <th>9</th>\n",
       "      <td>0</td>\n",
       "      <td>-2188.756445</td>\n",
       "      <td>41</td>\n",
       "      <td>среднее</td>\n",
       "      <td>1</td>\n",
       "      <td>женат / замужем</td>\n",
       "      <td>0</td>\n",
       "      <td>M</td>\n",
       "      <td>сотрудник</td>\n",
       "      <td>0</td>\n",
       "      <td>144425.938277</td>\n",
       "      <td>покупка жилья для семьи</td>\n",
       "    </tr>\n",
       "  </tbody>\n",
       "</table>\n",
       "</div>"
      ],
      "text/plain": [
       "   children  days_employed  dob_years education  education_id  \\\n",
       "0         1   -8437.673028         42    высшее             0   \n",
       "1         1   -4024.803754         36   среднее             1   \n",
       "2         0   -5623.422610         33   Среднее             1   \n",
       "3         3   -4124.747207         32   среднее             1   \n",
       "4         0  340266.072047         53   среднее             1   \n",
       "5         0    -926.185831         27    высшее             0   \n",
       "6         0   -2879.202052         43    высшее             0   \n",
       "7         0    -152.779569         50   СРЕДНЕЕ             1   \n",
       "8         2   -6929.865299         35    ВЫСШЕЕ             0   \n",
       "9         0   -2188.756445         41   среднее             1   \n",
       "\n",
       "      family_status  family_status_id gender income_type  debt   total_income  \\\n",
       "0   женат / замужем                 0      F   сотрудник     0  253875.639453   \n",
       "1   женат / замужем                 0      F   сотрудник     0  112080.014102   \n",
       "2   женат / замужем                 0      M   сотрудник     0  145885.952297   \n",
       "3   женат / замужем                 0      M   сотрудник     0  267628.550329   \n",
       "4  гражданский брак                 1      F   пенсионер     0  158616.077870   \n",
       "5  гражданский брак                 1      M   компаньон     0  255763.565419   \n",
       "6   женат / замужем                 0      F   компаньон     0  240525.971920   \n",
       "7   женат / замужем                 0      M   сотрудник     0  135823.934197   \n",
       "8  гражданский брак                 1      F   сотрудник     0   95856.832424   \n",
       "9   женат / замужем                 0      M   сотрудник     0  144425.938277   \n",
       "\n",
       "                      purpose  \n",
       "0               покупка жилья  \n",
       "1     приобретение автомобиля  \n",
       "2               покупка жилья  \n",
       "3  дополнительное образование  \n",
       "4             сыграть свадьбу  \n",
       "5               покупка жилья  \n",
       "6           операции с жильем  \n",
       "7                 образование  \n",
       "8       на проведение свадьбы  \n",
       "9     покупка жилья для семьи  "
      ]
     },
     "execution_count": 1,
     "metadata": {},
     "output_type": "execute_result"
    }
   ],
   "source": [
    "import pandas as pd\n",
    "# clients = pd.read_csv('/datasets/data.csv')\n",
    "clients = pd.read_csv('data.csv')\n",
    "clients.head(10)\n"
   ]
  },
  {
   "cell_type": "code",
   "execution_count": 177,
   "metadata": {},
   "outputs": [
    {
     "name": "stdout",
     "output_type": "stream",
     "text": [
      "<class 'pandas.core.frame.DataFrame'>\n",
      "RangeIndex: 21525 entries, 0 to 21524\n",
      "Data columns (total 12 columns):\n",
      "children            21525 non-null int64\n",
      "days_employed       19351 non-null float64\n",
      "dob_years           21525 non-null int64\n",
      "education           21525 non-null object\n",
      "education_id        21525 non-null int64\n",
      "family_status       21525 non-null object\n",
      "family_status_id    21525 non-null int64\n",
      "gender              21525 non-null object\n",
      "income_type         21525 non-null object\n",
      "debt                21525 non-null int64\n",
      "total_income        19351 non-null float64\n",
      "purpose             21525 non-null object\n",
      "dtypes: float64(2), int64(5), object(5)\n",
      "memory usage: 2.0+ MB\n"
     ]
    }
   ],
   "source": [
    "\n",
    "clients.info()"
   ]
  },
  {
   "cell_type": "markdown",
   "metadata": {},
   "source": [
    "### Вывод"
   ]
  },
  {
   "cell_type": "markdown",
   "metadata": {},
   "source": [
    "Таблица содержит информацию о клиентах: количество детей, семейный статус, уровень образования, трудовой стаж, уровень дохода. Таблица состоит из 21525 строк.\n",
    "В столбцах с трудовым стажем 'days_employed' и ежемесячным доходом 'total_income' имеются пропуски. Эти пропуски случайные, ведь уровень дохода и трудовой стаж являются важнейшими критериями для решения о выдаче кредита, вероятно они потерялись при переносе данных в другой формат.\n",
    "В столбце 'days_employed' (трудовой стаж в днях) отрицательные дробные числа.\n",
    "В столбцах 'days_employed' и 'total_income' тип данных - float, их надо перевести в тип int.\n",
    "В столбце 'education' одни и те же слова записаны с использованием заглавных и строчных букв, надо привести все символы к нижнему регистру."
   ]
  },
  {
   "cell_type": "markdown",
   "metadata": {},
   "source": [
    "### Шаг 2. Предобработка данных"
   ]
  },
  {
   "cell_type": "markdown",
   "metadata": {},
   "source": [
    "### Обработка пропусков"
   ]
  },
  {
   "cell_type": "markdown",
   "metadata": {},
   "source": [
    " Подсчитаем количество пропусков в таблице "
   ]
  },
  {
   "cell_type": "code",
   "execution_count": 178,
   "metadata": {},
   "outputs": [
    {
     "data": {
      "text/plain": [
       "children               0\n",
       "days_employed       2174\n",
       "dob_years              0\n",
       "education              0\n",
       "education_id           0\n",
       "family_status          0\n",
       "family_status_id       0\n",
       "gender                 0\n",
       "income_type            0\n",
       "debt                   0\n",
       "total_income        2174\n",
       "purpose                0\n",
       "dtype: int64"
      ]
     },
     "execution_count": 178,
     "metadata": {},
     "output_type": "execute_result"
    }
   ],
   "source": [
    "clients.isnull().sum()"
   ]
  },
  {
   "cell_type": "code",
   "execution_count": null,
   "metadata": {
    "scrolled": true
   },
   "outputs": [],
   "source": [
    "clients.isnull().loc[1010:1050]\n",
    "# строка с пропущенными значениями\n",
    "# clients.loc[1033] "
   ]
  },
  {
   "cell_type": "markdown",
   "metadata": {},
   "source": [
    "Пропуски имеются в столбцах с трудовым стажем и ежемесячным доходом. Эти пропуски случайны, т.к. эти данные очень важны при выдаче кредита. Сгруппируем таблицу по типу занятости 'income_type' и посчитаем средний доход по каждой группе занятых. Далее заполним пропуски в соответствии с типом дохода."
   ]
  },
  {
   "cell_type": "code",
   "execution_count": 206,
   "metadata": {},
   "outputs": [
    {
     "data": {
      "text/html": [
       "<div>\n",
       "<style scoped>\n",
       "    .dataframe tbody tr th:only-of-type {\n",
       "        vertical-align: middle;\n",
       "    }\n",
       "\n",
       "    .dataframe tbody tr th {\n",
       "        vertical-align: top;\n",
       "    }\n",
       "\n",
       "    .dataframe thead th {\n",
       "        text-align: right;\n",
       "    }\n",
       "</style>\n",
       "<table border=\"1\" class=\"dataframe\">\n",
       "  <thead>\n",
       "    <tr style=\"text-align: right;\">\n",
       "      <th></th>\n",
       "      <th>total_income</th>\n",
       "    </tr>\n",
       "    <tr>\n",
       "      <th>income_type</th>\n",
       "      <th></th>\n",
       "    </tr>\n",
       "  </thead>\n",
       "  <tbody>\n",
       "    <tr>\n",
       "      <td>безработный</td>\n",
       "      <td>131339.000000</td>\n",
       "    </tr>\n",
       "    <tr>\n",
       "      <td>в декрете</td>\n",
       "      <td>53829.000000</td>\n",
       "    </tr>\n",
       "    <tr>\n",
       "      <td>госслужащий</td>\n",
       "      <td>170897.818119</td>\n",
       "    </tr>\n",
       "    <tr>\n",
       "      <td>компаньон</td>\n",
       "      <td>202416.971445</td>\n",
       "    </tr>\n",
       "    <tr>\n",
       "      <td>пенсионер</td>\n",
       "      <td>137126.973884</td>\n",
       "    </tr>\n",
       "    <tr>\n",
       "      <td>предприниматель</td>\n",
       "      <td>499163.000000</td>\n",
       "    </tr>\n",
       "    <tr>\n",
       "      <td>сотрудник</td>\n",
       "      <td>161379.779682</td>\n",
       "    </tr>\n",
       "    <tr>\n",
       "      <td>студент</td>\n",
       "      <td>98201.000000</td>\n",
       "    </tr>\n",
       "  </tbody>\n",
       "</table>\n",
       "</div>"
      ],
      "text/plain": [
       "                  total_income\n",
       "income_type                   \n",
       "безработный      131339.000000\n",
       "в декрете         53829.000000\n",
       "госслужащий      170897.818119\n",
       "компаньон        202416.971445\n",
       "пенсионер        137126.973884\n",
       "предприниматель  499163.000000\n",
       "сотрудник        161379.779682\n",
       "студент           98201.000000"
      ]
     },
     "execution_count": 206,
     "metadata": {},
     "output_type": "execute_result"
    }
   ],
   "source": [
    "# сведем в таблицу данные о среднем доходе по каждой группе занятых \n",
    "mean_table = clients.groupby(['income_type']).agg({'total_income' : 'mean'})\n",
    "mean_table"
   ]
  },
  {
   "cell_type": "code",
   "execution_count": 207,
   "metadata": {},
   "outputs": [
    {
     "data": {
      "text/plain": [
       "0"
      ]
     },
     "execution_count": 207,
     "metadata": {},
     "output_type": "execute_result"
    }
   ],
   "source": [
    "# заполним пропуски в соответствии с типом дохода \n",
    "for inc_type in mean_table.index:\n",
    "    clients.loc[clients['income_type'] == inc_type,'total_income']=clients.loc[clients['income_type'] == inc_type,'total_income'].fillna(mean_table.loc[inc_type, 'total_income'])\n",
    "\n",
    "clients.loc[1033]\n",
    "# проверим количество пропусков\n",
    "clients['total_income'].isnull().sum() \n",
    " "
   ]
  },
  {
   "cell_type": "markdown",
   "metadata": {},
   "source": [
    "В столбце 'days_employed' имеются отрицательные значения, сначала заменим их на модуль числа, потом посчитаем средний по каждой группе занятых"
   ]
  },
  {
   "cell_type": "code",
   "execution_count": 181,
   "metadata": {},
   "outputs": [
    {
     "data": {
      "text/html": [
       "<div>\n",
       "<style scoped>\n",
       "    .dataframe tbody tr th:only-of-type {\n",
       "        vertical-align: middle;\n",
       "    }\n",
       "\n",
       "    .dataframe tbody tr th {\n",
       "        vertical-align: top;\n",
       "    }\n",
       "\n",
       "    .dataframe thead tr th {\n",
       "        text-align: left;\n",
       "    }\n",
       "\n",
       "    .dataframe thead tr:last-of-type th {\n",
       "        text-align: right;\n",
       "    }\n",
       "</style>\n",
       "<table border=\"1\" class=\"dataframe\">\n",
       "  <thead>\n",
       "    <tr>\n",
       "      <th></th>\n",
       "      <th colspan=\"2\" halign=\"left\">days_employed</th>\n",
       "    </tr>\n",
       "    <tr>\n",
       "      <th></th>\n",
       "      <th>mean</th>\n",
       "      <th>median</th>\n",
       "    </tr>\n",
       "    <tr>\n",
       "      <th>income_type</th>\n",
       "      <th></th>\n",
       "      <th></th>\n",
       "    </tr>\n",
       "  </thead>\n",
       "  <tbody>\n",
       "    <tr>\n",
       "      <td>безработный</td>\n",
       "      <td>366413.652744</td>\n",
       "      <td>366413.652744</td>\n",
       "    </tr>\n",
       "    <tr>\n",
       "      <td>в декрете</td>\n",
       "      <td>3296.759962</td>\n",
       "      <td>3296.759962</td>\n",
       "    </tr>\n",
       "    <tr>\n",
       "      <td>госслужащий</td>\n",
       "      <td>3399.896902</td>\n",
       "      <td>2689.368353</td>\n",
       "    </tr>\n",
       "    <tr>\n",
       "      <td>компаньон</td>\n",
       "      <td>2111.524398</td>\n",
       "      <td>1547.382223</td>\n",
       "    </tr>\n",
       "    <tr>\n",
       "      <td>пенсионер</td>\n",
       "      <td>365003.491245</td>\n",
       "      <td>365213.306266</td>\n",
       "    </tr>\n",
       "    <tr>\n",
       "      <td>предприниматель</td>\n",
       "      <td>520.848083</td>\n",
       "      <td>520.848083</td>\n",
       "    </tr>\n",
       "    <tr>\n",
       "      <td>сотрудник</td>\n",
       "      <td>2326.499216</td>\n",
       "      <td>1574.202821</td>\n",
       "    </tr>\n",
       "    <tr>\n",
       "      <td>студент</td>\n",
       "      <td>578.751554</td>\n",
       "      <td>578.751554</td>\n",
       "    </tr>\n",
       "  </tbody>\n",
       "</table>\n",
       "</div>"
      ],
      "text/plain": [
       "                 days_employed               \n",
       "                          mean         median\n",
       "income_type                                  \n",
       "безработный      366413.652744  366413.652744\n",
       "в декрете          3296.759962    3296.759962\n",
       "госслужащий        3399.896902    2689.368353\n",
       "компаньон          2111.524398    1547.382223\n",
       "пенсионер        365003.491245  365213.306266\n",
       "предприниматель     520.848083     520.848083\n",
       "сотрудник          2326.499216    1574.202821\n",
       "студент             578.751554     578.751554"
      ]
     },
     "execution_count": 181,
     "metadata": {},
     "output_type": "execute_result"
    }
   ],
   "source": [
    "def module(a): #Функция для вычисления модуля числа\n",
    "    if a <0:\n",
    "        a = a*-1\n",
    "    return a\n",
    "# заменим отрицательные числа их модулем\n",
    "clients['days_employed'] = clients['days_employed'].apply(module)\n",
    "\n",
    "# сведем в таблицу данные о среднем трудовом стаже по каждой группе занятых\n",
    "mean_table = clients.groupby(['income_type']).agg({'days_employed' : ['mean','median']})\n",
    "mean_table\n"
   ]
  },
  {
   "cell_type": "markdown",
   "metadata": {},
   "source": [
    "Средний трудовой стаж пенсионеров получается примерно 325909 дней = 325909/365= 892 лет, слишком много для одного человека, причем медианное значение еще больше, значит это не единичная ошибка. Возможно при переводе данных вместо трудовой стаж в днях, получили в часах и лишний раз умножили на 24 часа, попробуем разделить на 24:\n",
    "325909/365/24 = 37 лет, да, пенсионеры могут иметь средний трудовой стаж  37 лет, заменим аномальные значения в столбце days_employed.\n",
    "Самый большой трудовой стаж в России состовлял 80 лет.\n",
    "80лет * 365дней + 20 високосных годов = 29220 дней, выше этой цифры, поделим трудовой стаж на 24."
   ]
  },
  {
   "cell_type": "code",
   "execution_count": 210,
   "metadata": {},
   "outputs": [
    {
     "data": {
      "text/html": [
       "<div>\n",
       "<style scoped>\n",
       "    .dataframe tbody tr th:only-of-type {\n",
       "        vertical-align: middle;\n",
       "    }\n",
       "\n",
       "    .dataframe tbody tr th {\n",
       "        vertical-align: top;\n",
       "    }\n",
       "\n",
       "    .dataframe thead th {\n",
       "        text-align: right;\n",
       "    }\n",
       "</style>\n",
       "<table border=\"1\" class=\"dataframe\">\n",
       "  <thead>\n",
       "    <tr style=\"text-align: right;\">\n",
       "      <th></th>\n",
       "      <th>days_employed</th>\n",
       "    </tr>\n",
       "    <tr>\n",
       "      <th>income_type</th>\n",
       "      <th></th>\n",
       "    </tr>\n",
       "  </thead>\n",
       "  <tbody>\n",
       "    <tr>\n",
       "      <td>безработный</td>\n",
       "      <td>15266.500000</td>\n",
       "    </tr>\n",
       "    <tr>\n",
       "      <td>в декрете</td>\n",
       "      <td>3296.000000</td>\n",
       "    </tr>\n",
       "    <tr>\n",
       "      <td>госслужащий</td>\n",
       "      <td>3399.361016</td>\n",
       "    </tr>\n",
       "    <tr>\n",
       "      <td>компаньон</td>\n",
       "      <td>2111.028751</td>\n",
       "    </tr>\n",
       "    <tr>\n",
       "      <td>пенсионер</td>\n",
       "      <td>15207.980674</td>\n",
       "    </tr>\n",
       "    <tr>\n",
       "      <td>предприниматель</td>\n",
       "      <td>520.000000</td>\n",
       "    </tr>\n",
       "    <tr>\n",
       "      <td>сотрудник</td>\n",
       "      <td>2325.997203</td>\n",
       "    </tr>\n",
       "    <tr>\n",
       "      <td>студент</td>\n",
       "      <td>578.000000</td>\n",
       "    </tr>\n",
       "  </tbody>\n",
       "</table>\n",
       "</div>"
      ],
      "text/plain": [
       "                 days_employed\n",
       "income_type                   \n",
       "безработный       15266.500000\n",
       "в декрете          3296.000000\n",
       "госслужащий        3399.361016\n",
       "компаньон          2111.028751\n",
       "пенсионер         15207.980674\n",
       "предприниматель     520.000000\n",
       "сотрудник          2325.997203\n",
       "студент             578.000000"
      ]
     },
     "execution_count": 210,
     "metadata": {},
     "output_type": "execute_result"
    }
   ],
   "source": [
    "def change_days(row):\n",
    "    employed= row['days_employed']\n",
    "    income_type = row['income_type']\n",
    "    if (income_type == 'пенсионер' or income_type == 'безработный') & (employed > 29220):        \n",
    "        return (employed / 24)\n",
    "    else:\n",
    "        return employed\n",
    "    \n",
    "clients['days_employed'] = clients.apply(change_days,axis=1)\n",
    "mean_employed = clients.groupby(['income_type']).agg({'days_employed' : 'mean'})\n",
    "mean_employed"
   ]
  },
  {
   "cell_type": "code",
   "execution_count": 183,
   "metadata": {},
   "outputs": [
    {
     "data": {
      "text/html": [
       "<div>\n",
       "<style scoped>\n",
       "    .dataframe tbody tr th:only-of-type {\n",
       "        vertical-align: middle;\n",
       "    }\n",
       "\n",
       "    .dataframe tbody tr th {\n",
       "        vertical-align: top;\n",
       "    }\n",
       "\n",
       "    .dataframe thead th {\n",
       "        text-align: right;\n",
       "    }\n",
       "</style>\n",
       "<table border=\"1\" class=\"dataframe\">\n",
       "  <thead>\n",
       "    <tr style=\"text-align: right;\">\n",
       "      <th></th>\n",
       "      <th>days_employed</th>\n",
       "    </tr>\n",
       "    <tr>\n",
       "      <th>income_type</th>\n",
       "      <th></th>\n",
       "    </tr>\n",
       "  </thead>\n",
       "  <tbody>\n",
       "    <tr>\n",
       "      <td>безработный</td>\n",
       "      <td>15267.235531</td>\n",
       "    </tr>\n",
       "    <tr>\n",
       "      <td>в декрете</td>\n",
       "      <td>3296.759962</td>\n",
       "    </tr>\n",
       "    <tr>\n",
       "      <td>госслужащий</td>\n",
       "      <td>3399.896902</td>\n",
       "    </tr>\n",
       "    <tr>\n",
       "      <td>компаньон</td>\n",
       "      <td>2111.524398</td>\n",
       "    </tr>\n",
       "    <tr>\n",
       "      <td>пенсионер</td>\n",
       "      <td>15208.478802</td>\n",
       "    </tr>\n",
       "    <tr>\n",
       "      <td>предприниматель</td>\n",
       "      <td>520.848083</td>\n",
       "    </tr>\n",
       "    <tr>\n",
       "      <td>сотрудник</td>\n",
       "      <td>2326.499216</td>\n",
       "    </tr>\n",
       "    <tr>\n",
       "      <td>студент</td>\n",
       "      <td>578.751554</td>\n",
       "    </tr>\n",
       "  </tbody>\n",
       "</table>\n",
       "</div>"
      ],
      "text/plain": [
       "                 days_employed\n",
       "income_type                   \n",
       "безработный       15267.235531\n",
       "в декрете          3296.759962\n",
       "госслужащий        3399.896902\n",
       "компаньон          2111.524398\n",
       "пенсионер         15208.478802\n",
       "предприниматель     520.848083\n",
       "сотрудник          2326.499216\n",
       "студент             578.751554"
      ]
     },
     "execution_count": 183,
     "metadata": {},
     "output_type": "execute_result"
    }
   ],
   "source": [
    "# заполним пропуски в соответствии с типом дохода \n",
    "for inc_type in mean_employed.index:\n",
    "    clients.loc[clients['income_type'] == inc_type,'days_employed']=clients.loc[clients['income_type'] == inc_type,'days_employed'].fillna(mean_employed.loc[inc_type, 'days_employed'])\n",
    "\n",
    "clients.groupby(['income_type']).agg({'days_employed' : 'mean'})\n",
    "# Проверим наличие пропусков в таблице\n",
    "# clients.isnull().sum()\n"
   ]
  },
  {
   "cell_type": "markdown",
   "metadata": {},
   "source": [
    "Пропуски были в столбцах с трудовым стажем 'days_employed' и ежемесячным доходом 'total_income'. Уровень дохода важный показатель для выявления влияния на выплату кредита в срок. Пропуски в данных по доходам заполнены по среднему доходу каждой группы занятых. Аномальные значения в столбце трудовой стаж заменены из предположения что при переносе данных из другого формата некоторые значения получились в часах, а не днях, после этого пропуски заменены на средние значения для каждой группы занятых. "
   ]
  },
  {
   "cell_type": "markdown",
   "metadata": {},
   "source": [
    "### Замена типа данных"
   ]
  },
  {
   "cell_type": "markdown",
   "metadata": {},
   "source": [
    "Переведем 'days_employed' (трудовой стаж в днях) в класс int , т.к. это должны быть целые значения, дробные появились возможно при импорте из другого формата."
   ]
  },
  {
   "cell_type": "markdown",
   "metadata": {},
   "source": [
    " "
   ]
  },
  {
   "cell_type": "code",
   "execution_count": 212,
   "metadata": {},
   "outputs": [
    {
     "data": {
      "text/plain": [
       "0     8437\n",
       "1     4024\n",
       "2     5623\n",
       "3     4124\n",
       "4    14177\n",
       "5      926\n",
       "6     2879\n",
       "7      152\n",
       "8     6929\n",
       "9     2188\n",
       "Name: days_employed, dtype: int64"
      ]
     },
     "execution_count": 212,
     "metadata": {},
     "output_type": "execute_result"
    }
   ],
   "source": [
    "# Переведем 'days_employed' (трудовой стаж в днях) в класс int\n",
    "clients['days_employed'] =clients['days_employed'].astype('int')\n",
    "clients['days_employed'].head(10)"
   ]
  },
  {
   "cell_type": "code",
   "execution_count": 213,
   "metadata": {},
   "outputs": [
    {
     "data": {
      "text/plain": [
       "0    253875\n",
       "1    112080\n",
       "2    145885\n",
       "3    267628\n",
       "4    158616\n",
       "5    255763\n",
       "6    240525\n",
       "7    135823\n",
       "8     95856\n",
       "9    144425\n",
       "Name: total_income, dtype: int64"
      ]
     },
     "execution_count": 213,
     "metadata": {},
     "output_type": "execute_result"
    }
   ],
   "source": [
    "# Переведем 'total_income'  в класс int\n",
    "clients['total_income'] =clients['total_income'].astype('int')\n",
    "clients['total_income'].head(10)"
   ]
  },
  {
   "cell_type": "markdown",
   "metadata": {},
   "source": [
    "### Вывод"
   ]
  },
  {
   "cell_type": "markdown",
   "metadata": {},
   "source": [
    "Трудовой стаж в днях 'days_employed' и уровень дохода 'total_income' переведен в класс 'int' методом astype()"
   ]
  },
  {
   "cell_type": "markdown",
   "metadata": {},
   "source": [
    "### Прочие ошибки в данных"
   ]
  },
  {
   "cell_type": "markdown",
   "metadata": {},
   "source": [
    "Посмотрим какие значения встречаются в столбцах 'children', 'income_type', есть ли в них что-то интересное."
   ]
  },
  {
   "cell_type": "code",
   "execution_count": 186,
   "metadata": {
    "scrolled": false
   },
   "outputs": [
    {
     "data": {
      "text/plain": [
       " 0     14149\n",
       " 1      4818\n",
       " 2      2055\n",
       " 3       330\n",
       " 20       76\n",
       "-1        47\n",
       " 4        41\n",
       " 5         9\n",
       "Name: children, dtype: int64"
      ]
     },
     "execution_count": 186,
     "metadata": {},
     "output_type": "execute_result"
    }
   ],
   "source": [
    "clients['children'].value_counts()"
   ]
  },
  {
   "cell_type": "markdown",
   "metadata": {},
   "source": [
    "Целых 76 семей имеют по 20 детей, вряд ли все эти люди обратились в один банк за кредитом, скорее всего тут ошибка и детей все же 2, еще заменим -1 на 1."
   ]
  },
  {
   "cell_type": "code",
   "execution_count": 187,
   "metadata": {},
   "outputs": [
    {
     "data": {
      "text/plain": [
       " 0    14149\n",
       " 1     4818\n",
       " 2     2131\n",
       " 3      330\n",
       "-1       47\n",
       " 4       41\n",
       " 5        9\n",
       "Name: children, dtype: int64"
      ]
     },
     "execution_count": 187,
     "metadata": {},
     "output_type": "execute_result"
    }
   ],
   "source": [
    "# заменим количество детей с 20 на 2\n",
    "clients.loc[clients['children'] == 20, 'children'] = 2 \n",
    "clients['children'].value_counts()"
   ]
  },
  {
   "cell_type": "code",
   "execution_count": 188,
   "metadata": {},
   "outputs": [
    {
     "data": {
      "text/plain": [
       "0    14149\n",
       "1     4865\n",
       "2     2131\n",
       "3      330\n",
       "4       41\n",
       "5        9\n",
       "Name: children, dtype: int64"
      ]
     },
     "execution_count": 188,
     "metadata": {},
     "output_type": "execute_result"
    }
   ],
   "source": [
    "clients['children'] = clients['children'].apply(module) #воспользуемся функцией для вычисления модуля числа\n",
    "clients['children'].value_counts() # проверим значения "
   ]
  },
  {
   "cell_type": "markdown",
   "metadata": {},
   "source": [
    "### Обработка дубликатов"
   ]
  },
  {
   "cell_type": "markdown",
   "metadata": {},
   "source": [
    "В столбце 'education' одни и те же слова записаны с использованием заглавных и строчных букв,\n",
    "надо привести все символы к нижнему регистру."
   ]
  },
  {
   "cell_type": "code",
   "execution_count": 189,
   "metadata": {},
   "outputs": [
    {
     "data": {
      "text/plain": [
       "среднее                15233\n",
       "высшее                  5260\n",
       "неоконченное высшее      744\n",
       "начальное                282\n",
       "ученая степень             6\n",
       "Name: education, dtype: int64"
      ]
     },
     "execution_count": 189,
     "metadata": {},
     "output_type": "execute_result"
    }
   ],
   "source": [
    "clients['education'] = clients['education'].str.lower()\n",
    "clients['education'].value_counts()\n"
   ]
  },
  {
   "cell_type": "code",
   "execution_count": 190,
   "metadata": {},
   "outputs": [
    {
     "data": {
      "text/plain": [
       "женат / замужем          12380\n",
       "гражданский брак          4177\n",
       "не женат / не замужем     2813\n",
       "в разводе                 1195\n",
       "вдовец / вдова             960\n",
       "Name: family_status, dtype: int64"
      ]
     },
     "execution_count": 190,
     "metadata": {},
     "output_type": "execute_result"
    }
   ],
   "source": [
    "# приведем  все символы в столбце 'family_status' к нижнему регистру\n",
    "clients['family_status']=clients['family_status'].str.lower()\n",
    "clients['family_status'].value_counts()"
   ]
  },
  {
   "cell_type": "code",
   "execution_count": 214,
   "metadata": {},
   "outputs": [
    {
     "data": {
      "text/plain": [
       "жилая_недвижимость           7622\n",
       "автомобиль                   4306\n",
       "образование                  4013\n",
       "свадьба                      2324\n",
       "строительство                1878\n",
       "коммерческая_недвижимость    1311\n",
       "Name: purpose, dtype: int64"
      ]
     },
     "execution_count": 214,
     "metadata": {},
     "output_type": "execute_result"
    }
   ],
   "source": [
    "clients['purpose'].value_counts()"
   ]
  },
  {
   "cell_type": "markdown",
   "metadata": {},
   "source": [
    "#### Проверим наличие полных дубликатов"
   ]
  },
  {
   "cell_type": "code",
   "execution_count": 215,
   "metadata": {},
   "outputs": [
    {
     "data": {
      "text/plain": [
       "242"
      ]
     },
     "execution_count": 215,
     "metadata": {},
     "output_type": "execute_result"
    }
   ],
   "source": [
    "clients.duplicated().sum()"
   ]
  },
  {
   "cell_type": "code",
   "execution_count": 216,
   "metadata": {},
   "outputs": [
    {
     "data": {
      "text/plain": [
       "0"
      ]
     },
     "execution_count": 216,
     "metadata": {},
     "output_type": "execute_result"
    }
   ],
   "source": [
    "clients = clients.drop_duplicates().reset_index(drop=True)\n",
    "clients.duplicated().sum()"
   ]
  },
  {
   "cell_type": "markdown",
   "metadata": {},
   "source": [
    "### Вывод"
   ]
  },
  {
   "cell_type": "markdown",
   "metadata": {},
   "source": [
    "В столбце 'education' строки содержали строчные и заглавные буквы, теперь все строки приведены к нижнему регистру. Строки в столбце 'family_status'также приведены к нижнему регистру, хоть там и не было дублей. В столбце 'purpose' очень много вариантов формулировок целей кредита, избавится от дублей поможет лемматизация."
   ]
  },
  {
   "cell_type": "markdown",
   "metadata": {},
   "source": [
    "### Лемматизация"
   ]
  },
  {
   "cell_type": "markdown",
   "metadata": {},
   "source": [
    "Выделим основные цели получения кредита: свадьба, жилая недвижимость, оно же жилье, комерческая недвижимость, строительство, ремонт, автомобиль, образование. Сначала сведем слова в столбце 'purpose' к лемме с помощью библиотеки pymystem3 с функцией лемматизации на русском языке.\n"
   ]
  },
  {
   "cell_type": "code",
   "execution_count": 217,
   "metadata": {},
   "outputs": [
    {
     "data": {
      "text/plain": [
       "[жилой, _, недвижимость, \\n]           7488\n",
       "[автомобиль, \\n]                       4272\n",
       "[образование, \\n]                      3964\n",
       "[свадьба, \\n]                          2306\n",
       "[строительство, \\n]                    1871\n",
       "[коммерческий, _, недвижимость, \\n]    1311\n",
       "Name: purpose, dtype: int64"
      ]
     },
     "execution_count": 217,
     "metadata": {},
     "output_type": "execute_result"
    }
   ],
   "source": [
    "from pymystem3 import Mystem\n",
    "m = Mystem()\n",
    "\n",
    "lemma_data = clients['purpose'].apply(m.lemmatize)\n",
    "lemma_data.value_counts()"
   ]
  },
  {
   "cell_type": "markdown",
   "metadata": {},
   "source": [
    "Теперь напишем функцию, которая рапределит все лемматизированные строки по нескольким категориям: жилая_недвижимость, автомобиль, образование, свадьба строительство, коммерческая_недвижимость. Если встречается слово \"жилье\" или просто \"недвижимость\", отнесем это к категории жилая недвижимость, если одновременно слова \"комерческий\" и \"недвижимость, то к категории \"коммерческая_недвижимость\". Заменим значения в таблице 'data'"
   ]
  },
  {
   "cell_type": "code",
   "execution_count": 218,
   "metadata": {},
   "outputs": [
    {
     "data": {
      "text/plain": [
       "жилая_недвижимость           7488\n",
       "автомобиль                   4272\n",
       "образование                  3964\n",
       "свадьба                      2306\n",
       "строительство                1871\n",
       "коммерческая_недвижимость    1311\n",
       "Name: purpose, dtype: int64"
      ]
     },
     "execution_count": 218,
     "metadata": {},
     "output_type": "execute_result"
    }
   ],
   "source": [
    "\n",
    "def lemma_purpose(messages):\n",
    "    if 'строительство' in messages:\n",
    "        return 'строительство'\n",
    "    if 'жилье' in messages:\n",
    "        return 'жилая_недвижимость'\n",
    "    \n",
    "    if ('недвижимость' in messages)  and ('коммерческий' in messages):\n",
    "            return 'коммерческая_недвижимость'\n",
    "    if 'недвижимость' in messages:\n",
    "        return 'жилая_недвижимость'\n",
    "     \n",
    "    if 'автомобиль' in messages:\n",
    "        return 'автомобиль'\n",
    "    if 'образование' in messages:\n",
    "        return 'образование'\n",
    "    if 'свадьба' in messages:\n",
    "        return 'свадьба'\n",
    "    \n",
    "    \n",
    "purpose_new = lemma_data.apply(lemma_purpose)\n",
    "purpose_new\n",
    "# print(purpose_new.value_counts())\n",
    "clients['purpose'] = purpose_new\n",
    "clients['purpose'].value_counts()\n"
   ]
  },
  {
   "cell_type": "markdown",
   "metadata": {},
   "source": [
    "### Вывод"
   ]
  },
  {
   "cell_type": "markdown",
   "metadata": {},
   "source": [
    "В результате лемматизации цели кредита теперь распределены по 6 категориям:  жилая_недвижимость, автомобиль, образование, свадьба, строительство, коммерческая_недвижимость"
   ]
  },
  {
   "cell_type": "markdown",
   "metadata": {},
   "source": [
    "### Категоризация данных"
   ]
  },
  {
   "cell_type": "markdown",
   "metadata": {},
   "source": [
    "Создадим словари для столбцов 'education' и 'family_status' "
   ]
  },
  {
   "cell_type": "code",
   "execution_count": 219,
   "metadata": {},
   "outputs": [
    {
     "data": {
      "text/html": [
       "<div>\n",
       "<style scoped>\n",
       "    .dataframe tbody tr th:only-of-type {\n",
       "        vertical-align: middle;\n",
       "    }\n",
       "\n",
       "    .dataframe tbody tr th {\n",
       "        vertical-align: top;\n",
       "    }\n",
       "\n",
       "    .dataframe thead th {\n",
       "        text-align: right;\n",
       "    }\n",
       "</style>\n",
       "<table border=\"1\" class=\"dataframe\">\n",
       "  <thead>\n",
       "    <tr style=\"text-align: right;\">\n",
       "      <th></th>\n",
       "      <th>education</th>\n",
       "      <th>education_id</th>\n",
       "    </tr>\n",
       "  </thead>\n",
       "  <tbody>\n",
       "    <tr>\n",
       "      <td>0</td>\n",
       "      <td>высшее</td>\n",
       "      <td>0</td>\n",
       "    </tr>\n",
       "    <tr>\n",
       "      <td>1</td>\n",
       "      <td>среднее</td>\n",
       "      <td>1</td>\n",
       "    </tr>\n",
       "    <tr>\n",
       "      <td>2</td>\n",
       "      <td>неоконченное высшее</td>\n",
       "      <td>2</td>\n",
       "    </tr>\n",
       "    <tr>\n",
       "      <td>3</td>\n",
       "      <td>начальное</td>\n",
       "      <td>3</td>\n",
       "    </tr>\n",
       "    <tr>\n",
       "      <td>4</td>\n",
       "      <td>ученая степень</td>\n",
       "      <td>4</td>\n",
       "    </tr>\n",
       "  </tbody>\n",
       "</table>\n",
       "</div>"
      ],
      "text/plain": [
       "             education  education_id\n",
       "0               высшее             0\n",
       "1              среднее             1\n",
       "2  неоконченное высшее             2\n",
       "3            начальное             3\n",
       "4       ученая степень             4"
      ]
     },
     "execution_count": 219,
     "metadata": {},
     "output_type": "execute_result"
    }
   ],
   "source": [
    "education_dict = clients[['education',  'education_id']] # словарь для 'education'\n",
    "education_dict = education_dict.drop_duplicates().reset_index(drop=True) #уберем дубликаты \n",
    "education_dict.head()"
   ]
  },
  {
   "cell_type": "code",
   "execution_count": 220,
   "metadata": {},
   "outputs": [
    {
     "data": {
      "text/html": [
       "<div>\n",
       "<style scoped>\n",
       "    .dataframe tbody tr th:only-of-type {\n",
       "        vertical-align: middle;\n",
       "    }\n",
       "\n",
       "    .dataframe tbody tr th {\n",
       "        vertical-align: top;\n",
       "    }\n",
       "\n",
       "    .dataframe thead th {\n",
       "        text-align: right;\n",
       "    }\n",
       "</style>\n",
       "<table border=\"1\" class=\"dataframe\">\n",
       "  <thead>\n",
       "    <tr style=\"text-align: right;\">\n",
       "      <th></th>\n",
       "      <th>family_status</th>\n",
       "      <th>family_status_id</th>\n",
       "    </tr>\n",
       "  </thead>\n",
       "  <tbody>\n",
       "    <tr>\n",
       "      <td>0</td>\n",
       "      <td>женат / замужем</td>\n",
       "      <td>0</td>\n",
       "    </tr>\n",
       "    <tr>\n",
       "      <td>1</td>\n",
       "      <td>гражданский брак</td>\n",
       "      <td>1</td>\n",
       "    </tr>\n",
       "    <tr>\n",
       "      <td>2</td>\n",
       "      <td>вдовец / вдова</td>\n",
       "      <td>2</td>\n",
       "    </tr>\n",
       "    <tr>\n",
       "      <td>3</td>\n",
       "      <td>в разводе</td>\n",
       "      <td>3</td>\n",
       "    </tr>\n",
       "    <tr>\n",
       "      <td>4</td>\n",
       "      <td>не женат / не замужем</td>\n",
       "      <td>4</td>\n",
       "    </tr>\n",
       "  </tbody>\n",
       "</table>\n",
       "</div>"
      ],
      "text/plain": [
       "           family_status  family_status_id\n",
       "0        женат / замужем                 0\n",
       "1       гражданский брак                 1\n",
       "2         вдовец / вдова                 2\n",
       "3              в разводе                 3\n",
       "4  не женат / не замужем                 4"
      ]
     },
     "execution_count": 220,
     "metadata": {},
     "output_type": "execute_result"
    }
   ],
   "source": [
    "family_status_dict = clients[['family_status',  'family_status_id']] # словарь для 'family_status'\n",
    "family_status_dict =family_status_dict.drop_duplicates().reset_index(drop=True) #уберем дубликаты \n",
    "family_status_dict"
   ]
  },
  {
   "cell_type": "markdown",
   "metadata": {},
   "source": [
    "#### Разделим уровень дохода на четыре равные группы. Для этого воспользуемся коммандой quantile() для значений в  25%, 50% и 75%"
   ]
  },
  {
   "cell_type": "code",
   "execution_count": 221,
   "metadata": {},
   "outputs": [
    {
     "data": {
      "text/plain": [
       "[20667, 106983.75, 151425.0, 202417.0, 2265604]"
      ]
     },
     "execution_count": 221,
     "metadata": {},
     "output_type": "execute_result"
    }
   ],
   "source": [
    "total_income_dict = clients['total_income']\n",
    "\n",
    "quantile25 =  clients['total_income'].quantile(.25)\n",
    "quantile50 =  clients['total_income'].quantile(.5)\n",
    "quantile75=  clients['total_income'].quantile(.75)\n",
    "quantile_income = [clients['total_income'].min(), quantile25, quantile50, quantile75, clients['total_income'].max()]\n",
    "quantile_income"
   ]
  },
  {
   "cell_type": "code",
   "execution_count": 223,
   "metadata": {},
   "outputs": [
    {
     "name": "stdout",
     "output_type": "stream",
     "text": [
      "2265604\n"
     ]
    },
    {
     "data": {
      "text/html": [
       "<div>\n",
       "<style scoped>\n",
       "    .dataframe tbody tr th:only-of-type {\n",
       "        vertical-align: middle;\n",
       "    }\n",
       "\n",
       "    .dataframe tbody tr th {\n",
       "        vertical-align: top;\n",
       "    }\n",
       "\n",
       "    .dataframe thead th {\n",
       "        text-align: right;\n",
       "    }\n",
       "</style>\n",
       "<table border=\"1\" class=\"dataframe\">\n",
       "  <thead>\n",
       "    <tr style=\"text-align: right;\">\n",
       "      <th></th>\n",
       "      <th>total_income</th>\n",
       "      <th>quantile_income</th>\n",
       "      <th>debt</th>\n",
       "    </tr>\n",
       "  </thead>\n",
       "  <tbody>\n",
       "    <tr>\n",
       "      <td>0</td>\n",
       "      <td>253875</td>\n",
       "      <td>75%</td>\n",
       "      <td>0</td>\n",
       "    </tr>\n",
       "    <tr>\n",
       "      <td>1</td>\n",
       "      <td>112080</td>\n",
       "      <td>25%</td>\n",
       "      <td>0</td>\n",
       "    </tr>\n",
       "    <tr>\n",
       "      <td>2</td>\n",
       "      <td>145885</td>\n",
       "      <td>25%</td>\n",
       "      <td>0</td>\n",
       "    </tr>\n",
       "    <tr>\n",
       "      <td>3</td>\n",
       "      <td>267628</td>\n",
       "      <td>75%</td>\n",
       "      <td>0</td>\n",
       "    </tr>\n",
       "    <tr>\n",
       "      <td>4</td>\n",
       "      <td>158616</td>\n",
       "      <td>50%</td>\n",
       "      <td>0</td>\n",
       "    </tr>\n",
       "    <tr>\n",
       "      <td>5</td>\n",
       "      <td>255763</td>\n",
       "      <td>75%</td>\n",
       "      <td>0</td>\n",
       "    </tr>\n",
       "    <tr>\n",
       "      <td>6</td>\n",
       "      <td>240525</td>\n",
       "      <td>75%</td>\n",
       "      <td>0</td>\n",
       "    </tr>\n",
       "    <tr>\n",
       "      <td>7</td>\n",
       "      <td>135823</td>\n",
       "      <td>25%</td>\n",
       "      <td>0</td>\n",
       "    </tr>\n",
       "    <tr>\n",
       "      <td>8</td>\n",
       "      <td>95856</td>\n",
       "      <td>0%</td>\n",
       "      <td>0</td>\n",
       "    </tr>\n",
       "    <tr>\n",
       "      <td>9</td>\n",
       "      <td>144425</td>\n",
       "      <td>25%</td>\n",
       "      <td>0</td>\n",
       "    </tr>\n",
       "  </tbody>\n",
       "</table>\n",
       "</div>"
      ],
      "text/plain": [
       "   total_income quantile_income  debt\n",
       "0        253875             75%     0\n",
       "1        112080             25%     0\n",
       "2        145885             25%     0\n",
       "3        267628             75%     0\n",
       "4        158616             50%     0\n",
       "5        255763             75%     0\n",
       "6        240525             75%     0\n",
       "7        135823             25%     0\n",
       "8         95856              0%     0\n",
       "9        144425             25%     0"
      ]
     },
     "execution_count": 223,
     "metadata": {},
     "output_type": "execute_result"
    }
   ],
   "source": [
    "total_income_dict = clients\n",
    "print(clients['total_income'].max())\n",
    "def total_income_level(money):    \n",
    "    if money < quantile25:        \n",
    "        return ('0%')\n",
    "    if money < quantile50:\n",
    "        return ('25%')\n",
    "    if money < quantile75:    \n",
    "        return '50%'       \n",
    "    return '75%'\n",
    "\n",
    "\n",
    "\n",
    "clients['quantile_income'] = total_income_dict['total_income'].apply(total_income_level)\n",
    "total_income_dict = total_income_dict[['total_income','quantile_income', 'debt']]\n",
    "\n",
    "# total_income_dict['quantile_income']\n",
    "total_income_dict.head(10)\n",
    "    \n",
    "\n"
   ]
  },
  {
   "cell_type": "markdown",
   "metadata": {},
   "source": [
    "### Вывод"
   ]
  },
  {
   "cell_type": "markdown",
   "metadata": {},
   "source": [
    "Для удобства восприятия создали словари для 'education', 'family_status',  а также разделили уровень дохода на четыре уровня с равным количеством наблюдений."
   ]
  },
  {
   "cell_type": "markdown",
   "metadata": {},
   "source": [
    "### Шаг 3. Ответьте на вопросы"
   ]
  },
  {
   "cell_type": "markdown",
   "metadata": {},
   "source": [
    "- Есть ли зависимость между наличием детей и возвратом кредита в срок?"
   ]
  },
  {
   "cell_type": "markdown",
   "metadata": {},
   "source": [
    "Получим сводную таблицу из таблицы 'children_data' по нужным столбцам - количество детей ('children') и наличие задолженности по возврату кредитов ('debt') и посчитаем количество случаев для (debt = 1) и (debt = 0).\n",
    "\n",
    "Для сводной таблицы добавим для наглядности два столбца  - процент возврата (refund) и не возврата (no_refund) в срок от общего числа выданных кредита в зависимости от наличия детей."
   ]
  },
  {
   "cell_type": "code",
   "execution_count": 200,
   "metadata": {
    "scrolled": true
   },
   "outputs": [
    {
     "data": {
      "text/html": [
       "<div>\n",
       "<style scoped>\n",
       "    .dataframe tbody tr th:only-of-type {\n",
       "        vertical-align: middle;\n",
       "    }\n",
       "\n",
       "    .dataframe tbody tr th {\n",
       "        vertical-align: top;\n",
       "    }\n",
       "\n",
       "    .dataframe thead th {\n",
       "        text-align: right;\n",
       "    }\n",
       "</style>\n",
       "<table border=\"1\" class=\"dataframe\">\n",
       "  <thead>\n",
       "    <tr style=\"text-align: right;\">\n",
       "      <th>debt</th>\n",
       "      <th>0</th>\n",
       "      <th>1</th>\n",
       "      <th>no_refund</th>\n",
       "      <th>refund</th>\n",
       "    </tr>\n",
       "    <tr>\n",
       "      <th>children</th>\n",
       "      <th></th>\n",
       "      <th></th>\n",
       "      <th></th>\n",
       "      <th></th>\n",
       "    </tr>\n",
       "  </thead>\n",
       "  <tbody>\n",
       "    <tr>\n",
       "      <td>0</td>\n",
       "      <td>13028.0</td>\n",
       "      <td>1063.0</td>\n",
       "      <td>7.543822</td>\n",
       "      <td>92.456178</td>\n",
       "    </tr>\n",
       "    <tr>\n",
       "      <td>1</td>\n",
       "      <td>4410.0</td>\n",
       "      <td>445.0</td>\n",
       "      <td>9.165808</td>\n",
       "      <td>90.834192</td>\n",
       "    </tr>\n",
       "    <tr>\n",
       "      <td>2</td>\n",
       "      <td>1926.0</td>\n",
       "      <td>202.0</td>\n",
       "      <td>9.492481</td>\n",
       "      <td>90.507519</td>\n",
       "    </tr>\n",
       "    <tr>\n",
       "      <td>3</td>\n",
       "      <td>303.0</td>\n",
       "      <td>27.0</td>\n",
       "      <td>8.181818</td>\n",
       "      <td>91.818182</td>\n",
       "    </tr>\n",
       "    <tr>\n",
       "      <td>4</td>\n",
       "      <td>37.0</td>\n",
       "      <td>4.0</td>\n",
       "      <td>9.756098</td>\n",
       "      <td>90.243902</td>\n",
       "    </tr>\n",
       "    <tr>\n",
       "      <td>5</td>\n",
       "      <td>9.0</td>\n",
       "      <td>NaN</td>\n",
       "      <td>NaN</td>\n",
       "      <td>NaN</td>\n",
       "    </tr>\n",
       "  </tbody>\n",
       "</table>\n",
       "</div>"
      ],
      "text/plain": [
       "debt            0       1  no_refund     refund\n",
       "children                                       \n",
       "0         13028.0  1063.0   7.543822  92.456178\n",
       "1          4410.0   445.0   9.165808  90.834192\n",
       "2          1926.0   202.0   9.492481  90.507519\n",
       "3           303.0    27.0   8.181818  91.818182\n",
       "4            37.0     4.0   9.756098  90.243902\n",
       "5             9.0     NaN        NaN        NaN"
      ]
     },
     "execution_count": 200,
     "metadata": {},
     "output_type": "execute_result"
    }
   ],
   "source": [
    "#сводная таблица по наличию детей ('children_have') и наличие задолженности по возврату кредитов ('debt')\n",
    "data_pivot = clients.pivot_table(index=['children'], columns='debt', values='dob_years', aggfunc='count')\n",
    "data_pivot['no_refund'] = 100 * data_pivot[1] / (data_pivot[0] +data_pivot[1])\n",
    "data_pivot['refund'] =  100 * data_pivot[0] / (data_pivot[0] +data_pivot[1])\n",
    "\n",
    "data_pivot\n"
   ]
  },
  {
   "cell_type": "markdown",
   "metadata": {},
   "source": [
    "### Вывод"
   ]
  },
  {
   "cell_type": "markdown",
   "metadata": {},
   "source": [
    "У семей с 5 детьми нет задолженности по возврату кредита в срок, но этих случаев слишком мало для \n",
    "анализа, эту строчку учитывать не будем. По остальным случаям выше всего процент возврата у людей \n",
    "без детей, 92,5% от общего числа, чуть ниже у семей с 3 детьми - 91,8%, а вот у семей \n",
    "с 1,2 и 4 детьми - 90,2 - 90,8% возвратов в срок. Итого, выше всего процент возврата у людей \n",
    "без детей, при наличии детей процент возврата кредита в срок падает. С появлением детей расходы семьи растут, а доход на каждого члена семьи уменьшается, из-за этого могут возникнуть временные финансовые трудности."
   ]
  },
  {
   "cell_type": "markdown",
   "metadata": {},
   "source": [
    "- Есть ли зависимость между семейным положением и возвратом кредита в срок?"
   ]
  },
  {
   "cell_type": "markdown",
   "metadata": {},
   "source": [
    "Получим сводную таблицу data_pivot_family из таблицы 'data' по нужным столбцам - 'family_status_id' и наличие задолженности по возврату кредитов ('debt') и посчитаем количество случаев для (debt = 1) и (debt = 0). Потом соединим полученную таблицу со словарем для расшифровке статуса семьи 'family_status'\n",
    "В сводную таблицу добавим  два столбца  - процент возврата (refund) и не возврата (no_refund) в срок от общего числа выданных кредита."
   ]
  },
  {
   "cell_type": "code",
   "execution_count": 224,
   "metadata": {},
   "outputs": [
    {
     "data": {
      "text/html": [
       "<div>\n",
       "<style scoped>\n",
       "    .dataframe tbody tr th:only-of-type {\n",
       "        vertical-align: middle;\n",
       "    }\n",
       "\n",
       "    .dataframe tbody tr th {\n",
       "        vertical-align: top;\n",
       "    }\n",
       "\n",
       "    .dataframe thead th {\n",
       "        text-align: right;\n",
       "    }\n",
       "</style>\n",
       "<table border=\"1\" class=\"dataframe\">\n",
       "  <thead>\n",
       "    <tr style=\"text-align: right;\">\n",
       "      <th></th>\n",
       "      <th>family_status_id</th>\n",
       "      <th>0</th>\n",
       "      <th>1</th>\n",
       "      <th>no_refund</th>\n",
       "      <th>refund</th>\n",
       "      <th>family_status</th>\n",
       "    </tr>\n",
       "  </thead>\n",
       "  <tbody>\n",
       "    <tr>\n",
       "      <td>0</td>\n",
       "      <td>0</td>\n",
       "      <td>11220</td>\n",
       "      <td>930</td>\n",
       "      <td>7.654321</td>\n",
       "      <td>92.345679</td>\n",
       "      <td>женат / замужем</td>\n",
       "    </tr>\n",
       "    <tr>\n",
       "      <td>1</td>\n",
       "      <td>1</td>\n",
       "      <td>3738</td>\n",
       "      <td>388</td>\n",
       "      <td>9.403781</td>\n",
       "      <td>90.596219</td>\n",
       "      <td>гражданский брак</td>\n",
       "    </tr>\n",
       "    <tr>\n",
       "      <td>2</td>\n",
       "      <td>2</td>\n",
       "      <td>886</td>\n",
       "      <td>63</td>\n",
       "      <td>6.638567</td>\n",
       "      <td>93.361433</td>\n",
       "      <td>вдовец / вдова</td>\n",
       "    </tr>\n",
       "    <tr>\n",
       "      <td>3</td>\n",
       "      <td>3</td>\n",
       "      <td>1108</td>\n",
       "      <td>85</td>\n",
       "      <td>7.124895</td>\n",
       "      <td>92.875105</td>\n",
       "      <td>в разводе</td>\n",
       "    </tr>\n",
       "    <tr>\n",
       "      <td>4</td>\n",
       "      <td>4</td>\n",
       "      <td>2520</td>\n",
       "      <td>274</td>\n",
       "      <td>9.806729</td>\n",
       "      <td>90.193271</td>\n",
       "      <td>не женат / не замужем</td>\n",
       "    </tr>\n",
       "  </tbody>\n",
       "</table>\n",
       "</div>"
      ],
      "text/plain": [
       "   family_status_id      0    1  no_refund     refund          family_status\n",
       "0                 0  11220  930   7.654321  92.345679        женат / замужем\n",
       "1                 1   3738  388   9.403781  90.596219       гражданский брак\n",
       "2                 2    886   63   6.638567  93.361433         вдовец / вдова\n",
       "3                 3   1108   85   7.124895  92.875105              в разводе\n",
       "4                 4   2520  274   9.806729  90.193271  не женат / не замужем"
      ]
     },
     "execution_count": 224,
     "metadata": {},
     "output_type": "execute_result"
    }
   ],
   "source": [
    "\n",
    "data_pivot_family = clients.pivot_table(index=['family_status_id'], columns='debt', values='dob_years', aggfunc='count')\n",
    "data_pivot_family['no_refund'] = 100 * data_pivot_family[1] / (data_pivot_family[0] +data_pivot_family[1])\n",
    "data_pivot_family['refund'] =  100 * data_pivot_family[0] / (data_pivot_family[0] +data_pivot_family[1])\n",
    "\n",
    "# соединим со словарем по 'family_status_id'\n",
    "data_pivot_family = data_pivot_family.merge(family_status_dict, on='family_status_id', how='left')\n",
    "data_pivot_family\n"
   ]
  },
  {
   "cell_type": "markdown",
   "metadata": {},
   "source": [
    "### Вывод"
   ]
  },
  {
   "cell_type": "markdown",
   "metadata": {},
   "source": [
    "Отсутствие задолженности по кредиту выше у вдовцов - 93.4%, у женатых и разведенных чуть ниже - 92.5% и 92,9% соответственно, самый низкий у неженатых и состоящих в гражданско м браке - 90.2% и 90.7% соответственно. "
   ]
  },
  {
   "cell_type": "markdown",
   "metadata": {},
   "source": [
    "#### - Есть ли зависимость между уровнем дохода и возвратом кредита в срок?"
   ]
  },
  {
   "cell_type": "markdown",
   "metadata": {},
   "source": [
    "Получим сводную таблицу total_income_pivot для квантилей уровней дохода, полученных ранее при категоризации данных, из таблицы с уровнем дохода total_income_dict по нужным столбцам - уровень дохода ('level_income') и наличие задолженности по возврату кредитов ('debt') и посчитаем количество случаев для (debt = 1) и (debt = 0).\n",
    "В сводную таблицу добавим  два столбца  - процент возврата (refund) и не возврата (no_refund) в срок от общего числа выданных кредита."
   ]
  },
  {
   "cell_type": "code",
   "execution_count": 202,
   "metadata": {},
   "outputs": [
    {
     "data": {
      "text/plain": [
       "[20667, 107623.0, 151887.0, 202417.0, 2265604]"
      ]
     },
     "execution_count": 202,
     "metadata": {},
     "output_type": "execute_result"
    }
   ],
   "source": [
    "# квантили вместе с минимумом и максимом\n",
    "quantile_income\n"
   ]
  },
  {
   "cell_type": "markdown",
   "metadata": {},
   "source": [
    "Уровни дохода:\n",
    "0%  -  (20.6 - 107,6)тыс.руб\n",
    "25% -  (107,6 - 151,9)тыс.руб\n",
    "50% -  (151,9 - 202,4)тыс.руб\n",
    "75% -  (202,4 - 2 265,6)тыс.руб"
   ]
  },
  {
   "cell_type": "code",
   "execution_count": 203,
   "metadata": {},
   "outputs": [
    {
     "data": {
      "text/html": [
       "<div>\n",
       "<style scoped>\n",
       "    .dataframe tbody tr th:only-of-type {\n",
       "        vertical-align: middle;\n",
       "    }\n",
       "\n",
       "    .dataframe tbody tr th {\n",
       "        vertical-align: top;\n",
       "    }\n",
       "\n",
       "    .dataframe thead th {\n",
       "        text-align: right;\n",
       "    }\n",
       "</style>\n",
       "<table border=\"1\" class=\"dataframe\">\n",
       "  <thead>\n",
       "    <tr style=\"text-align: right;\">\n",
       "      <th>debt</th>\n",
       "      <th>0</th>\n",
       "      <th>1</th>\n",
       "      <th>refund</th>\n",
       "    </tr>\n",
       "    <tr>\n",
       "      <th>quantile_income</th>\n",
       "      <th></th>\n",
       "      <th></th>\n",
       "      <th></th>\n",
       "    </tr>\n",
       "  </thead>\n",
       "  <tbody>\n",
       "    <tr>\n",
       "      <td>0%</td>\n",
       "      <td>4937</td>\n",
       "      <td>427</td>\n",
       "      <td>92.039523</td>\n",
       "    </tr>\n",
       "    <tr>\n",
       "      <td>25%</td>\n",
       "      <td>4888</td>\n",
       "      <td>475</td>\n",
       "      <td>91.143017</td>\n",
       "    </tr>\n",
       "    <tr>\n",
       "      <td>50%</td>\n",
       "      <td>4853</td>\n",
       "      <td>464</td>\n",
       "      <td>91.273274</td>\n",
       "    </tr>\n",
       "    <tr>\n",
       "      <td>75%</td>\n",
       "      <td>5035</td>\n",
       "      <td>375</td>\n",
       "      <td>93.068392</td>\n",
       "    </tr>\n",
       "  </tbody>\n",
       "</table>\n",
       "</div>"
      ],
      "text/plain": [
       "debt                0    1     refund\n",
       "quantile_income                      \n",
       "0%               4937  427  92.039523\n",
       "25%              4888  475  91.143017\n",
       "50%              4853  464  91.273274\n",
       "75%              5035  375  93.068392"
      ]
     },
     "execution_count": 203,
     "metadata": {},
     "output_type": "execute_result"
    }
   ],
   "source": [
    "total_income_pivot = total_income_dict.pivot_table(index=['quantile_income'], columns='debt', values= 'total_income', aggfunc='count')\n",
    "total_income_pivot['refund'] = 100 * total_income_pivot[0] / (total_income_pivot[0] +total_income_pivot[1])\n",
    "total_income_pivot\n"
   ]
  },
  {
   "cell_type": "markdown",
   "metadata": {},
   "source": [
    "### Вывод"
   ]
  },
  {
   "cell_type": "markdown",
   "metadata": {},
   "source": [
    "Отсутствие задолженности по выплате кредита в срок выше у тех, чей  доход попал в четвертую категорию заемщики с доходом выше 202,4 тыс.руб - 92,9% возвратов кредита в срок, затем идут люди с минимальными доходами (от 20,7 до 107,6 тыс.руб) - 92,0% возвратов кредита в срок, потом заемщики из третьей категории дохода  (151,9 - 202,4 тыс.руб) - 91,2%, и чуть ниже с доходами (107,6 - 151,9 тыс.руб) - 91,1%. Таким образом, выше вероятность возврата кредита в срок у людей с максимальными и минимальными доходами. Полагаю, в случае с максимальным доходом это связано с наличием стабильного источника высокого дохода. А в случае с минимальными доходами - с лучшими проверками на платежеспособность со стороны банковских работников."
   ]
  },
  {
   "cell_type": "markdown",
   "metadata": {},
   "source": [
    "- Как разные цели кредита влияют на его возврат в срок?"
   ]
  },
  {
   "cell_type": "markdown",
   "metadata": {},
   "source": [
    "Получим сводную таблицу data_pivot_purpose по нужным столбцам - цель кредита ('purpose') и наличие задолженности по возврату кредитов ('debt') и посчитаем количество случаев для (debt = 1) и (debt = 0).\n",
    "В сводную таблицу добавим  два столбца  - процент возврата (refund) и не возврата (no_refund) в срок от общего числа выданных кредита."
   ]
  },
  {
   "cell_type": "code",
   "execution_count": 204,
   "metadata": {},
   "outputs": [
    {
     "data": {
      "text/html": [
       "<div>\n",
       "<style scoped>\n",
       "    .dataframe tbody tr th:only-of-type {\n",
       "        vertical-align: middle;\n",
       "    }\n",
       "\n",
       "    .dataframe tbody tr th {\n",
       "        vertical-align: top;\n",
       "    }\n",
       "\n",
       "    .dataframe thead th {\n",
       "        text-align: right;\n",
       "    }\n",
       "</style>\n",
       "<table border=\"1\" class=\"dataframe\">\n",
       "  <thead>\n",
       "    <tr style=\"text-align: right;\">\n",
       "      <th>debt</th>\n",
       "      <th>0</th>\n",
       "      <th>1</th>\n",
       "      <th>no_refund</th>\n",
       "      <th>refund</th>\n",
       "    </tr>\n",
       "    <tr>\n",
       "      <th>purpose</th>\n",
       "      <th></th>\n",
       "      <th></th>\n",
       "      <th></th>\n",
       "      <th></th>\n",
       "    </tr>\n",
       "  </thead>\n",
       "  <tbody>\n",
       "    <tr>\n",
       "      <td>автомобиль</td>\n",
       "      <td>3903</td>\n",
       "      <td>403</td>\n",
       "      <td>9.359034</td>\n",
       "      <td>90.640966</td>\n",
       "    </tr>\n",
       "    <tr>\n",
       "      <td>жилая_недвижимость</td>\n",
       "      <td>7083</td>\n",
       "      <td>539</td>\n",
       "      <td>7.071635</td>\n",
       "      <td>92.928365</td>\n",
       "    </tr>\n",
       "    <tr>\n",
       "      <td>коммерческая_недвижимость</td>\n",
       "      <td>1212</td>\n",
       "      <td>99</td>\n",
       "      <td>7.551487</td>\n",
       "      <td>92.448513</td>\n",
       "    </tr>\n",
       "    <tr>\n",
       "      <td>образование</td>\n",
       "      <td>3643</td>\n",
       "      <td>370</td>\n",
       "      <td>9.220035</td>\n",
       "      <td>90.779965</td>\n",
       "    </tr>\n",
       "    <tr>\n",
       "      <td>свадьба</td>\n",
       "      <td>2138</td>\n",
       "      <td>186</td>\n",
       "      <td>8.003442</td>\n",
       "      <td>91.996558</td>\n",
       "    </tr>\n",
       "    <tr>\n",
       "      <td>строительство</td>\n",
       "      <td>1734</td>\n",
       "      <td>144</td>\n",
       "      <td>7.667732</td>\n",
       "      <td>92.332268</td>\n",
       "    </tr>\n",
       "  </tbody>\n",
       "</table>\n",
       "</div>"
      ],
      "text/plain": [
       "debt                          0    1  no_refund     refund\n",
       "purpose                                                   \n",
       "автомобиль                 3903  403   9.359034  90.640966\n",
       "жилая_недвижимость         7083  539   7.071635  92.928365\n",
       "коммерческая_недвижимость  1212   99   7.551487  92.448513\n",
       "образование                3643  370   9.220035  90.779965\n",
       "свадьба                    2138  186   8.003442  91.996558\n",
       "строительство              1734  144   7.667732  92.332268"
      ]
     },
     "execution_count": 204,
     "metadata": {},
     "output_type": "execute_result"
    }
   ],
   "source": [
    "data_pivot_purpose = clients.pivot_table(index=['purpose'], columns='debt', values='dob_years', aggfunc='count')\n",
    "data_pivot_purpose['no_refund'] = 100 * data_pivot_purpose[1] / (data_pivot_purpose[0] +data_pivot_purpose[1])\n",
    "data_pivot_purpose['refund'] =  100 * data_pivot_purpose[0] / (data_pivot_purpose[0] +data_pivot_purpose[1])\n",
    "\n",
    "data_pivot_purpose"
   ]
  },
  {
   "cell_type": "markdown",
   "metadata": {},
   "source": [
    "### Вывод"
   ]
  },
  {
   "cell_type": "markdown",
   "metadata": {},
   "source": [
    "Процент возврата кредита в срок ниже, когда цель - покупка автомобиля (90,6%) или образование (90,8%). Лучше всего с возвратом кредита в срок, когда цель - покупка жилой недвижимости (92,9%), коммерческой недвижимости (92,5%), строительство недвижимости(92,3%) возможно, люди взявшие кредит лучше оценивают свои возможности и шансы всегда вовремя платить по кредиту. Если цель кредита - свадьба, процент возврата кредита в срок также достаточно высок - 92%"
   ]
  },
  {
   "cell_type": "markdown",
   "metadata": {},
   "source": [
    "### Шаг 4. Общий вывод"
   ]
  },
  {
   "cell_type": "markdown",
   "metadata": {},
   "source": [
    "В результате проделанной работы, было сделано следующее:\n",
    " - Заполнены пропуски в данных по доходам заполнены по среднему доходу каждой группы занятых. Аномальные значения в столбце трудовой стаж заменены из предположения, что при переносе данных из другого формата некоторые значения получились в часах, а не днях, после этого пропуски заменены на средние значения для каждой группы занятых;\n",
    " - удалены дубликаты, исправлены ошибки в данных\n",
    " - проведена лемматизация целей кредита\n"
   ]
  },
  {
   "cell_type": "markdown",
   "metadata": {},
   "source": [
    "#### Были установлены следующие закономерности:\n",
    " - Процент возврата кредита в срок выше у людей без детей.\n",
    " - Отсутствие задолженности по кредиту выше у вдовцов, у женатых и разведенных чуть ниже, самый низкий у неженатых и состоящих в гражданском браке.\n",
    " - Вероятность возврата кредита в срок выше у людей с самыми высоким и самыми низким уровнем дохода\n",
    " - Процент возврата кредита в срок ниже, когда цель - покупка автомобиля или образование. Лучше с возвратом кредита в срок обстоит, когда цель - покупка жилой недвижимости , коммерческой недвижимости строительство недвижимости и свадьба."
   ]
  }
 ],
 "metadata": {
  "kernelspec": {
   "display_name": "Python 3",
   "language": "python",
   "name": "python3"
  },
  "language_info": {
   "codemirror_mode": {
    "name": "ipython",
    "version": 3
   },
   "file_extension": ".py",
   "mimetype": "text/x-python",
   "name": "python",
   "nbconvert_exporter": "python",
   "pygments_lexer": "ipython3",
   "version": "3.7.6"
  }
 },
 "nbformat": 4,
 "nbformat_minor": 2
}
